{
 "cells": [
  {
   "cell_type": "markdown",
   "metadata": {},
   "source": [
    "## Image Metadata \n",
    "\n",
    "The following script checks if the geehydro package has been installed. If not, it will install geehydro, which automatically install its dependencies, including earthengine-api and folium."
   ]
  },
  {
   "cell_type": "code",
   "execution_count": 1,
   "metadata": {},
   "outputs": [],
   "source": [
    "import subprocess\n",
    "import geehydro"
   ]
  },
  {
   "cell_type": "markdown",
   "metadata": {},
   "source": [
    "Import libraries"
   ]
  },
  {
   "cell_type": "code",
   "execution_count": 2,
   "metadata": {},
   "outputs": [],
   "source": [
    "import ee\n",
    "import folium\n",
    "import geehydro"
   ]
  },
  {
   "cell_type": "markdown",
   "metadata": {},
   "source": [
    "Authenticate and initialize Earth Engine API. You only need to authenticate the Earth Engine API once. "
   ]
  },
  {
   "cell_type": "code",
   "execution_count": 3,
   "metadata": {},
   "outputs": [],
   "source": [
    "try:\n",
    "    ee.Initialize()\n",
    "except Exception as e:\n",
    "    ee.Authenticate()\n",
    "    ee.Initialize()"
   ]
  },
  {
   "cell_type": "markdown",
   "metadata": {},
   "source": [
    "## Create an interactive map \n",
    "This step creates an interactive map using [folium](https://github.com/python-visualization/folium). The default basemap is the OpenStreetMap. Additional basemaps can be added using the `Map.setOptions()` function. \n",
    "The optional basemaps can be `ROADMAP`, `SATELLITE`, `HYBRID`, `TERRAIN`, or `ESRI`."
   ]
  },
  {
   "cell_type": "code",
   "execution_count": 4,
   "metadata": {},
   "outputs": [],
   "source": [
    "Map = folium.Map(location=[40, -100], zoom_start=4)\n",
    "Map.setOptions('HYBRID')"
   ]
  },
  {
   "cell_type": "markdown",
   "metadata": {},
   "source": [
    "## Image Metadata"
   ]
  },
  {
   "cell_type": "code",
   "execution_count": 5,
   "metadata": {},
   "outputs": [
    {
     "name": "stdout",
     "output_type": "stream",
     "text": [
      "Band names:  ['B1', 'B2', 'B3', 'B4', 'B5', 'B6', 'B7', 'B8', 'B9', 'B10', 'B11', 'BQA']\n"
     ]
    }
   ],
   "source": [
    "image = ee.Image('LANDSAT/LC8_L1T/LC80440342014077LGN00')\n",
    "\n",
    "bandNames = image.bandNames()\n",
    "print('Band names: ', bandNames.getInfo()) # ee.List"
   ]
  },
  {
   "cell_type": "code",
   "execution_count": 8,
   "metadata": {},
   "outputs": [
    {
     "name": "stdout",
     "output_type": "stream",
     "text": [
      "Band 1 projection:  {'type': 'Projection', 'crs': 'EPSG:32610', 'transform': [30, 0, 460485, 0, -30, 4264515]}\n"
     ]
    }
   ],
   "source": [
    "b1proj = image.select('B1').projection()\n",
    "print('Band 1 projection: ', b1proj.getInfo()) # ee.Projection"
   ]
  },
  {
   "cell_type": "code",
   "execution_count": 9,
   "metadata": {},
   "outputs": [
    {
     "name": "stdout",
     "output_type": "stream",
     "text": [
      "Band 1 scale:  30\n"
     ]
    }
   ],
   "source": [
    "b1scale = image.select('B1').projection().nominalScale()\n",
    "print('Band 1 scale: ', b1scale.getInfo()) # ee.Number ## unit in meters "
   ]
  },
  {
   "cell_type": "code",
   "execution_count": 10,
   "metadata": {},
   "outputs": [
    {
     "name": "stdout",
     "output_type": "stream",
     "text": [
      "Band 8 scale:  15\n"
     ]
    }
   ],
   "source": [
    "b8scale = image.select('B8').projection().nominalScale()\n",
    "print('Band 8 scale: ', b8scale.getInfo()) # ee.Number"
   ]
  },
  {
   "cell_type": "code",
   "execution_count": 11,
   "metadata": {},
   "outputs": [
    {
     "name": "stdout",
     "output_type": "stream",
     "text": [
      "Metadata properties:  ['RADIANCE_MULT_BAND_5', 'RADIANCE_MULT_BAND_6', 'RADIANCE_MULT_BAND_3', 'RADIANCE_MULT_BAND_4', 'RADIANCE_MULT_BAND_1', 'RADIANCE_MULT_BAND_2', 'system:id', 'K2_CONSTANT_BAND_11', 'K2_CONSTANT_BAND_10', 'system:footprint', 'REFLECTIVE_SAMPLES', 'SUN_AZIMUTH', 'CORNER_UL_PROJECTION_Y_PRODUCT', 'CPF_NAME', 'CORNER_LR_PROJECTION_Y_PRODUCT', 'DATE_ACQUIRED', 'ELLIPSOID', 'google:registration_offset_x', 'google:registration_offset_y', 'STATION_ID', 'RESAMPLING_OPTION', 'RADIANCE_MINIMUM_BAND_11', 'RADIANCE_MINIMUM_BAND_10', 'ORIENTATION', 'WRS_ROW', 'RADIANCE_MULT_BAND_9', 'TARGET_WRS_ROW', 'RADIANCE_MULT_BAND_7', 'RADIANCE_MULT_BAND_8', 'IMAGE_QUALITY_TIRS', 'QUANTIZE_CAL_MIN_BAND_9', 'QUANTIZE_CAL_MIN_BAND_8', 'QUANTIZE_CAL_MIN_BAND_7', 'QUANTIZE_CAL_MIN_BAND_6', 'QUANTIZE_CAL_MIN_BAND_5', 'CLOUD_COVER', 'QUANTIZE_CAL_MIN_BAND_4', 'QUANTIZE_CAL_MIN_BAND_3', 'QUANTIZE_CAL_MIN_BAND_2', 'QUANTIZE_CAL_MIN_BAND_1', 'GEOMETRIC_RMSE_VERIFY', 'CORNER_LL_LON_PRODUCT', 'CORNER_LR_LON_PRODUCT', 'GRID_CELL_SIZE_REFLECTIVE', 'RADIANCE_MAXIMUM_BAND_9', 'ORIGIN', 'RADIANCE_MAXIMUM_BAND_8', 'RADIANCE_MAXIMUM_BAND_7', 'RADIANCE_MAXIMUM_BAND_2', 'RADIANCE_MAXIMUM_BAND_1', 'RADIANCE_MAXIMUM_BAND_6', 'GEOMETRIC_RMSE_MODEL', 'RADIANCE_MAXIMUM_BAND_5', 'RADIANCE_MAXIMUM_BAND_4', 'RADIANCE_MAXIMUM_BAND_3', 'QUANTIZE_CAL_MAX_BAND_10', 'IMAGE_QUALITY_OLI', 'LANDSAT_SCENE_ID', 'WRS_PATH', 'google:registration_count', 'PANCHROMATIC_SAMPLES', 'PANCHROMATIC_LINES', 'REFLECTANCE_MAXIMUM_BAND_8', 'REFLECTANCE_MAXIMUM_BAND_9', 'RADIANCE_MAXIMUM_BAND_11', 'RADIANCE_MAXIMUM_BAND_10', 'CORNER_LL_LAT_PRODUCT', 'GEOMETRIC_RMSE_MODEL_Y', 'REFLECTIVE_LINES', 'GEOMETRIC_RMSE_MODEL_X', 'catalog_cloud_cover', 'system:asset_size', 'QUANTIZE_CAL_MAX_BAND_11', 'system:index', 'CORNER_LL_PROJECTION_Y_PRODUCT', 'CORNER_UL_LON_PRODUCT', 'REFLECTANCE_MAXIMUM_BAND_2', 'REFLECTANCE_MAXIMUM_BAND_3', 'CORNER_UR_LON_PRODUCT', 'REFLECTANCE_MAXIMUM_BAND_1', 'REFLECTANCE_MAXIMUM_BAND_6', 'REFLECTANCE_MAXIMUM_BAND_7', 'REFLECTANCE_MAXIMUM_BAND_4', 'REFLECTANCE_MAXIMUM_BAND_5', 'REFLECTANCE_ADD_BAND_1', 'REFLECTANCE_ADD_BAND_2', 'CORNER_LR_LAT_PRODUCT', 'DATUM', 'REFLECTANCE_ADD_BAND_3', 'REFLECTANCE_ADD_BAND_4', 'RLUT_FILE_NAME', 'REFLECTANCE_ADD_BAND_5', 'REFLECTANCE_ADD_BAND_6', 'REFLECTANCE_ADD_BAND_7', 'REFLECTANCE_ADD_BAND_8', 'BPF_NAME_TIRS', 'system:version', 'DATA_TYPE', 'UTM_ZONE', 'system:time_end', 'REFLECTANCE_ADD_BAND_9', 'google:registration_ratio', 'GRID_CELL_SIZE_PANCHROMATIC', 'google:cloud_storage_path', 'RADIANCE_ADD_BAND_4', 'REFLECTANCE_MULT_BAND_7', 'system:time_start', 'RADIANCE_ADD_BAND_5', 'REFLECTANCE_MULT_BAND_6', 'RADIANCE_ADD_BAND_6', 'REFLECTANCE_MULT_BAND_9', 'PROCESSING_SOFTWARE_VERSION', 'RADIANCE_ADD_BAND_7', 'REFLECTANCE_MULT_BAND_8', 'RADIANCE_ADD_BAND_1', 'RADIANCE_ADD_BAND_2', 'RADIANCE_ADD_BAND_3', 'CORNER_UR_PROJECTION_Y_PRODUCT', 'REFLECTANCE_MULT_BAND_1', 'RADIANCE_ADD_BAND_8', 'REFLECTANCE_MULT_BAND_3', 'RADIANCE_ADD_BAND_9', 'REFLECTANCE_MULT_BAND_2', 'REFLECTANCE_MULT_BAND_5', 'REFLECTANCE_MULT_BAND_4', 'THERMAL_LINES', 'QUANTIZE_CAL_MAX_BAND_7', 'QUANTIZE_CAL_MAX_BAND_6', 'GRID_CELL_SIZE_THERMAL', 'QUANTIZE_CAL_MAX_BAND_5', 'QUANTIZE_CAL_MAX_BAND_4', 'QUANTIZE_CAL_MAX_BAND_3', 'QUANTIZE_CAL_MAX_BAND_2', 'QUANTIZE_CAL_MAX_BAND_1', 'catalog_image_quality1', 'NADIR_OFFNADIR', 'RADIANCE_ADD_BAND_11', 'REFLECTANCE_MINIMUM_BAND_8', 'CORNER_UR_LAT_PRODUCT', 'REFLECTANCE_MINIMUM_BAND_9', 'REFLECTANCE_MINIMUM_BAND_6', 'CORNER_LL_PROJECTION_X_PRODUCT', 'REFLECTANCE_MINIMUM_BAND_7', 'REQUEST_ID', 'EARTH_SUN_DISTANCE', 'QUANTIZE_CAL_MAX_BAND_9', 'FILE_DATE', 'QUANTIZE_CAL_MAX_BAND_8', 'SCENE_CENTER_TIME', 'REFLECTANCE_MINIMUM_BAND_1', 'SUN_ELEVATION', 'BPF_NAME_OLI', 'CORNER_UL_PROJECTION_X_PRODUCT', 'RADIANCE_MINIMUM_BAND_4', 'REFLECTANCE_MINIMUM_BAND_4', 'RADIANCE_MINIMUM_BAND_3', 'REFLECTANCE_MINIMUM_BAND_5', 'RADIANCE_MINIMUM_BAND_2', 'REFLECTANCE_MINIMUM_BAND_2', 'RADIANCE_ADD_BAND_10', 'RADIANCE_MINIMUM_BAND_1', 'REFLECTANCE_MINIMUM_BAND_3', 'RADIANCE_MINIMUM_BAND_8', 'RADIANCE_MINIMUM_BAND_7', 'RADIANCE_MINIMUM_BAND_6', 'RADIANCE_MINIMUM_BAND_5', 'CORNER_UL_LAT_PRODUCT', 'ROLL_ANGLE', 'RADIANCE_MINIMUM_BAND_9', 'K1_CONSTANT_BAND_10', 'MAP_PROJECTION', 'SENSOR_ID', 'K1_CONSTANT_BAND_11', 'TARGET_WRS_PATH', 'RADIANCE_MULT_BAND_11', 'CORNER_LR_PROJECTION_X_PRODUCT', 'RADIANCE_MULT_BAND_10', 'GROUND_CONTROL_POINTS_MODEL', 'QUANTIZE_CAL_MIN_BAND_11', 'QUANTIZE_CAL_MIN_BAND_10', 'SPACECRAFT_ID', 'CORNER_UR_PROJECTION_X_PRODUCT', 'ELEVATION_SOURCE', 'THERMAL_SAMPLES', 'GROUND_CONTROL_POINTS_VERIFY', 'system:bands', 'system:band_names']\n"
     ]
    }
   ],
   "source": [
    "properties = image.propertyNames()\n",
    "print('Metadata properties: ', properties.getInfo()) # ee.List"
   ]
  },
  {
   "cell_type": "code",
   "execution_count": 12,
   "metadata": {},
   "outputs": [
    {
     "name": "stdout",
     "output_type": "stream",
     "text": [
      "CLOUD_COVER:  0.3400000035762787\n"
     ]
    }
   ],
   "source": [
    "## cloud cover information \n",
    "cloudiness = image.get('CLOUD_COVER')\n",
    "print('CLOUD_COVER: ', cloudiness.getInfo()) # ee.Number"
   ]
  },
  {
   "cell_type": "code",
   "execution_count": 13,
   "metadata": {},
   "outputs": [
    {
     "name": "stdout",
     "output_type": "stream",
     "text": [
      "Timestamp:  {'type': 'Date', 'value': 1395168392055}\n"
     ]
    }
   ],
   "source": [
    "date = ee.Date(image.get('system:time_start'))\n",
    "print('Timestamp: ', date.getInfo()) # ee.Date"
   ]
  },
  {
   "cell_type": "code",
   "execution_count": null,
   "metadata": {},
   "outputs": [],
   "source": []
  }
 ],
 "metadata": {
  "anaconda-cloud": {},
  "kernelspec": {
   "display_name": "Python 3 (ipykernel)",
   "language": "python",
   "name": "python3"
  },
  "language_info": {
   "codemirror_mode": {
    "name": "ipython",
    "version": 3
   },
   "file_extension": ".py",
   "mimetype": "text/x-python",
   "name": "python",
   "nbconvert_exporter": "python",
   "pygments_lexer": "ipython3",
   "version": "3.7.11"
  }
 },
 "nbformat": 4,
 "nbformat_minor": 1
}
