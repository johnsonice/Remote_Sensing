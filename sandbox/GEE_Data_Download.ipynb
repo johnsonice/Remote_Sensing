{
 "cells": [
  {
   "cell_type": "markdown",
   "id": "8f1e9478",
   "metadata": {},
   "source": [
    "## Downlaod Data From GEE"
   ]
  },
  {
   "cell_type": "code",
   "execution_count": 2,
   "id": "a1b7b858",
   "metadata": {
    "tags": []
   },
   "outputs": [
    {
     "data": {
      "text/html": [
       "<p>To authorize access needed by Earth Engine, open the following\n",
       "        URL in a web browser and follow the instructions:</p>\n",
       "        <p><a href=https://code.earthengine.google.com/client-auth?scopes=https%3A//www.googleapis.com/auth/earthengine%20https%3A//www.googleapis.com/auth/devstorage.full_control&request_id=LOn_39D_dHKhvNFlQB5V0-LHnY4PJV2D89lkUtJN6zM&tc=n5sQRiiL7lsbj2txCOmm2b_Zss50p1zeTwlP7FuDpv8&cc=lgNin1P3N0BKvXXnbPHbL8f15-dSRXizuYRcRFFnTyU>https://code.earthengine.google.com/client-auth?scopes=https%3A//www.googleapis.com/auth/earthengine%20https%3A//www.googleapis.com/auth/devstorage.full_control&request_id=LOn_39D_dHKhvNFlQB5V0-LHnY4PJV2D89lkUtJN6zM&tc=n5sQRiiL7lsbj2txCOmm2b_Zss50p1zeTwlP7FuDpv8&cc=lgNin1P3N0BKvXXnbPHbL8f15-dSRXizuYRcRFFnTyU</a></p>\n",
       "        <p>The authorization workflow will generate a code, which you\n",
       "        should paste in the box below</p>\n",
       "        "
      ],
      "text/plain": [
       "<IPython.core.display.HTML object>"
      ]
     },
     "metadata": {},
     "output_type": "display_data"
    },
    {
     "name": "stdin",
     "output_type": "stream",
     "text": [
      "Enter verification code:  4/1AX4XfWg8BUSWCPW6OsImngrd9s3-wKM8gTGM4OYjhEcDBynU9adHJicpm6I\n"
     ]
    },
    {
     "name": "stdout",
     "output_type": "stream",
     "text": [
      "\n",
      "Successfully saved authorization token.\n"
     ]
    }
   ],
   "source": [
    "import ee\n",
    "ee.Authenticate()"
   ]
  },
  {
   "cell_type": "code",
   "execution_count": 10,
   "id": "0a8c1e76-5263-4481-b487-994c44c68cb2",
   "metadata": {},
   "outputs": [],
   "source": [
    "ee.Initialize()"
   ]
  },
  {
   "cell_type": "code",
   "execution_count": 11,
   "id": "e064ce1a-06d4-4c91-b62b-d168b871b508",
   "metadata": {},
   "outputs": [],
   "source": [
    "from download_utils import Mapdisplay\n",
    "import folium\n",
    "import geehydro\n",
    "import time \n",
    "import pandas as pd\n",
    "import numpy as np"
   ]
  },
  {
   "cell_type": "code",
   "execution_count": 12,
   "id": "03222d66-671f-4b8c-8ae9-26f8785eb8dd",
   "metadata": {},
   "outputs": [],
   "source": [
    "def _get_test_image():\n",
    "    l8 = ee.ImageCollection('LANDSAT/LC08/C01/T1')\n",
    "    countries = ee.FeatureCollection(\"USDOS/LSIB_SIMPLE/2017\");\n",
    "    Country = countries.filter(ee.Filter.eq(\"country_co\",\"BF\")); #try the bahamas\n",
    "    \n",
    "    landsat = l8.filterDate('2019-01-01', '2019-10-31') \\\n",
    "                .filterBounds(Country) \n",
    "    \n",
    "    ## this is a cloud masking method in EE\n",
    "    composite = ee.Algorithms.Landsat.simpleComposite(**{\n",
    "      'collection': landsat,\n",
    "      'asFloat': True\n",
    "    })\n",
    "    \n",
    "    return composite"
   ]
  },
  {
   "cell_type": "code",
   "execution_count": 13,
   "id": "40315cbe-fcda-4ea8-bdf4-dfbcefc8aed4",
   "metadata": {},
   "outputs": [
    {
     "data": {
      "text/html": [
       "<div style=\"width:100%;\"><div style=\"position:relative;width:100%;height:0;padding-bottom:60%;\"><span style=\"color:#565656\">Make this Notebook Trusted to load map: File -> Trust Notebook</span><iframe srcdoc=\"&lt;!DOCTYPE html&gt;\n",
       "&lt;head&gt;    \n",
       "    &lt;meta http-equiv=&quot;content-type&quot; content=&quot;text/html; charset=UTF-8&quot; /&gt;\n",
       "    \n",
       "        &lt;script&gt;\n",
       "            L_NO_TOUCH = false;\n",
       "            L_DISABLE_3D = false;\n",
       "        &lt;/script&gt;\n",
       "    \n",
       "    &lt;style&gt;html, body {width: 100%;height: 100%;margin: 0;padding: 0;}&lt;/style&gt;\n",
       "    &lt;style&gt;#map {position:absolute;top:0;bottom:0;right:0;left:0;}&lt;/style&gt;\n",
       "    &lt;script src=&quot;https://cdn.jsdelivr.net/npm/leaflet@1.6.0/dist/leaflet.js&quot;&gt;&lt;/script&gt;\n",
       "    &lt;script src=&quot;https://code.jquery.com/jquery-1.12.4.min.js&quot;&gt;&lt;/script&gt;\n",
       "    &lt;script src=&quot;https://maxcdn.bootstrapcdn.com/bootstrap/3.2.0/js/bootstrap.min.js&quot;&gt;&lt;/script&gt;\n",
       "    &lt;script src=&quot;https://cdnjs.cloudflare.com/ajax/libs/Leaflet.awesome-markers/2.0.2/leaflet.awesome-markers.js&quot;&gt;&lt;/script&gt;\n",
       "    &lt;link rel=&quot;stylesheet&quot; href=&quot;https://cdn.jsdelivr.net/npm/leaflet@1.6.0/dist/leaflet.css&quot;/&gt;\n",
       "    &lt;link rel=&quot;stylesheet&quot; href=&quot;https://maxcdn.bootstrapcdn.com/bootstrap/3.2.0/css/bootstrap.min.css&quot;/&gt;\n",
       "    &lt;link rel=&quot;stylesheet&quot; href=&quot;https://maxcdn.bootstrapcdn.com/bootstrap/3.2.0/css/bootstrap-theme.min.css&quot;/&gt;\n",
       "    &lt;link rel=&quot;stylesheet&quot; href=&quot;https://maxcdn.bootstrapcdn.com/font-awesome/4.6.3/css/font-awesome.min.css&quot;/&gt;\n",
       "    &lt;link rel=&quot;stylesheet&quot; href=&quot;https://cdnjs.cloudflare.com/ajax/libs/Leaflet.awesome-markers/2.0.2/leaflet.awesome-markers.css&quot;/&gt;\n",
       "    &lt;link rel=&quot;stylesheet&quot; href=&quot;https://cdn.jsdelivr.net/gh/python-visualization/folium/folium/templates/leaflet.awesome.rotate.min.css&quot;/&gt;\n",
       "    \n",
       "            &lt;meta name=&quot;viewport&quot; content=&quot;width=device-width,\n",
       "                initial-scale=1.0, maximum-scale=1.0, user-scalable=no&quot; /&gt;\n",
       "            &lt;style&gt;\n",
       "                #map_555973a935226f4cc4de6e9e0c945db3 {\n",
       "                    position: relative;\n",
       "                    width: 100.0%;\n",
       "                    height: 100.0%;\n",
       "                    left: 0.0%;\n",
       "                    top: 0.0%;\n",
       "                }\n",
       "            &lt;/style&gt;\n",
       "        \n",
       "    &lt;script src=&quot;https://cdnjs.cloudflare.com/ajax/libs/leaflet.fullscreen/1.4.2/Control.FullScreen.min.js&quot;&gt;&lt;/script&gt;\n",
       "    &lt;link rel=&quot;stylesheet&quot; href=&quot;https://cdnjs.cloudflare.com/ajax/libs/leaflet.fullscreen/1.4.2/Control.FullScreen.min.css&quot;/&gt;\n",
       "&lt;/head&gt;\n",
       "&lt;body&gt;    \n",
       "    \n",
       "            &lt;div class=&quot;folium-map&quot; id=&quot;map_555973a935226f4cc4de6e9e0c945db3&quot; &gt;&lt;/div&gt;\n",
       "        \n",
       "&lt;/body&gt;\n",
       "&lt;script&gt;    \n",
       "    \n",
       "            var map_555973a935226f4cc4de6e9e0c945db3 = L.map(\n",
       "                &quot;map_555973a935226f4cc4de6e9e0c945db3&quot;,\n",
       "                {\n",
       "                    center: [40.0, -100.0],\n",
       "                    crs: L.CRS.EPSG3857,\n",
       "                    zoom: 4,\n",
       "                    zoomControl: true,\n",
       "                    preferCanvas: false,\n",
       "                }\n",
       "            );\n",
       "\n",
       "            \n",
       "\n",
       "        \n",
       "    \n",
       "            var tile_layer_d7a96fe526fffa00625350d073204a2d = L.tileLayer(\n",
       "                &quot;https://{s}.tile.openstreetmap.org/{z}/{x}/{y}.png&quot;,\n",
       "                {&quot;attribution&quot;: &quot;Data by \\u0026copy; \\u003ca href=\\&quot;http://openstreetmap.org\\&quot;\\u003eOpenStreetMap\\u003c/a\\u003e, under \\u003ca href=\\&quot;http://www.openstreetmap.org/copyright\\&quot;\\u003eODbL\\u003c/a\\u003e.&quot;, &quot;detectRetina&quot;: false, &quot;maxNativeZoom&quot;: 18, &quot;maxZoom&quot;: 18, &quot;minZoom&quot;: 0, &quot;noWrap&quot;: false, &quot;opacity&quot;: 1, &quot;subdomains&quot;: &quot;abc&quot;, &quot;tms&quot;: false}\n",
       "            ).addTo(map_555973a935226f4cc4de6e9e0c945db3);\n",
       "        \n",
       "    \n",
       "            var tile_layer_5687ad23f14ff4a6978ec0543b79ca57 = L.tileLayer(\n",
       "                &quot;https://earthengine.googleapis.com/v1alpha/projects/earthengine-legacy/maps/badd140bc14f72746cef8111dc406d3b-0aaf260f0e4f131090b898980d329a98/tiles/{z}/{x}/{y}&quot;,\n",
       "                {&quot;attribution&quot;: &quot;Google Earth Engine&quot;, &quot;detectRetina&quot;: false, &quot;maxNativeZoom&quot;: 18, &quot;maxZoom&quot;: 18, &quot;minZoom&quot;: 0, &quot;noWrap&quot;: false, &quot;opacity&quot;: 1, &quot;subdomains&quot;: &quot;abc&quot;, &quot;tms&quot;: false}\n",
       "            ).addTo(map_555973a935226f4cc4de6e9e0c945db3);\n",
       "        \n",
       "    \n",
       "            map_555973a935226f4cc4de6e9e0c945db3.fitBounds(\n",
       "                [[24.198462877644314, -76.5116308035104], [24.198462877644314, -76.5116308035104]],\n",
       "                {&quot;maxZoom&quot;: 4}\n",
       "            );\n",
       "        \n",
       "    \n",
       "            var layer_control_9588a6e798354a0a66d909f0d73ac882 = {\n",
       "                base_layers : {\n",
       "                    &quot;openstreetmap&quot; : tile_layer_d7a96fe526fffa00625350d073204a2d,\n",
       "                },\n",
       "                overlays :  {\n",
       "                    &quot;RGB&quot; : tile_layer_5687ad23f14ff4a6978ec0543b79ca57,\n",
       "                },\n",
       "            };\n",
       "            L.control.layers(\n",
       "                layer_control_9588a6e798354a0a66d909f0d73ac882.base_layers,\n",
       "                layer_control_9588a6e798354a0a66d909f0d73ac882.overlays,\n",
       "                {&quot;autoZIndex&quot;: true, &quot;collapsed&quot;: true, &quot;position&quot;: &quot;topright&quot;}\n",
       "            ).addTo(map_555973a935226f4cc4de6e9e0c945db3);\n",
       "        \n",
       "    \n",
       "            L.control.fullscreen(\n",
       "                {&quot;forceSeparateButton&quot;: false, &quot;position&quot;: &quot;topleft&quot;, &quot;title&quot;: &quot;Full Screen&quot;, &quot;titleCancel&quot;: &quot;Exit Full Screen&quot;}\n",
       "            ).addTo(map_555973a935226f4cc4de6e9e0c945db3);\n",
       "        \n",
       "    \n",
       "                var lat_lng_popup_36e4787987738c8c198c8e9689eb2bc6 = L.popup();\n",
       "                function latLngPop(e) {\n",
       "                    lat_lng_popup_36e4787987738c8c198c8e9689eb2bc6\n",
       "                        .setLatLng(e.latlng)\n",
       "                        .setContent(&quot;Latitude: &quot; + e.latlng.lat.toFixed(4) +\n",
       "                                    &quot;&lt;br&gt;Longitude: &quot; + e.latlng.lng.toFixed(4))\n",
       "                        .openOn(map_555973a935226f4cc4de6e9e0c945db3);\n",
       "                    }\n",
       "                map_555973a935226f4cc4de6e9e0c945db3.on(&#x27;click&#x27;, latLngPop);\n",
       "            \n",
       "&lt;/script&gt;\" style=\"position:absolute;width:100%;height:100%;left:0;top:0;border:none !important;\" allowfullscreen webkitallowfullscreen mozallowfullscreen></iframe></div></div>"
      ],
      "text/plain": [
       "<folium.folium.Map at 0x7ff672b13b90>"
      ]
     },
     "execution_count": 13,
     "metadata": {},
     "output_type": "execute_result"
    }
   ],
   "source": [
    "c = _get_test_image()\n",
    "countries = ee.FeatureCollection(\"USDOS/LSIB_SIMPLE/2017\");\n",
    "Country = countries.filter(ee.Filter.eq(\"country_co\",\"BF\"))\n",
    "rgbVis = {'bands': [\"B4\", \"B3\", \"B2\"], 'min':0, 'max': 0.3}\n",
    "Map = folium.Map(location=[40, -100], zoom_start=4)\n",
    "#Map.setOptions('SATELLITE')\n",
    "Map.addLayer(c, rgbVis, \"RGB\")\n",
    "Map.centerObject(Country, 4)\n",
    "Map.setControlVisibility(layerControl=True, fullscreenControl=True, latLngPopup=True)\n",
    "Map"
   ]
  },
  {
   "cell_type": "code",
   "execution_count": 15,
   "id": "aa09d414-3dd2-4db6-a5c8-bca63330e610",
   "metadata": {},
   "outputs": [
    {
     "name": "stdout",
     "output_type": "stream",
     "text": [
      "Polling for task (id: EK34GDSOFOJHUXLN7DAW6TS5).\n",
      "Polling for task (id: EK34GDSOFOJHUXLN7DAW6TS5).\n",
      "Polling for task (id: EK34GDSOFOJHUXLN7DAW6TS5).\n",
      "{'state': 'COMPLETED', 'description': 'test', 'creation_timestamp_ms': 1651803900593, 'update_timestamp_ms': 1651803955492, 'start_timestamp_ms': 1651803930317, 'task_type': 'EXPORT_IMAGE', 'destination_uris': ['https://drive.google.com/#folders/1IlG_KVAL6C3W9xrswbswFBRKjve2YXSu'], 'attempt': 1, 'id': 'EK34GDSOFOJHUXLN7DAW6TS5', 'name': 'projects/earthengine-legacy/operations/EK34GDSOFOJHUXLN7DAW6TS5'}\n"
     ]
    }
   ],
   "source": [
    "# Export the image, specifying scale and region.\n",
    "task = ee.batch.Export.image.toDrive(**{\n",
    "    'image': c.toFloat(),\n",
    "    'description': 'test',\n",
    "    'folder':'GEE_Resources_Raw',   ## it will create a folder an dump the image there \n",
    "    #'scale': scale,\n",
    "    #'crs': projection['crs'],\n",
    "    #'crsTransform': projection['transform'],\n",
    "    'region': Country.geometry(),\n",
    "    'fileFormat': 'GeoTIFF',\n",
    "    'maxPixels':1e13,\n",
    "})\n",
    "task.start()\n",
    "\n",
    "while task.active():\n",
    "  print('Polling for task (id: {}).'.format(task.id))\n",
    "  time.sleep(20)\n",
    "    \n",
    "print(task.status())"
   ]
  },
  {
   "cell_type": "code",
   "execution_count": 6,
   "id": "e0f4e09a-680a-4789-967f-e803eb4c7ea0",
   "metadata": {},
   "outputs": [],
   "source": [
    "l8 = ee.ImageCollection('LANDSAT/LC08/C01/T1')\n",
    "countries = ee.FeatureCollection(\"USDOS/LSIB_SIMPLE/2017\");\n",
    "Country = countries.filter(ee.Filter.eq(\"country_na\",\"China\"));\n",
    "\n",
    "landsat = l8.filterDate('2019-01-01', '2019-10-31') \\\n",
    "            .filterBounds(Country) \n",
    "\n",
    "## this is a cloud masking method in EE\n",
    "composite = ee.Algorithms.Landsat.simpleComposite(**{\n",
    "  'collection': landsat,\n",
    "  'asFloat': True\n",
    "})\n",
    "## add layer info\n",
    "rgbVis = {'bands': [\"B4\", \"B3\", \"B2\"], 'min':0, 'max': 0.3}"
   ]
  },
  {
   "cell_type": "code",
   "execution_count": null,
   "id": "7f8e9466-18d9-44b8-9502-9496563123c0",
   "metadata": {},
   "outputs": [],
   "source": []
  },
  {
   "cell_type": "code",
   "execution_count": 7,
   "id": "6f9804c8-4cfa-4c36-92d0-fbdb9b1ab654",
   "metadata": {},
   "outputs": [
    {
     "data": {
      "text/html": [
       "<div style=\"width:100%;\"><div style=\"position:relative;width:100%;height:0;padding-bottom:60%;\"><span style=\"color:#565656\">Make this Notebook Trusted to load map: File -> Trust Notebook</span><iframe srcdoc=\"&lt;!DOCTYPE html&gt;\n",
       "&lt;head&gt;    \n",
       "    &lt;meta http-equiv=&quot;content-type&quot; content=&quot;text/html; charset=UTF-8&quot; /&gt;\n",
       "    \n",
       "        &lt;script&gt;\n",
       "            L_NO_TOUCH = false;\n",
       "            L_DISABLE_3D = false;\n",
       "        &lt;/script&gt;\n",
       "    \n",
       "    &lt;style&gt;html, body {width: 100%;height: 100%;margin: 0;padding: 0;}&lt;/style&gt;\n",
       "    &lt;style&gt;#map {position:absolute;top:0;bottom:0;right:0;left:0;}&lt;/style&gt;\n",
       "    &lt;script src=&quot;https://cdn.jsdelivr.net/npm/leaflet@1.6.0/dist/leaflet.js&quot;&gt;&lt;/script&gt;\n",
       "    &lt;script src=&quot;https://code.jquery.com/jquery-1.12.4.min.js&quot;&gt;&lt;/script&gt;\n",
       "    &lt;script src=&quot;https://maxcdn.bootstrapcdn.com/bootstrap/3.2.0/js/bootstrap.min.js&quot;&gt;&lt;/script&gt;\n",
       "    &lt;script src=&quot;https://cdnjs.cloudflare.com/ajax/libs/Leaflet.awesome-markers/2.0.2/leaflet.awesome-markers.js&quot;&gt;&lt;/script&gt;\n",
       "    &lt;link rel=&quot;stylesheet&quot; href=&quot;https://cdn.jsdelivr.net/npm/leaflet@1.6.0/dist/leaflet.css&quot;/&gt;\n",
       "    &lt;link rel=&quot;stylesheet&quot; href=&quot;https://maxcdn.bootstrapcdn.com/bootstrap/3.2.0/css/bootstrap.min.css&quot;/&gt;\n",
       "    &lt;link rel=&quot;stylesheet&quot; href=&quot;https://maxcdn.bootstrapcdn.com/bootstrap/3.2.0/css/bootstrap-theme.min.css&quot;/&gt;\n",
       "    &lt;link rel=&quot;stylesheet&quot; href=&quot;https://maxcdn.bootstrapcdn.com/font-awesome/4.6.3/css/font-awesome.min.css&quot;/&gt;\n",
       "    &lt;link rel=&quot;stylesheet&quot; href=&quot;https://cdnjs.cloudflare.com/ajax/libs/Leaflet.awesome-markers/2.0.2/leaflet.awesome-markers.css&quot;/&gt;\n",
       "    &lt;link rel=&quot;stylesheet&quot; href=&quot;https://cdn.jsdelivr.net/gh/python-visualization/folium/folium/templates/leaflet.awesome.rotate.min.css&quot;/&gt;\n",
       "    \n",
       "            &lt;meta name=&quot;viewport&quot; content=&quot;width=device-width,\n",
       "                initial-scale=1.0, maximum-scale=1.0, user-scalable=no&quot; /&gt;\n",
       "            &lt;style&gt;\n",
       "                #map_994eac5b333be8bb3e3a84e824a3e5e7 {\n",
       "                    position: relative;\n",
       "                    width: 100.0%;\n",
       "                    height: 100.0%;\n",
       "                    left: 0.0%;\n",
       "                    top: 0.0%;\n",
       "                }\n",
       "            &lt;/style&gt;\n",
       "        \n",
       "    &lt;script src=&quot;https://cdnjs.cloudflare.com/ajax/libs/leaflet.fullscreen/1.4.2/Control.FullScreen.min.js&quot;&gt;&lt;/script&gt;\n",
       "    &lt;link rel=&quot;stylesheet&quot; href=&quot;https://cdnjs.cloudflare.com/ajax/libs/leaflet.fullscreen/1.4.2/Control.FullScreen.min.css&quot;/&gt;\n",
       "&lt;/head&gt;\n",
       "&lt;body&gt;    \n",
       "    \n",
       "            &lt;div class=&quot;folium-map&quot; id=&quot;map_994eac5b333be8bb3e3a84e824a3e5e7&quot; &gt;&lt;/div&gt;\n",
       "        \n",
       "&lt;/body&gt;\n",
       "&lt;script&gt;    \n",
       "    \n",
       "            var map_994eac5b333be8bb3e3a84e824a3e5e7 = L.map(\n",
       "                &quot;map_994eac5b333be8bb3e3a84e824a3e5e7&quot;,\n",
       "                {\n",
       "                    center: [40.0, -100.0],\n",
       "                    crs: L.CRS.EPSG3857,\n",
       "                    zoom: 4,\n",
       "                    zoomControl: true,\n",
       "                    preferCanvas: false,\n",
       "                }\n",
       "            );\n",
       "\n",
       "            \n",
       "\n",
       "        \n",
       "    \n",
       "            var tile_layer_71773eb9e27d22948e4dc59c2c6bb429 = L.tileLayer(\n",
       "                &quot;https://{s}.tile.openstreetmap.org/{z}/{x}/{y}.png&quot;,\n",
       "                {&quot;attribution&quot;: &quot;Data by \\u0026copy; \\u003ca href=\\&quot;http://openstreetmap.org\\&quot;\\u003eOpenStreetMap\\u003c/a\\u003e, under \\u003ca href=\\&quot;http://www.openstreetmap.org/copyright\\&quot;\\u003eODbL\\u003c/a\\u003e.&quot;, &quot;detectRetina&quot;: false, &quot;maxNativeZoom&quot;: 18, &quot;maxZoom&quot;: 18, &quot;minZoom&quot;: 0, &quot;noWrap&quot;: false, &quot;opacity&quot;: 1, &quot;subdomains&quot;: &quot;abc&quot;, &quot;tms&quot;: false}\n",
       "            ).addTo(map_994eac5b333be8bb3e3a84e824a3e5e7);\n",
       "        \n",
       "    \n",
       "            var tile_layer_09b3f1543ce7be29bfb27266db1b2664 = L.tileLayer(\n",
       "                &quot;https://earthengine.googleapis.com/v1alpha/projects/earthengine-legacy/maps/e3c79a6b7ac0dc097d3eb6405c3972fc-313298dc089802df14c9ac0405ca9df1/tiles/{z}/{x}/{y}&quot;,\n",
       "                {&quot;attribution&quot;: &quot;Google Earth Engine&quot;, &quot;detectRetina&quot;: false, &quot;maxNativeZoom&quot;: 18, &quot;maxZoom&quot;: 18, &quot;minZoom&quot;: 0, &quot;noWrap&quot;: false, &quot;opacity&quot;: 1, &quot;subdomains&quot;: &quot;abc&quot;, &quot;tms&quot;: false}\n",
       "            ).addTo(map_994eac5b333be8bb3e3a84e824a3e5e7);\n",
       "        \n",
       "    \n",
       "            map_994eac5b333be8bb3e3a84e824a3e5e7.fitBounds(\n",
       "                [[36.69523099495105, 103.47261667025596], [36.69523099495105, 103.47261667025596]],\n",
       "                {&quot;maxZoom&quot;: 4}\n",
       "            );\n",
       "        \n",
       "    \n",
       "            var layer_control_facb362cdb0da7b2c5cd5f68eb1405d3 = {\n",
       "                base_layers : {\n",
       "                    &quot;openstreetmap&quot; : tile_layer_71773eb9e27d22948e4dc59c2c6bb429,\n",
       "                },\n",
       "                overlays :  {\n",
       "                    &quot;RGB&quot; : tile_layer_09b3f1543ce7be29bfb27266db1b2664,\n",
       "                },\n",
       "            };\n",
       "            L.control.layers(\n",
       "                layer_control_facb362cdb0da7b2c5cd5f68eb1405d3.base_layers,\n",
       "                layer_control_facb362cdb0da7b2c5cd5f68eb1405d3.overlays,\n",
       "                {&quot;autoZIndex&quot;: true, &quot;collapsed&quot;: true, &quot;position&quot;: &quot;topright&quot;}\n",
       "            ).addTo(map_994eac5b333be8bb3e3a84e824a3e5e7);\n",
       "        \n",
       "    \n",
       "            L.control.fullscreen(\n",
       "                {&quot;forceSeparateButton&quot;: false, &quot;position&quot;: &quot;topleft&quot;, &quot;title&quot;: &quot;Full Screen&quot;, &quot;titleCancel&quot;: &quot;Exit Full Screen&quot;}\n",
       "            ).addTo(map_994eac5b333be8bb3e3a84e824a3e5e7);\n",
       "        \n",
       "    \n",
       "                var lat_lng_popup_b9f57984a6f5b138a39d3c9b23bb85a2 = L.popup();\n",
       "                function latLngPop(e) {\n",
       "                    lat_lng_popup_b9f57984a6f5b138a39d3c9b23bb85a2\n",
       "                        .setLatLng(e.latlng)\n",
       "                        .setContent(&quot;Latitude: &quot; + e.latlng.lat.toFixed(4) +\n",
       "                                    &quot;&lt;br&gt;Longitude: &quot; + e.latlng.lng.toFixed(4))\n",
       "                        .openOn(map_994eac5b333be8bb3e3a84e824a3e5e7);\n",
       "                    }\n",
       "                map_994eac5b333be8bb3e3a84e824a3e5e7.on(&#x27;click&#x27;, latLngPop);\n",
       "            \n",
       "&lt;/script&gt;\" style=\"position:absolute;width:100%;height:100%;left:0;top:0;border:none !important;\" allowfullscreen webkitallowfullscreen mozallowfullscreen></iframe></div></div>"
      ],
      "text/plain": [
       "<folium.folium.Map at 0x7ff6725d2790>"
      ]
     },
     "execution_count": 7,
     "metadata": {},
     "output_type": "execute_result"
    }
   ],
   "source": [
    "Map = folium.Map(location=[40, -100], zoom_start=4)\n",
    "#Map.setOptions('SATELLITE')\n",
    "Map.addLayer(composite, rgbVis, \"RGB\")\n",
    "Map.centerObject(Country, 4)\n",
    "Map.setControlVisibility(layerControl=True, fullscreenControl=True, latLngPopup=True)\n",
    "Map"
   ]
  },
  {
   "cell_type": "markdown",
   "id": "73e80c8b-90bb-494b-86c6-4596cc30c736",
   "metadata": {},
   "source": [
    "### Download One Country From L8"
   ]
  },
  {
   "cell_type": "code",
   "execution_count": 73,
   "id": "98167141-2396-4458-a845-c7238e0f3c70",
   "metadata": {},
   "outputs": [],
   "source": [
    "projection = composite.select('B2').projection().getInfo();"
   ]
  },
  {
   "cell_type": "code",
   "execution_count": 74,
   "id": "8d554e4f-a1fa-453e-b697-393b03aa7353",
   "metadata": {},
   "outputs": [
    {
     "data": {
      "text/plain": [
       "{'crs': 'EPSG:4326', 'transform': [1, 0, 0, 0, 1, 0], 'type': 'Projection'}"
      ]
     },
     "execution_count": 74,
     "metadata": {},
     "output_type": "execute_result"
    }
   ],
   "source": [
    "projection"
   ]
  },
  {
   "cell_type": "code",
   "execution_count": 75,
   "id": "a91cc7a6-bd1e-45f1-b8f6-e132110a60d9",
   "metadata": {},
   "outputs": [],
   "source": [
    "f_name = \"L8_Country\"\n",
    "scale = 30 ## usually 30 "
   ]
  },
  {
   "cell_type": "code",
   "execution_count": 31,
   "id": "9faf6d1a-b514-4bee-9af8-1f2ec0198e20",
   "metadata": {
    "collapsed": true,
    "jupyter": {
     "outputs_hidden": true
    },
    "tags": []
   },
   "outputs": [
    {
     "ename": "NameError",
     "evalue": "name 'composite' is not defined",
     "output_type": "error",
     "traceback": [
      "\u001b[0;31m---------------------------------------------------------------------------\u001b[0m",
      "\u001b[0;31mNameError\u001b[0m                                 Traceback (most recent call last)",
      "\u001b[0;32m/tmp/ipykernel_6182/2524809537.py\u001b[0m in \u001b[0;36m<module>\u001b[0;34m\u001b[0m\n\u001b[1;32m      1\u001b[0m \u001b[0;31m# Export the image, specifying scale and region.\u001b[0m\u001b[0;34m\u001b[0m\u001b[0;34m\u001b[0m\u001b[0;34m\u001b[0m\u001b[0m\n\u001b[1;32m      2\u001b[0m task = ee.batch.Export.image.toDrive(**{\n\u001b[0;32m----> 3\u001b[0;31m     \u001b[0;34m'image'\u001b[0m\u001b[0;34m:\u001b[0m \u001b[0mcomposite\u001b[0m\u001b[0;34m.\u001b[0m\u001b[0mtoFloat\u001b[0m\u001b[0;34m(\u001b[0m\u001b[0;34m)\u001b[0m\u001b[0;34m,\u001b[0m\u001b[0;34m\u001b[0m\u001b[0;34m\u001b[0m\u001b[0m\n\u001b[0m\u001b[1;32m      4\u001b[0m     \u001b[0;34m'description'\u001b[0m\u001b[0;34m:\u001b[0m \u001b[0mf_name\u001b[0m\u001b[0;34m,\u001b[0m\u001b[0;34m\u001b[0m\u001b[0;34m\u001b[0m\u001b[0m\n\u001b[1;32m      5\u001b[0m     \u001b[0;34m'folder'\u001b[0m\u001b[0;34m:\u001b[0m\u001b[0;34m'GEE_Resources_Raw/County1'\u001b[0m\u001b[0;34m,\u001b[0m   \u001b[0;31m## it will create a folder an dump the image there\u001b[0m\u001b[0;34m\u001b[0m\u001b[0;34m\u001b[0m\u001b[0m\n",
      "\u001b[0;31mNameError\u001b[0m: name 'composite' is not defined"
     ]
    }
   ],
   "source": [
    "# Export the image, specifying scale and region.\n",
    "task = ee.batch.Export.image.toDrive(**{\n",
    "    'image': composite.toFloat(),\n",
    "    'description': f_name,\n",
    "    'folder':'GEE_Resources_Raw',   ## it will create a folder an dump the image there \n",
    "    'scale': scale,\n",
    "    'crs': projection['crs'],\n",
    "    'crsTransform': projection['transform'],\n",
    "    'region': Japan.geometry(),\n",
    "    'fileFormat': 'GeoTIFF',\n",
    "    'maxPixels':1e13,\n",
    "})\n",
    "task.start()\n",
    "\n",
    "while task.active():\n",
    "  print('Polling for task (id: {}).'.format(task.id))\n",
    "  time.sleep(1200)\n",
    "    \n",
    "print(task.status())"
   ]
  },
  {
   "cell_type": "markdown",
   "id": "99f3a113-db57-4c80-9198-6c16096bdcd5",
   "metadata": {},
   "source": [
    "### Download From Modise"
   ]
  },
  {
   "cell_type": "code",
   "execution_count": 4,
   "id": "6bd1a800-31a5-45fc-8d7c-81641f9927d0",
   "metadata": {},
   "outputs": [],
   "source": [
    "locations_filepath=\"data/yield_data.csv\"\n",
    "collection_id=\"MODIS/061/MOD09A1\""
   ]
  },
  {
   "cell_type": "code",
   "execution_count": 5,
   "id": "6ee09029-f3a1-4d51-ace8-47351eeb18fe",
   "metadata": {},
   "outputs": [],
   "source": [
    "imgcoll = ee.ImageCollection(collection_id) \\\n",
    "    .filterBounds(ee.Geometry.Rectangle(-106.5, 50, -64, 23)) \\\n",
    "    .filterDate(\"2002-12-31\", \"2003-8-4\")"
   ]
  },
  {
   "cell_type": "code",
   "execution_count": 6,
   "id": "0c61019f-e955-44a0-afe4-93703b1a47b1",
   "metadata": {
    "tags": []
   },
   "outputs": [
    {
     "name": "stdout",
     "output_type": "stream",
     "text": [
      "Count:  27\n",
      "\n"
     ]
    }
   ],
   "source": [
    "# Get the number of images.\n",
    "count = imgcoll.size()\n",
    "print('Count: ', str(count.getInfo())+'\\n')"
   ]
  },
  {
   "cell_type": "code",
   "execution_count": 7,
   "id": "c2ae2d84-78d7-41e7-84a5-8a541955a05f",
   "metadata": {},
   "outputs": [],
   "source": [
    "def _append_im_band(current, previous):\n",
    "    # Transforms an Image Collection with 1 band per Image into a single Image with items as bands\n",
    "    # Author: Jamie Vleeshouwer\n",
    "\n",
    "    # Rename the band\n",
    "    previous = ee.Image(previous)\n",
    "    current = current.select([0, 1, 2, 3, 4, 5, 6])\n",
    "    # Append it to the result (Note: only return current item on first element/iteration)\n",
    "    return ee.Algorithms.If(\n",
    "        ee.Algorithms.IsEqual(previous, None),\n",
    "        current,\n",
    "        previous.addBands(ee.Image(current)),\n",
    "    )"
   ]
  },
  {
   "cell_type": "code",
   "execution_count": 8,
   "id": "d8b69b7e-aa17-4075-88f7-501f971e43ea",
   "metadata": {},
   "outputs": [],
   "source": [
    "img = imgcoll.iterate(_append_im_band)\n",
    "img = ee.Image(img)"
   ]
  },
  {
   "cell_type": "code",
   "execution_count": 9,
   "id": "f2d806ea-2829-48c5-8a3c-2e2a90fba7db",
   "metadata": {},
   "outputs": [
    {
     "name": "stdout",
     "output_type": "stream",
     "text": [
      "189\n",
      "189\n"
     ]
    }
   ],
   "source": [
    "print(len(img.getInfo()['bands']))\n",
    "print(count.getInfo()*7)"
   ]
  },
  {
   "cell_type": "code",
   "execution_count": 10,
   "id": "260a253f-f34a-4e9d-af7e-2550192b20cd",
   "metadata": {},
   "outputs": [],
   "source": [
    "region = ee.FeatureCollection(\"TIGER/2018/Counties\")"
   ]
  },
  {
   "cell_type": "code",
   "execution_count": 11,
   "id": "416cbbb6-8089-4243-a922-6f73aff67295",
   "metadata": {},
   "outputs": [],
   "source": [
    "# turn the strings into numbers, see\n",
    "# https://developers.google.com/earth-engine/datasets/catalog/TIGER_2018_Counties\n",
    "def county_to_int(feature):\n",
    "    return feature.set(\"COUNTYFP\", ee.Number.parse(feature.get(\"COUNTYFP\")))\n",
    "\n",
    "def state_to_int(feature):\n",
    "    return feature.set(\"STATEFP\", ee.Number.parse(feature.get(\"STATEFP\")))\n",
    "\n",
    "region = region.map(county_to_int)\n",
    "region = region.map(state_to_int)"
   ]
  },
  {
   "cell_type": "code",
   "execution_count": 12,
   "id": "6624c71d-15ec-4797-8ff9-764d0cdf51df",
   "metadata": {},
   "outputs": [],
   "source": [
    "df = pd.read_csv(locations_filepath)\n",
    "#df.head()"
   ]
  },
  {
   "cell_type": "code",
   "execution_count": 13,
   "id": "afdcdc30-222e-480d-8b26-bf51fa4ee7f9",
   "metadata": {},
   "outputs": [
    {
     "data": {
      "text/plain": [
       "(3522, 2)"
      ]
     },
     "execution_count": 13,
     "metadata": {},
     "output_type": "execute_result"
    }
   ],
   "source": [
    "x = np.unique(df[[\"State ANSI\", \"County ANSI\"]].values, axis=0)\n",
    "x.shape"
   ]
  },
  {
   "cell_type": "code",
   "execution_count": 14,
   "id": "504e4b56-2fe5-4b2f-902a-c19ac87497fe",
   "metadata": {},
   "outputs": [],
   "source": [
    "state_id, county_id = x[10]"
   ]
  },
  {
   "cell_type": "code",
   "execution_count": 15,
   "id": "18c114c0-c862-40fa-971b-997e64c5bc25",
   "metadata": {},
   "outputs": [],
   "source": [
    "fname = \"{}_{}\".format(int(state_id), int(county_id))"
   ]
  },
  {
   "cell_type": "code",
   "execution_count": 16,
   "id": "93dc7361-a3fc-4c09-ac2c-1132889e69fb",
   "metadata": {},
   "outputs": [
    {
     "data": {
      "text/plain": [
       "'1_35'"
      ]
     },
     "execution_count": 16,
     "metadata": {},
     "output_type": "execute_result"
    }
   ],
   "source": [
    "fname"
   ]
  },
  {
   "cell_type": "code",
   "execution_count": 17,
   "id": "82747af7-4581-4918-8460-c0ba4cfee0fb",
   "metadata": {},
   "outputs": [],
   "source": [
    "file_region = region.filterMetadata(\n",
    "    \"COUNTYFP\", \"equals\", int(county_id)\n",
    ").filterMetadata(\"STATEFP\", \"equals\", int(state_id))"
   ]
  },
  {
   "cell_type": "code",
   "execution_count": 18,
   "id": "d4893da5-45e5-4e7a-8b0f-4556b48ad17d",
   "metadata": {},
   "outputs": [],
   "source": [
    "file_region = ee.Feature(file_region.first())\n",
    "processed_img = img.clip(file_region)\n",
    "#file_region = None"
   ]
  },
  {
   "cell_type": "code",
   "execution_count": 36,
   "id": "e783d19f-e17a-4c6a-932e-9c4f828e3fc1",
   "metadata": {},
   "outputs": [
    {
     "name": "stdout",
     "output_type": "stream",
     "text": [
      "1_35\n"
     ]
    }
   ],
   "source": [
    "folder_name = 'GEE_Resources_Raw'\n",
    "prefix = 'county1'\n",
    "print(fname)\n",
    "coordinate_system=\"EPSG:4326\",\n",
    "scale=500"
   ]
  },
  {
   "cell_type": "code",
   "execution_count": 44,
   "id": "c2e0fc91-5222-4299-a9c8-845e990529d2",
   "metadata": {},
   "outputs": [
    {
     "data": {
      "text/plain": [
       "{'type': 'Projection',\n",
       " 'crs': 'SR-ORG:6974',\n",
       " 'transform': [463.3127165279165,\n",
       "  0,\n",
       "  -20015109.354,\n",
       "  0,\n",
       "  -463.3127165279167,\n",
       "  7783653.637669001]}"
      ]
     },
     "execution_count": 44,
     "metadata": {},
     "output_type": "execute_result"
    }
   ],
   "source": [
    "projection = processed_img.select(['sur_refl_b01', 'sur_refl_b04', 'sur_refl_b03']).projection().getInfo()\n",
    "projection"
   ]
  },
  {
   "cell_type": "code",
   "execution_count": 47,
   "id": "cb0defff-c8bd-48f4-9fde-dcca49df037f",
   "metadata": {},
   "outputs": [],
   "source": [
    "test_crs = 'EPSG:4326'"
   ]
  },
  {
   "cell_type": "code",
   "execution_count": 49,
   "id": "05999b5e-1ccd-4f27-86d4-aa166e9f40f8",
   "metadata": {
    "tags": []
   },
   "outputs": [
    {
     "name": "stdout",
     "output_type": "stream",
     "text": [
      "Polling for task (id: ULJ3YIARCPCH4WC2337V4RFO).\n",
      "{'state': 'COMPLETED', 'description': '1_35', 'creation_timestamp_ms': 1651629923717, 'update_timestamp_ms': 1651630008364, 'start_timestamp_ms': 1651629960283, 'task_type': 'EXPORT_IMAGE', 'destination_uris': ['https://drive.google.com/#folders/1IlG_KVAL6C3W9xrswbswFBRKjve2YXSu'], 'attempt': 1, 'id': 'ULJ3YIARCPCH4WC2337V4RFO', 'name': 'projects/earthengine-legacy/operations/ULJ3YIARCPCH4WC2337V4RFO'}\n"
     ]
    }
   ],
   "source": [
    "# Export the image, specifying scale and region.\n",
    "task = ee.batch.Export.image.toDrive(**{\n",
    "    'image': processed_img.toFloat(),\n",
    "    'description': fname,\n",
    "    'folder':folder_name,   ## it will create a folder an dump the image there \n",
    "    #'scale': scale,\n",
    "    'fileNamePrefix':\"{}/{}_crs2\".format(prefix,fname),\n",
    "    #'crs': test_crs, #projection['crs'],\n",
    "    #'crsTransform': projection['transform'],\n",
    "    'region': file_region.geometry(),\n",
    "    'fileFormat': 'GeoTIFF',\n",
    "    'maxPixels':1e13,\n",
    "})\n",
    "task.start()\n",
    "\n",
    "while task.active():\n",
    "  print('Polling for task (id: {}).'.format(task.id))\n",
    "  time.sleep(120)\n",
    "    \n",
    "print(task.status())"
   ]
  },
  {
   "cell_type": "code",
   "execution_count": 22,
   "id": "f3b58742-7175-4a5c-a6ee-0f4877399986",
   "metadata": {
    "collapsed": true,
    "jupyter": {
     "outputs_hidden": true
    },
    "tags": []
   },
   "outputs": [
    {
     "data": {
      "text/html": [
       "<div style=\"width:100%;\"><div style=\"position:relative;width:100%;height:0;padding-bottom:60%;\"><span style=\"color:#565656\">Make this Notebook Trusted to load map: File -> Trust Notebook</span><iframe src=\"about:blank\" style=\"position:absolute;width:100%;height:100%;left:0;top:0;border:none !important;\" data-html=%3C%21DOCTYPE%20html%3E%0A%3Chead%3E%20%20%20%20%0A%20%20%20%20%3Cmeta%20http-equiv%3D%22content-type%22%20content%3D%22text/html%3B%20charset%3DUTF-8%22%20/%3E%0A%20%20%20%20%0A%20%20%20%20%20%20%20%20%3Cscript%3E%0A%20%20%20%20%20%20%20%20%20%20%20%20L_NO_TOUCH%20%3D%20false%3B%0A%20%20%20%20%20%20%20%20%20%20%20%20L_DISABLE_3D%20%3D%20false%3B%0A%20%20%20%20%20%20%20%20%3C/script%3E%0A%20%20%20%20%0A%20%20%20%20%3Cstyle%3Ehtml%2C%20body%20%7Bwidth%3A%20100%25%3Bheight%3A%20100%25%3Bmargin%3A%200%3Bpadding%3A%200%3B%7D%3C/style%3E%0A%20%20%20%20%3Cstyle%3E%23map%20%7Bposition%3Aabsolute%3Btop%3A0%3Bbottom%3A0%3Bright%3A0%3Bleft%3A0%3B%7D%3C/style%3E%0A%20%20%20%20%3Cscript%20src%3D%22https%3A//cdn.jsdelivr.net/npm/leaflet%401.6.0/dist/leaflet.js%22%3E%3C/script%3E%0A%20%20%20%20%3Cscript%20src%3D%22https%3A//code.jquery.com/jquery-1.12.4.min.js%22%3E%3C/script%3E%0A%20%20%20%20%3Cscript%20src%3D%22https%3A//maxcdn.bootstrapcdn.com/bootstrap/3.2.0/js/bootstrap.min.js%22%3E%3C/script%3E%0A%20%20%20%20%3Cscript%20src%3D%22https%3A//cdnjs.cloudflare.com/ajax/libs/Leaflet.awesome-markers/2.0.2/leaflet.awesome-markers.js%22%3E%3C/script%3E%0A%20%20%20%20%3Clink%20rel%3D%22stylesheet%22%20href%3D%22https%3A//cdn.jsdelivr.net/npm/leaflet%401.6.0/dist/leaflet.css%22/%3E%0A%20%20%20%20%3Clink%20rel%3D%22stylesheet%22%20href%3D%22https%3A//maxcdn.bootstrapcdn.com/bootstrap/3.2.0/css/bootstrap.min.css%22/%3E%0A%20%20%20%20%3Clink%20rel%3D%22stylesheet%22%20href%3D%22https%3A//maxcdn.bootstrapcdn.com/bootstrap/3.2.0/css/bootstrap-theme.min.css%22/%3E%0A%20%20%20%20%3Clink%20rel%3D%22stylesheet%22%20href%3D%22https%3A//maxcdn.bootstrapcdn.com/font-awesome/4.6.3/css/font-awesome.min.css%22/%3E%0A%20%20%20%20%3Clink%20rel%3D%22stylesheet%22%20href%3D%22https%3A//cdnjs.cloudflare.com/ajax/libs/Leaflet.awesome-markers/2.0.2/leaflet.awesome-markers.css%22/%3E%0A%20%20%20%20%3Clink%20rel%3D%22stylesheet%22%20href%3D%22https%3A//cdn.jsdelivr.net/gh/python-visualization/folium/folium/templates/leaflet.awesome.rotate.min.css%22/%3E%0A%20%20%20%20%0A%20%20%20%20%20%20%20%20%20%20%20%20%3Cmeta%20name%3D%22viewport%22%20content%3D%22width%3Ddevice-width%2C%0A%20%20%20%20%20%20%20%20%20%20%20%20%20%20%20%20initial-scale%3D1.0%2C%20maximum-scale%3D1.0%2C%20user-scalable%3Dno%22%20/%3E%0A%20%20%20%20%20%20%20%20%20%20%20%20%3Cstyle%3E%0A%20%20%20%20%20%20%20%20%20%20%20%20%20%20%20%20%23map_b03ef537731b4e01bfe8de74f6077450%20%7B%0A%20%20%20%20%20%20%20%20%20%20%20%20%20%20%20%20%20%20%20%20position%3A%20relative%3B%0A%20%20%20%20%20%20%20%20%20%20%20%20%20%20%20%20%20%20%20%20width%3A%20100.0%25%3B%0A%20%20%20%20%20%20%20%20%20%20%20%20%20%20%20%20%20%20%20%20height%3A%20100.0%25%3B%0A%20%20%20%20%20%20%20%20%20%20%20%20%20%20%20%20%20%20%20%20left%3A%200.0%25%3B%0A%20%20%20%20%20%20%20%20%20%20%20%20%20%20%20%20%20%20%20%20top%3A%200.0%25%3B%0A%20%20%20%20%20%20%20%20%20%20%20%20%20%20%20%20%7D%0A%20%20%20%20%20%20%20%20%20%20%20%20%3C/style%3E%0A%20%20%20%20%20%20%20%20%0A%20%20%20%20%3Cscript%20src%3D%22https%3A//cdnjs.cloudflare.com/ajax/libs/leaflet.fullscreen/1.4.2/Control.FullScreen.min.js%22%3E%3C/script%3E%0A%20%20%20%20%3Clink%20rel%3D%22stylesheet%22%20href%3D%22https%3A//cdnjs.cloudflare.com/ajax/libs/leaflet.fullscreen/1.4.2/Control.FullScreen.min.css%22/%3E%0A%3C/head%3E%0A%3Cbody%3E%20%20%20%20%0A%20%20%20%20%0A%20%20%20%20%20%20%20%20%20%20%20%20%3Cdiv%20class%3D%22folium-map%22%20id%3D%22map_b03ef537731b4e01bfe8de74f6077450%22%20%3E%3C/div%3E%0A%20%20%20%20%20%20%20%20%0A%3C/body%3E%0A%3Cscript%3E%20%20%20%20%0A%20%20%20%20%0A%20%20%20%20%20%20%20%20%20%20%20%20var%20map_b03ef537731b4e01bfe8de74f6077450%20%3D%20L.map%28%0A%20%20%20%20%20%20%20%20%20%20%20%20%20%20%20%20%22map_b03ef537731b4e01bfe8de74f6077450%22%2C%0A%20%20%20%20%20%20%20%20%20%20%20%20%20%20%20%20%7B%0A%20%20%20%20%20%20%20%20%20%20%20%20%20%20%20%20%20%20%20%20center%3A%20%5B40.0%2C%20-100.0%5D%2C%0A%20%20%20%20%20%20%20%20%20%20%20%20%20%20%20%20%20%20%20%20crs%3A%20L.CRS.EPSG3857%2C%0A%20%20%20%20%20%20%20%20%20%20%20%20%20%20%20%20%20%20%20%20zoom%3A%204%2C%0A%20%20%20%20%20%20%20%20%20%20%20%20%20%20%20%20%20%20%20%20zoomControl%3A%20true%2C%0A%20%20%20%20%20%20%20%20%20%20%20%20%20%20%20%20%20%20%20%20preferCanvas%3A%20false%2C%0A%20%20%20%20%20%20%20%20%20%20%20%20%20%20%20%20%7D%0A%20%20%20%20%20%20%20%20%20%20%20%20%29%3B%0A%0A%20%20%20%20%20%20%20%20%20%20%20%20%0A%0A%20%20%20%20%20%20%20%20%0A%20%20%20%20%0A%20%20%20%20%20%20%20%20%20%20%20%20var%20tile_layer_579265b3a3a74fd0a1efecec75d1087d%20%3D%20L.tileLayer%28%0A%20%20%20%20%20%20%20%20%20%20%20%20%20%20%20%20%22https%3A//%7Bs%7D.tile.openstreetmap.org/%7Bz%7D/%7Bx%7D/%7By%7D.png%22%2C%0A%20%20%20%20%20%20%20%20%20%20%20%20%20%20%20%20%7B%22attribution%22%3A%20%22Data%20by%20%5Cu0026copy%3B%20%5Cu003ca%20href%3D%5C%22http%3A//openstreetmap.org%5C%22%5Cu003eOpenStreetMap%5Cu003c/a%5Cu003e%2C%20under%20%5Cu003ca%20href%3D%5C%22http%3A//www.openstreetmap.org/copyright%5C%22%5Cu003eODbL%5Cu003c/a%5Cu003e.%22%2C%20%22detectRetina%22%3A%20false%2C%20%22maxNativeZoom%22%3A%2018%2C%20%22maxZoom%22%3A%2018%2C%20%22minZoom%22%3A%200%2C%20%22noWrap%22%3A%20false%2C%20%22opacity%22%3A%201%2C%20%22subdomains%22%3A%20%22abc%22%2C%20%22tms%22%3A%20false%7D%0A%20%20%20%20%20%20%20%20%20%20%20%20%29.addTo%28map_b03ef537731b4e01bfe8de74f6077450%29%3B%0A%20%20%20%20%20%20%20%20%0A%20%20%20%20%0A%20%20%20%20%20%20%20%20%20%20%20%20map_b03ef537731b4e01bfe8de74f6077450.fitBounds%28%0A%20%20%20%20%20%20%20%20%20%20%20%20%20%20%20%20%5B%5B31.429223568431695%2C%20-86.99369558988536%5D%2C%20%5B31.429223568431695%2C%20-86.99369558988536%5D%5D%2C%0A%20%20%20%20%20%20%20%20%20%20%20%20%20%20%20%20%7B%22maxZoom%22%3A%208%7D%0A%20%20%20%20%20%20%20%20%20%20%20%20%29%3B%0A%20%20%20%20%20%20%20%20%0A%20%20%20%20%0A%20%20%20%20%20%20%20%20%20%20%20%20var%20tile_layer_ea97ee886cfd40d882eaa07ad535fe4c%20%3D%20L.tileLayer%28%0A%20%20%20%20%20%20%20%20%20%20%20%20%20%20%20%20%22https%3A//earthengine.googleapis.com/v1alpha/projects/earthengine-legacy/maps/a4d102e49b2a83c0b5a19fd52e5b5740-00975a43183bb083b20d9ec271308199/tiles/%7Bz%7D/%7Bx%7D/%7By%7D%22%2C%0A%20%20%20%20%20%20%20%20%20%20%20%20%20%20%20%20%7B%22attribution%22%3A%20%22Google%20Earth%20Engine%22%2C%20%22detectRetina%22%3A%20false%2C%20%22maxNativeZoom%22%3A%2018%2C%20%22maxZoom%22%3A%2018%2C%20%22minZoom%22%3A%200%2C%20%22noWrap%22%3A%20false%2C%20%22opacity%22%3A%201%2C%20%22subdomains%22%3A%20%22abc%22%2C%20%22tms%22%3A%20false%7D%0A%20%20%20%20%20%20%20%20%20%20%20%20%29.addTo%28map_b03ef537731b4e01bfe8de74f6077450%29%3B%0A%20%20%20%20%20%20%20%20%0A%20%20%20%20%0A%20%20%20%20%20%20%20%20%20%20%20%20var%20tile_layer_b38d2a1c85eb478a8b84735f3cf95e45%20%3D%20L.tileLayer%28%0A%20%20%20%20%20%20%20%20%20%20%20%20%20%20%20%20%22https%3A//earthengine.googleapis.com/v1alpha/projects/earthengine-legacy/maps/d7e558ad284e4cf180c3cc2a526ea6a7-2fa86575e1f2e04270aa97dad14de3bc/tiles/%7Bz%7D/%7Bx%7D/%7By%7D%22%2C%0A%20%20%20%20%20%20%20%20%20%20%20%20%20%20%20%20%7B%22attribution%22%3A%20%22Google%20Earth%20Engine%22%2C%20%22detectRetina%22%3A%20false%2C%20%22maxNativeZoom%22%3A%2018%2C%20%22maxZoom%22%3A%2018%2C%20%22minZoom%22%3A%200%2C%20%22noWrap%22%3A%20false%2C%20%22opacity%22%3A%201%2C%20%22subdomains%22%3A%20%22abc%22%2C%20%22tms%22%3A%20false%7D%0A%20%20%20%20%20%20%20%20%20%20%20%20%29.addTo%28map_b03ef537731b4e01bfe8de74f6077450%29%3B%0A%20%20%20%20%20%20%20%20%0A%20%20%20%20%0A%20%20%20%20%20%20%20%20%20%20%20%20var%20layer_control_592a41cf7c874ec6a1b61781e31b1283%20%3D%20%7B%0A%20%20%20%20%20%20%20%20%20%20%20%20%20%20%20%20base_layers%20%3A%20%7B%0A%20%20%20%20%20%20%20%20%20%20%20%20%20%20%20%20%20%20%20%20%22openstreetmap%22%20%3A%20tile_layer_579265b3a3a74fd0a1efecec75d1087d%2C%0A%20%20%20%20%20%20%20%20%20%20%20%20%20%20%20%20%7D%2C%0A%20%20%20%20%20%20%20%20%20%20%20%20%20%20%20%20overlays%20%3A%20%20%7B%0A%20%20%20%20%20%20%20%20%20%20%20%20%20%20%20%20%20%20%20%20%22TIGER/2018/Counties%22%20%3A%20tile_layer_ea97ee886cfd40d882eaa07ad535fe4c%2C%0A%20%20%20%20%20%20%20%20%20%20%20%20%20%20%20%20%20%20%20%20%22county%20outlines%22%20%3A%20tile_layer_b38d2a1c85eb478a8b84735f3cf95e45%2C%0A%20%20%20%20%20%20%20%20%20%20%20%20%20%20%20%20%7D%2C%0A%20%20%20%20%20%20%20%20%20%20%20%20%7D%3B%0A%20%20%20%20%20%20%20%20%20%20%20%20L.control.layers%28%0A%20%20%20%20%20%20%20%20%20%20%20%20%20%20%20%20layer_control_592a41cf7c874ec6a1b61781e31b1283.base_layers%2C%0A%20%20%20%20%20%20%20%20%20%20%20%20%20%20%20%20layer_control_592a41cf7c874ec6a1b61781e31b1283.overlays%2C%0A%20%20%20%20%20%20%20%20%20%20%20%20%20%20%20%20%7B%22autoZIndex%22%3A%20true%2C%20%22collapsed%22%3A%20true%2C%20%22position%22%3A%20%22topright%22%7D%0A%20%20%20%20%20%20%20%20%20%20%20%20%29.addTo%28map_b03ef537731b4e01bfe8de74f6077450%29%3B%0A%20%20%20%20%20%20%20%20%0A%20%20%20%20%0A%20%20%20%20%20%20%20%20%20%20%20%20L.control.fullscreen%28%0A%20%20%20%20%20%20%20%20%20%20%20%20%20%20%20%20%7B%22forceSeparateButton%22%3A%20false%2C%20%22position%22%3A%20%22topleft%22%2C%20%22title%22%3A%20%22Full%20Screen%22%2C%20%22titleCancel%22%3A%20%22Exit%20Full%20Screen%22%7D%0A%20%20%20%20%20%20%20%20%20%20%20%20%29.addTo%28map_b03ef537731b4e01bfe8de74f6077450%29%3B%0A%20%20%20%20%20%20%20%20%0A%20%20%20%20%0A%20%20%20%20%20%20%20%20%20%20%20%20%20%20%20%20var%20lat_lng_popup_bca9cdca886e49bf98bea68cd5ff13f3%20%3D%20L.popup%28%29%3B%0A%20%20%20%20%20%20%20%20%20%20%20%20%20%20%20%20function%20latLngPop%28e%29%20%7B%0A%20%20%20%20%20%20%20%20%20%20%20%20%20%20%20%20%20%20%20%20lat_lng_popup_bca9cdca886e49bf98bea68cd5ff13f3%0A%20%20%20%20%20%20%20%20%20%20%20%20%20%20%20%20%20%20%20%20%20%20%20%20.setLatLng%28e.latlng%29%0A%20%20%20%20%20%20%20%20%20%20%20%20%20%20%20%20%20%20%20%20%20%20%20%20.setContent%28%22Latitude%3A%20%22%20%2B%20e.latlng.lat.toFixed%284%29%20%2B%0A%20%20%20%20%20%20%20%20%20%20%20%20%20%20%20%20%20%20%20%20%20%20%20%20%20%20%20%20%20%20%20%20%20%20%20%20%22%3Cbr%3ELongitude%3A%20%22%20%2B%20e.latlng.lng.toFixed%284%29%29%0A%20%20%20%20%20%20%20%20%20%20%20%20%20%20%20%20%20%20%20%20%20%20%20%20.openOn%28map_b03ef537731b4e01bfe8de74f6077450%29%3B%0A%20%20%20%20%20%20%20%20%20%20%20%20%20%20%20%20%20%20%20%20%7D%0A%20%20%20%20%20%20%20%20%20%20%20%20%20%20%20%20map_b03ef537731b4e01bfe8de74f6077450.on%28%27click%27%2C%20latLngPop%29%3B%0A%20%20%20%20%20%20%20%20%20%20%20%20%0A%3C/script%3E onload=\"this.contentDocument.open();this.contentDocument.write(    decodeURIComponent(this.getAttribute('data-html')));this.contentDocument.close();\" allowfullscreen webkitallowfullscreen mozallowfullscreen></iframe></div></div>"
      ],
      "text/plain": [
       "<folium.folium.Map at 0x7efd5ad33bd0>"
      ]
     },
     "execution_count": 22,
     "metadata": {},
     "output_type": "execute_result"
    }
   ],
   "source": [
    "dataset = ee.FeatureCollection('TIGER/2018/Counties');\n",
    "visParams = {\n",
    "  'palette': ['purple', 'blue', 'green', 'yellow', 'orange', 'red'],\n",
    "  'min': 0,\n",
    "  'max': 50,\n",
    "  'opacity': 0.8,\n",
    "}\n",
    "\n",
    "## Turn the strings into numbers\n",
    "dataset = dataset.map(lambda f: f.set('STATEFP', ee.Number.parse(f.get('STATEFP'))))\n",
    "dataset = dataset.map(lambda f: f.set('COUNTYFP', ee.Number.parse(f.get('COUNTYFP'))))\n",
    "\n",
    "\n",
    "file_region = dataset.filterMetadata(\"STATEFP\", \"equals\", int(state_id)) \\\n",
    "            .filterMetadata(\n",
    "                \"COUNTYFP\", \"equals\", int(county_id)\n",
    "            )\n",
    "\n",
    "image = ee.Image().float().paint(file_region)\n",
    "                      \n",
    "countyOutlines = ee.Image().float().paint(**{\n",
    "  'featureCollection': dataset,\n",
    "  'color': 'black',\n",
    "  'width': 1\n",
    "});\n",
    "\n",
    "\n",
    "Map = folium.Map(location=[40, -100], zoom_start=4)\n",
    "#Map.setOptions('SATELLITE')\n",
    "#Map.setCenter(-99.844, 37.649, 5)\n",
    "Map.centerObject(file_region, 8)\n",
    "Map.addLayer(image, visParams, 'TIGER/2018/Counties')\n",
    "Map.addLayer(countyOutlines, {}, 'county outlines')\n",
    "#Map.addLayer(dataset, {}, 'for Inspector', false)\n",
    "Map.setControlVisibility(layerControl=True, fullscreenControl=True, latLngPopup=True)\n",
    "Map"
   ]
  },
  {
   "cell_type": "code",
   "execution_count": 29,
   "id": "82d50219-db8f-42b0-b2ff-bf080e4c7334",
   "metadata": {
    "tags": []
   },
   "outputs": [],
   "source": [
    "one_img = imgcoll.mean().clipToCollection(file_region).select(['sur_refl_b01', 'sur_refl_b04', 'sur_refl_b03'])\n"
   ]
  },
  {
   "cell_type": "code",
   "execution_count": 30,
   "id": "cbe753f1-bbe4-4ecd-85ac-86075654f59d",
   "metadata": {},
   "outputs": [
    {
     "data": {
      "text/html": [
       "<div style=\"width:100%;\"><div style=\"position:relative;width:100%;height:0;padding-bottom:60%;\"><span style=\"color:#565656\">Make this Notebook Trusted to load map: File -> Trust Notebook</span><iframe src=\"about:blank\" style=\"position:absolute;width:100%;height:100%;left:0;top:0;border:none !important;\" data-html=%3C%21DOCTYPE%20html%3E%0A%3Chead%3E%20%20%20%20%0A%20%20%20%20%3Cmeta%20http-equiv%3D%22content-type%22%20content%3D%22text/html%3B%20charset%3DUTF-8%22%20/%3E%0A%20%20%20%20%0A%20%20%20%20%20%20%20%20%3Cscript%3E%0A%20%20%20%20%20%20%20%20%20%20%20%20L_NO_TOUCH%20%3D%20false%3B%0A%20%20%20%20%20%20%20%20%20%20%20%20L_DISABLE_3D%20%3D%20false%3B%0A%20%20%20%20%20%20%20%20%3C/script%3E%0A%20%20%20%20%0A%20%20%20%20%3Cstyle%3Ehtml%2C%20body%20%7Bwidth%3A%20100%25%3Bheight%3A%20100%25%3Bmargin%3A%200%3Bpadding%3A%200%3B%7D%3C/style%3E%0A%20%20%20%20%3Cstyle%3E%23map%20%7Bposition%3Aabsolute%3Btop%3A0%3Bbottom%3A0%3Bright%3A0%3Bleft%3A0%3B%7D%3C/style%3E%0A%20%20%20%20%3Cscript%20src%3D%22https%3A//cdn.jsdelivr.net/npm/leaflet%401.6.0/dist/leaflet.js%22%3E%3C/script%3E%0A%20%20%20%20%3Cscript%20src%3D%22https%3A//code.jquery.com/jquery-1.12.4.min.js%22%3E%3C/script%3E%0A%20%20%20%20%3Cscript%20src%3D%22https%3A//maxcdn.bootstrapcdn.com/bootstrap/3.2.0/js/bootstrap.min.js%22%3E%3C/script%3E%0A%20%20%20%20%3Cscript%20src%3D%22https%3A//cdnjs.cloudflare.com/ajax/libs/Leaflet.awesome-markers/2.0.2/leaflet.awesome-markers.js%22%3E%3C/script%3E%0A%20%20%20%20%3Clink%20rel%3D%22stylesheet%22%20href%3D%22https%3A//cdn.jsdelivr.net/npm/leaflet%401.6.0/dist/leaflet.css%22/%3E%0A%20%20%20%20%3Clink%20rel%3D%22stylesheet%22%20href%3D%22https%3A//maxcdn.bootstrapcdn.com/bootstrap/3.2.0/css/bootstrap.min.css%22/%3E%0A%20%20%20%20%3Clink%20rel%3D%22stylesheet%22%20href%3D%22https%3A//maxcdn.bootstrapcdn.com/bootstrap/3.2.0/css/bootstrap-theme.min.css%22/%3E%0A%20%20%20%20%3Clink%20rel%3D%22stylesheet%22%20href%3D%22https%3A//maxcdn.bootstrapcdn.com/font-awesome/4.6.3/css/font-awesome.min.css%22/%3E%0A%20%20%20%20%3Clink%20rel%3D%22stylesheet%22%20href%3D%22https%3A//cdnjs.cloudflare.com/ajax/libs/Leaflet.awesome-markers/2.0.2/leaflet.awesome-markers.css%22/%3E%0A%20%20%20%20%3Clink%20rel%3D%22stylesheet%22%20href%3D%22https%3A//cdn.jsdelivr.net/gh/python-visualization/folium/folium/templates/leaflet.awesome.rotate.min.css%22/%3E%0A%20%20%20%20%0A%20%20%20%20%20%20%20%20%20%20%20%20%3Cmeta%20name%3D%22viewport%22%20content%3D%22width%3Ddevice-width%2C%0A%20%20%20%20%20%20%20%20%20%20%20%20%20%20%20%20initial-scale%3D1.0%2C%20maximum-scale%3D1.0%2C%20user-scalable%3Dno%22%20/%3E%0A%20%20%20%20%20%20%20%20%20%20%20%20%3Cstyle%3E%0A%20%20%20%20%20%20%20%20%20%20%20%20%20%20%20%20%23map_a14c45a3464b43669099c7ed99552c9d%20%7B%0A%20%20%20%20%20%20%20%20%20%20%20%20%20%20%20%20%20%20%20%20position%3A%20relative%3B%0A%20%20%20%20%20%20%20%20%20%20%20%20%20%20%20%20%20%20%20%20width%3A%20100.0%25%3B%0A%20%20%20%20%20%20%20%20%20%20%20%20%20%20%20%20%20%20%20%20height%3A%20100.0%25%3B%0A%20%20%20%20%20%20%20%20%20%20%20%20%20%20%20%20%20%20%20%20left%3A%200.0%25%3B%0A%20%20%20%20%20%20%20%20%20%20%20%20%20%20%20%20%20%20%20%20top%3A%200.0%25%3B%0A%20%20%20%20%20%20%20%20%20%20%20%20%20%20%20%20%7D%0A%20%20%20%20%20%20%20%20%20%20%20%20%3C/style%3E%0A%20%20%20%20%20%20%20%20%0A%20%20%20%20%3Cscript%20src%3D%22https%3A//cdnjs.cloudflare.com/ajax/libs/leaflet.fullscreen/1.4.2/Control.FullScreen.min.js%22%3E%3C/script%3E%0A%20%20%20%20%3Clink%20rel%3D%22stylesheet%22%20href%3D%22https%3A//cdnjs.cloudflare.com/ajax/libs/leaflet.fullscreen/1.4.2/Control.FullScreen.min.css%22/%3E%0A%3C/head%3E%0A%3Cbody%3E%20%20%20%20%0A%20%20%20%20%0A%20%20%20%20%20%20%20%20%20%20%20%20%3Cdiv%20class%3D%22folium-map%22%20id%3D%22map_a14c45a3464b43669099c7ed99552c9d%22%20%3E%3C/div%3E%0A%20%20%20%20%20%20%20%20%0A%3C/body%3E%0A%3Cscript%3E%20%20%20%20%0A%20%20%20%20%0A%20%20%20%20%20%20%20%20%20%20%20%20var%20map_a14c45a3464b43669099c7ed99552c9d%20%3D%20L.map%28%0A%20%20%20%20%20%20%20%20%20%20%20%20%20%20%20%20%22map_a14c45a3464b43669099c7ed99552c9d%22%2C%0A%20%20%20%20%20%20%20%20%20%20%20%20%20%20%20%20%7B%0A%20%20%20%20%20%20%20%20%20%20%20%20%20%20%20%20%20%20%20%20center%3A%20%5B40.0%2C%20-100.0%5D%2C%0A%20%20%20%20%20%20%20%20%20%20%20%20%20%20%20%20%20%20%20%20crs%3A%20L.CRS.EPSG3857%2C%0A%20%20%20%20%20%20%20%20%20%20%20%20%20%20%20%20%20%20%20%20zoom%3A%204%2C%0A%20%20%20%20%20%20%20%20%20%20%20%20%20%20%20%20%20%20%20%20zoomControl%3A%20true%2C%0A%20%20%20%20%20%20%20%20%20%20%20%20%20%20%20%20%20%20%20%20preferCanvas%3A%20false%2C%0A%20%20%20%20%20%20%20%20%20%20%20%20%20%20%20%20%7D%0A%20%20%20%20%20%20%20%20%20%20%20%20%29%3B%0A%0A%20%20%20%20%20%20%20%20%20%20%20%20%0A%0A%20%20%20%20%20%20%20%20%0A%20%20%20%20%0A%20%20%20%20%20%20%20%20%20%20%20%20var%20tile_layer_6286484100d94fe3a0043d9a3c5e4345%20%3D%20L.tileLayer%28%0A%20%20%20%20%20%20%20%20%20%20%20%20%20%20%20%20%22https%3A//%7Bs%7D.tile.openstreetmap.org/%7Bz%7D/%7Bx%7D/%7By%7D.png%22%2C%0A%20%20%20%20%20%20%20%20%20%20%20%20%20%20%20%20%7B%22attribution%22%3A%20%22Data%20by%20%5Cu0026copy%3B%20%5Cu003ca%20href%3D%5C%22http%3A//openstreetmap.org%5C%22%5Cu003eOpenStreetMap%5Cu003c/a%5Cu003e%2C%20under%20%5Cu003ca%20href%3D%5C%22http%3A//www.openstreetmap.org/copyright%5C%22%5Cu003eODbL%5Cu003c/a%5Cu003e.%22%2C%20%22detectRetina%22%3A%20false%2C%20%22maxNativeZoom%22%3A%2018%2C%20%22maxZoom%22%3A%2018%2C%20%22minZoom%22%3A%200%2C%20%22noWrap%22%3A%20false%2C%20%22opacity%22%3A%201%2C%20%22subdomains%22%3A%20%22abc%22%2C%20%22tms%22%3A%20false%7D%0A%20%20%20%20%20%20%20%20%20%20%20%20%29.addTo%28map_a14c45a3464b43669099c7ed99552c9d%29%3B%0A%20%20%20%20%20%20%20%20%0A%20%20%20%20%0A%20%20%20%20%20%20%20%20%20%20%20%20map_a14c45a3464b43669099c7ed99552c9d.fitBounds%28%0A%20%20%20%20%20%20%20%20%20%20%20%20%20%20%20%20%5B%5B31.429223568431695%2C%20-86.99369558988536%5D%2C%20%5B31.429223568431695%2C%20-86.99369558988536%5D%5D%2C%0A%20%20%20%20%20%20%20%20%20%20%20%20%20%20%20%20%7B%22maxZoom%22%3A%208%7D%0A%20%20%20%20%20%20%20%20%20%20%20%20%29%3B%0A%20%20%20%20%20%20%20%20%0A%20%20%20%20%0A%20%20%20%20%20%20%20%20%20%20%20%20var%20tile_layer_45005a362e79408da48602d969e1669c%20%3D%20L.tileLayer%28%0A%20%20%20%20%20%20%20%20%20%20%20%20%20%20%20%20%22https%3A//earthengine.googleapis.com/v1alpha/projects/earthengine-legacy/maps/bc3b93688a58ca5ee46d83c53274700c-f40d84cd99649ef5176a16bb105db44d/tiles/%7Bz%7D/%7Bx%7D/%7By%7D%22%2C%0A%20%20%20%20%20%20%20%20%20%20%20%20%20%20%20%20%7B%22attribution%22%3A%20%22Google%20Earth%20Engine%22%2C%20%22detectRetina%22%3A%20false%2C%20%22maxNativeZoom%22%3A%2018%2C%20%22maxZoom%22%3A%2018%2C%20%22minZoom%22%3A%200%2C%20%22noWrap%22%3A%20false%2C%20%22opacity%22%3A%201%2C%20%22subdomains%22%3A%20%22abc%22%2C%20%22tms%22%3A%20false%7D%0A%20%20%20%20%20%20%20%20%20%20%20%20%29.addTo%28map_a14c45a3464b43669099c7ed99552c9d%29%3B%0A%20%20%20%20%20%20%20%20%0A%20%20%20%20%0A%20%20%20%20%20%20%20%20%20%20%20%20var%20tile_layer_07a04ccc22f943058cb0d802238f3149%20%3D%20L.tileLayer%28%0A%20%20%20%20%20%20%20%20%20%20%20%20%20%20%20%20%22https%3A//earthengine.googleapis.com/v1alpha/projects/earthengine-legacy/maps/d7e558ad284e4cf180c3cc2a526ea6a7-94fa1c55ed60b335466fffa93ef2c780/tiles/%7Bz%7D/%7Bx%7D/%7By%7D%22%2C%0A%20%20%20%20%20%20%20%20%20%20%20%20%20%20%20%20%7B%22attribution%22%3A%20%22Google%20Earth%20Engine%22%2C%20%22detectRetina%22%3A%20false%2C%20%22maxNativeZoom%22%3A%2018%2C%20%22maxZoom%22%3A%2018%2C%20%22minZoom%22%3A%200%2C%20%22noWrap%22%3A%20false%2C%20%22opacity%22%3A%201%2C%20%22subdomains%22%3A%20%22abc%22%2C%20%22tms%22%3A%20false%7D%0A%20%20%20%20%20%20%20%20%20%20%20%20%29.addTo%28map_a14c45a3464b43669099c7ed99552c9d%29%3B%0A%20%20%20%20%20%20%20%20%0A%20%20%20%20%0A%20%20%20%20%20%20%20%20%20%20%20%20var%20layer_control_fadddb77bae64c66acc45289579b58c6%20%3D%20%7B%0A%20%20%20%20%20%20%20%20%20%20%20%20%20%20%20%20base_layers%20%3A%20%7B%0A%20%20%20%20%20%20%20%20%20%20%20%20%20%20%20%20%20%20%20%20%22openstreetmap%22%20%3A%20tile_layer_6286484100d94fe3a0043d9a3c5e4345%2C%0A%20%20%20%20%20%20%20%20%20%20%20%20%20%20%20%20%7D%2C%0A%20%20%20%20%20%20%20%20%20%20%20%20%20%20%20%20overlays%20%3A%20%20%7B%0A%20%20%20%20%20%20%20%20%20%20%20%20%20%20%20%20%20%20%20%20%22TIGER/2018/Counties%22%20%3A%20tile_layer_45005a362e79408da48602d969e1669c%2C%0A%20%20%20%20%20%20%20%20%20%20%20%20%20%20%20%20%20%20%20%20%22county%20outlines%22%20%3A%20tile_layer_07a04ccc22f943058cb0d802238f3149%2C%0A%20%20%20%20%20%20%20%20%20%20%20%20%20%20%20%20%7D%2C%0A%20%20%20%20%20%20%20%20%20%20%20%20%7D%3B%0A%20%20%20%20%20%20%20%20%20%20%20%20L.control.layers%28%0A%20%20%20%20%20%20%20%20%20%20%20%20%20%20%20%20layer_control_fadddb77bae64c66acc45289579b58c6.base_layers%2C%0A%20%20%20%20%20%20%20%20%20%20%20%20%20%20%20%20layer_control_fadddb77bae64c66acc45289579b58c6.overlays%2C%0A%20%20%20%20%20%20%20%20%20%20%20%20%20%20%20%20%7B%22autoZIndex%22%3A%20true%2C%20%22collapsed%22%3A%20true%2C%20%22position%22%3A%20%22topright%22%7D%0A%20%20%20%20%20%20%20%20%20%20%20%20%29.addTo%28map_a14c45a3464b43669099c7ed99552c9d%29%3B%0A%20%20%20%20%20%20%20%20%0A%20%20%20%20%0A%20%20%20%20%20%20%20%20%20%20%20%20L.control.fullscreen%28%0A%20%20%20%20%20%20%20%20%20%20%20%20%20%20%20%20%7B%22forceSeparateButton%22%3A%20false%2C%20%22position%22%3A%20%22topleft%22%2C%20%22title%22%3A%20%22Full%20Screen%22%2C%20%22titleCancel%22%3A%20%22Exit%20Full%20Screen%22%7D%0A%20%20%20%20%20%20%20%20%20%20%20%20%29.addTo%28map_a14c45a3464b43669099c7ed99552c9d%29%3B%0A%20%20%20%20%20%20%20%20%0A%20%20%20%20%0A%20%20%20%20%20%20%20%20%20%20%20%20%20%20%20%20var%20lat_lng_popup_745033831a724369ace8a0766806e502%20%3D%20L.popup%28%29%3B%0A%20%20%20%20%20%20%20%20%20%20%20%20%20%20%20%20function%20latLngPop%28e%29%20%7B%0A%20%20%20%20%20%20%20%20%20%20%20%20%20%20%20%20%20%20%20%20lat_lng_popup_745033831a724369ace8a0766806e502%0A%20%20%20%20%20%20%20%20%20%20%20%20%20%20%20%20%20%20%20%20%20%20%20%20.setLatLng%28e.latlng%29%0A%20%20%20%20%20%20%20%20%20%20%20%20%20%20%20%20%20%20%20%20%20%20%20%20.setContent%28%22Latitude%3A%20%22%20%2B%20e.latlng.lat.toFixed%284%29%20%2B%0A%20%20%20%20%20%20%20%20%20%20%20%20%20%20%20%20%20%20%20%20%20%20%20%20%20%20%20%20%20%20%20%20%20%20%20%20%22%3Cbr%3ELongitude%3A%20%22%20%2B%20e.latlng.lng.toFixed%284%29%29%0A%20%20%20%20%20%20%20%20%20%20%20%20%20%20%20%20%20%20%20%20%20%20%20%20.openOn%28map_a14c45a3464b43669099c7ed99552c9d%29%3B%0A%20%20%20%20%20%20%20%20%20%20%20%20%20%20%20%20%20%20%20%20%7D%0A%20%20%20%20%20%20%20%20%20%20%20%20%20%20%20%20map_a14c45a3464b43669099c7ed99552c9d.on%28%27click%27%2C%20latLngPop%29%3B%0A%20%20%20%20%20%20%20%20%20%20%20%20%0A%3C/script%3E onload=\"this.contentDocument.open();this.contentDocument.write(    decodeURIComponent(this.getAttribute('data-html')));this.contentDocument.close();\" allowfullscreen webkitallowfullscreen mozallowfullscreen></iframe></div></div>"
      ],
      "text/plain": [
       "<folium.folium.Map at 0x7efd5ac89690>"
      ]
     },
     "execution_count": 30,
     "metadata": {},
     "output_type": "execute_result"
    }
   ],
   "source": [
    "Map = folium.Map(location=[40, -100], zoom_start=4)\n",
    "#Map.setOptions('SATELLITE')\n",
    "#Map.setCenter(-99.844, 37.649, 5)\n",
    "Map.centerObject(file_region, 8)\n",
    "Map.addLayer(one_img, {\n",
    "  'min': -100.0,\n",
    "  'max': 3000.0,\n",
    "  #'gamma': 1.4,\n",
    "}, 'TIGER/2018/Counties')\n",
    "Map.addLayer(countyOutlines, {}, 'county outlines')\n",
    "#Map.addLayer(dataset, {}, 'for Inspector', false)\n",
    "Map.setControlVisibility(layerControl=True, fullscreenControl=True, latLngPopup=True)\n",
    "Map"
   ]
  },
  {
   "cell_type": "code",
   "execution_count": null,
   "id": "fed7e600-3f00-4556-88d4-421c710f36e5",
   "metadata": {},
   "outputs": [],
   "source": []
  }
 ],
 "metadata": {
  "kernelspec": {
   "display_name": "remote_sensing",
   "language": "python",
   "name": "remote_sensing"
  },
  "language_info": {
   "codemirror_mode": {
    "name": "ipython",
    "version": 3
   },
   "file_extension": ".py",
   "mimetype": "text/x-python",
   "name": "python",
   "nbconvert_exporter": "python",
   "pygments_lexer": "ipython3",
   "version": "3.7.13"
  }
 },
 "nbformat": 4,
 "nbformat_minor": 5
}
