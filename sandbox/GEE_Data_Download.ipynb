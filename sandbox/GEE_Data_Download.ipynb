{
 "cells": [
  {
   "cell_type": "markdown",
   "id": "8f1e9478",
   "metadata": {},
   "source": [
    "## Downlaod Data From GEE"
   ]
  },
  {
   "cell_type": "code",
   "execution_count": 1,
   "id": "a1b7b858",
   "metadata": {
    "tags": []
   },
   "outputs": [
    {
     "data": {
      "text/html": [
       "<p>To authorize access needed by Earth Engine, open the following\n",
       "        URL in a web browser and follow the instructions:</p>\n",
       "        <p><a href=https://accounts.google.com/o/oauth2/auth?code_challenge=E_mWBzdIGaW6toVR9ZQNgHtzHOzNwramog2eCcYDJ2s&client_id=517222506229-vsmmajv00ul0bs7p89v5m89qs8eb9359.apps.googleusercontent.com&code_challenge_method=S256&response_type=code&redirect_uri=urn%3Aietf%3Awg%3Aoauth%3A2.0%3Aoob&scope=https%3A%2F%2Fwww.googleapis.com%2Fauth%2Fearthengine+https%3A%2F%2Fwww.googleapis.com%2Fauth%2Fdevstorage.full_control>https://accounts.google.com/o/oauth2/auth?code_challenge=E_mWBzdIGaW6toVR9ZQNgHtzHOzNwramog2eCcYDJ2s&client_id=517222506229-vsmmajv00ul0bs7p89v5m89qs8eb9359.apps.googleusercontent.com&code_challenge_method=S256&response_type=code&redirect_uri=urn%3Aietf%3Awg%3Aoauth%3A2.0%3Aoob&scope=https%3A%2F%2Fwww.googleapis.com%2Fauth%2Fearthengine+https%3A%2F%2Fwww.googleapis.com%2Fauth%2Fdevstorage.full_control</a></p>\n",
       "        <p>The authorization workflow will generate a code, which you\n",
       "        should paste in the box below</p>\n",
       "        "
      ],
      "text/plain": [
       "<IPython.core.display.HTML object>"
      ]
     },
     "metadata": {},
     "output_type": "display_data"
    },
    {
     "name": "stdin",
     "output_type": "stream",
     "text": [
      "Enter verification code:  4/1AX4XfWgRhJXBXYUZtZPGWgZlWjZz4lj7nG2NRmg4W07CQZmn_t3RO-mTv5k\n"
     ]
    },
    {
     "name": "stdout",
     "output_type": "stream",
     "text": [
      "\n",
      "Successfully saved authorization token.\n"
     ]
    }
   ],
   "source": [
    "import ee\n",
    "ee.Authenticate()"
   ]
  },
  {
   "cell_type": "code",
   "execution_count": 69,
   "id": "0a8c1e76-5263-4481-b487-994c44c68cb2",
   "metadata": {},
   "outputs": [],
   "source": [
    "ee.Initialize()"
   ]
  },
  {
   "cell_type": "code",
   "execution_count": 70,
   "id": "e064ce1a-06d4-4c91-b62b-d168b871b508",
   "metadata": {},
   "outputs": [],
   "source": [
    "from download_utils import Mapdisplay\n",
    "import folium\n",
    "import geehydro\n",
    "import time \n",
    "import pandas as pd\n",
    "import numpy as np"
   ]
  },
  {
   "cell_type": "code",
   "execution_count": 71,
   "id": "e0f4e09a-680a-4789-967f-e803eb4c7ea0",
   "metadata": {},
   "outputs": [],
   "source": [
    "l8 = ee.ImageCollection('LANDSAT/LC08/C01/T1')\n",
    "countries = ee.FeatureCollection(\"USDOS/LSIB_SIMPLE/2017\");\n",
    "Country = countries.filter(ee.Filter.eq(\"country_na\",\"China\"));\n",
    "\n",
    "landsat = l8.filterDate('2019-01-01', '2019-10-31') \\\n",
    "            .filterBounds(Country) \n",
    "\n",
    "## this is a cloud masking method in EE\n",
    "composite = ee.Algorithms.Landsat.simpleComposite(**{\n",
    "  'collection': landsat,\n",
    "  'asFloat': True\n",
    "})\n",
    "## add layer info\n",
    "rgbVis = {'bands': [\"B4\", \"B3\", \"B2\"], 'min':0, 'max': 0.3}"
   ]
  },
  {
   "cell_type": "code",
   "execution_count": 72,
   "id": "6f9804c8-4cfa-4c36-92d0-fbdb9b1ab654",
   "metadata": {},
   "outputs": [
    {
     "data": {
      "text/html": [
       "<div style=\"width:100%;\"><div style=\"position:relative;width:100%;height:0;padding-bottom:60%;\"><span style=\"color:#565656\">Make this Notebook Trusted to load map: File -> Trust Notebook</span><iframe src=\"about:blank\" style=\"position:absolute;width:100%;height:100%;left:0;top:0;border:none !important;\" data-html=%3C%21DOCTYPE%20html%3E%0A%3Chead%3E%20%20%20%20%0A%20%20%20%20%3Cmeta%20http-equiv%3D%22content-type%22%20content%3D%22text/html%3B%20charset%3DUTF-8%22%20/%3E%0A%20%20%20%20%0A%20%20%20%20%20%20%20%20%3Cscript%3E%0A%20%20%20%20%20%20%20%20%20%20%20%20L_NO_TOUCH%20%3D%20false%3B%0A%20%20%20%20%20%20%20%20%20%20%20%20L_DISABLE_3D%20%3D%20false%3B%0A%20%20%20%20%20%20%20%20%3C/script%3E%0A%20%20%20%20%0A%20%20%20%20%3Cstyle%3Ehtml%2C%20body%20%7Bwidth%3A%20100%25%3Bheight%3A%20100%25%3Bmargin%3A%200%3Bpadding%3A%200%3B%7D%3C/style%3E%0A%20%20%20%20%3Cstyle%3E%23map%20%7Bposition%3Aabsolute%3Btop%3A0%3Bbottom%3A0%3Bright%3A0%3Bleft%3A0%3B%7D%3C/style%3E%0A%20%20%20%20%3Cscript%20src%3D%22https%3A//cdn.jsdelivr.net/npm/leaflet%401.6.0/dist/leaflet.js%22%3E%3C/script%3E%0A%20%20%20%20%3Cscript%20src%3D%22https%3A//code.jquery.com/jquery-1.12.4.min.js%22%3E%3C/script%3E%0A%20%20%20%20%3Cscript%20src%3D%22https%3A//maxcdn.bootstrapcdn.com/bootstrap/3.2.0/js/bootstrap.min.js%22%3E%3C/script%3E%0A%20%20%20%20%3Cscript%20src%3D%22https%3A//cdnjs.cloudflare.com/ajax/libs/Leaflet.awesome-markers/2.0.2/leaflet.awesome-markers.js%22%3E%3C/script%3E%0A%20%20%20%20%3Clink%20rel%3D%22stylesheet%22%20href%3D%22https%3A//cdn.jsdelivr.net/npm/leaflet%401.6.0/dist/leaflet.css%22/%3E%0A%20%20%20%20%3Clink%20rel%3D%22stylesheet%22%20href%3D%22https%3A//maxcdn.bootstrapcdn.com/bootstrap/3.2.0/css/bootstrap.min.css%22/%3E%0A%20%20%20%20%3Clink%20rel%3D%22stylesheet%22%20href%3D%22https%3A//maxcdn.bootstrapcdn.com/bootstrap/3.2.0/css/bootstrap-theme.min.css%22/%3E%0A%20%20%20%20%3Clink%20rel%3D%22stylesheet%22%20href%3D%22https%3A//maxcdn.bootstrapcdn.com/font-awesome/4.6.3/css/font-awesome.min.css%22/%3E%0A%20%20%20%20%3Clink%20rel%3D%22stylesheet%22%20href%3D%22https%3A//cdnjs.cloudflare.com/ajax/libs/Leaflet.awesome-markers/2.0.2/leaflet.awesome-markers.css%22/%3E%0A%20%20%20%20%3Clink%20rel%3D%22stylesheet%22%20href%3D%22https%3A//cdn.jsdelivr.net/gh/python-visualization/folium/folium/templates/leaflet.awesome.rotate.min.css%22/%3E%0A%20%20%20%20%0A%20%20%20%20%20%20%20%20%20%20%20%20%3Cmeta%20name%3D%22viewport%22%20content%3D%22width%3Ddevice-width%2C%0A%20%20%20%20%20%20%20%20%20%20%20%20%20%20%20%20initial-scale%3D1.0%2C%20maximum-scale%3D1.0%2C%20user-scalable%3Dno%22%20/%3E%0A%20%20%20%20%20%20%20%20%20%20%20%20%3Cstyle%3E%0A%20%20%20%20%20%20%20%20%20%20%20%20%20%20%20%20%23map_889eff4908ec438fa70713b802699425%20%7B%0A%20%20%20%20%20%20%20%20%20%20%20%20%20%20%20%20%20%20%20%20position%3A%20relative%3B%0A%20%20%20%20%20%20%20%20%20%20%20%20%20%20%20%20%20%20%20%20width%3A%20100.0%25%3B%0A%20%20%20%20%20%20%20%20%20%20%20%20%20%20%20%20%20%20%20%20height%3A%20100.0%25%3B%0A%20%20%20%20%20%20%20%20%20%20%20%20%20%20%20%20%20%20%20%20left%3A%200.0%25%3B%0A%20%20%20%20%20%20%20%20%20%20%20%20%20%20%20%20%20%20%20%20top%3A%200.0%25%3B%0A%20%20%20%20%20%20%20%20%20%20%20%20%20%20%20%20%7D%0A%20%20%20%20%20%20%20%20%20%20%20%20%3C/style%3E%0A%20%20%20%20%20%20%20%20%0A%20%20%20%20%3Cscript%20src%3D%22https%3A//cdnjs.cloudflare.com/ajax/libs/leaflet.fullscreen/1.4.2/Control.FullScreen.min.js%22%3E%3C/script%3E%0A%20%20%20%20%3Clink%20rel%3D%22stylesheet%22%20href%3D%22https%3A//cdnjs.cloudflare.com/ajax/libs/leaflet.fullscreen/1.4.2/Control.FullScreen.min.css%22/%3E%0A%3C/head%3E%0A%3Cbody%3E%20%20%20%20%0A%20%20%20%20%0A%20%20%20%20%20%20%20%20%20%20%20%20%3Cdiv%20class%3D%22folium-map%22%20id%3D%22map_889eff4908ec438fa70713b802699425%22%20%3E%3C/div%3E%0A%20%20%20%20%20%20%20%20%0A%3C/body%3E%0A%3Cscript%3E%20%20%20%20%0A%20%20%20%20%0A%20%20%20%20%20%20%20%20%20%20%20%20var%20map_889eff4908ec438fa70713b802699425%20%3D%20L.map%28%0A%20%20%20%20%20%20%20%20%20%20%20%20%20%20%20%20%22map_889eff4908ec438fa70713b802699425%22%2C%0A%20%20%20%20%20%20%20%20%20%20%20%20%20%20%20%20%7B%0A%20%20%20%20%20%20%20%20%20%20%20%20%20%20%20%20%20%20%20%20center%3A%20%5B40.0%2C%20-100.0%5D%2C%0A%20%20%20%20%20%20%20%20%20%20%20%20%20%20%20%20%20%20%20%20crs%3A%20L.CRS.EPSG3857%2C%0A%20%20%20%20%20%20%20%20%20%20%20%20%20%20%20%20%20%20%20%20zoomControl%3A%20true%2C%0A%20%20%20%20%20%20%20%20%20%20%20%20%20%20%20%20%20%20%20%20preferCanvas%3A%20false%2C%0A%20%20%20%20%20%20%20%20%20%20%20%20%20%20%20%20%20%20%20%20zoom%3A%204%2C%0A%20%20%20%20%20%20%20%20%20%20%20%20%20%20%20%20%7D%0A%20%20%20%20%20%20%20%20%20%20%20%20%29%3B%0A%0A%20%20%20%20%20%20%20%20%20%20%20%20%0A%0A%20%20%20%20%20%20%20%20%0A%20%20%20%20%0A%20%20%20%20%20%20%20%20%20%20%20%20var%20tile_layer_9c695ede763d4448b5b5cfce94c1e5ab%20%3D%20L.tileLayer%28%0A%20%20%20%20%20%20%20%20%20%20%20%20%20%20%20%20%22https%3A//%7Bs%7D.tile.openstreetmap.org/%7Bz%7D/%7Bx%7D/%7By%7D.png%22%2C%0A%20%20%20%20%20%20%20%20%20%20%20%20%20%20%20%20%7B%22attribution%22%3A%20%22Data%20by%20%5Cu0026copy%3B%20%5Cu003ca%20href%3D%5C%22http%3A//openstreetmap.org%5C%22%5Cu003eOpenStreetMap%5Cu003c/a%5Cu003e%2C%20under%20%5Cu003ca%20href%3D%5C%22http%3A//www.openstreetmap.org/copyright%5C%22%5Cu003eODbL%5Cu003c/a%5Cu003e.%22%2C%20%22detectRetina%22%3A%20false%2C%20%22maxNativeZoom%22%3A%2018%2C%20%22maxZoom%22%3A%2018%2C%20%22minZoom%22%3A%200%2C%20%22noWrap%22%3A%20false%2C%20%22opacity%22%3A%201%2C%20%22subdomains%22%3A%20%22abc%22%2C%20%22tms%22%3A%20false%7D%0A%20%20%20%20%20%20%20%20%20%20%20%20%29.addTo%28map_889eff4908ec438fa70713b802699425%29%3B%0A%20%20%20%20%20%20%20%20%0A%20%20%20%20%0A%20%20%20%20%20%20%20%20%20%20%20%20var%20tile_layer_c9c4523a91e045e7b3b94d7ecc41d82e%20%3D%20L.tileLayer%28%0A%20%20%20%20%20%20%20%20%20%20%20%20%20%20%20%20%22https%3A//earthengine.googleapis.com/v1alpha/projects/earthengine-legacy/maps/e3c79a6b7ac0dc097d3eb6405c3972fc-8b16990a9da5eca16031728886eab8e8/tiles/%7Bz%7D/%7Bx%7D/%7By%7D%22%2C%0A%20%20%20%20%20%20%20%20%20%20%20%20%20%20%20%20%7B%22attribution%22%3A%20%22Google%20Earth%20Engine%22%2C%20%22detectRetina%22%3A%20false%2C%20%22maxNativeZoom%22%3A%2018%2C%20%22maxZoom%22%3A%2018%2C%20%22minZoom%22%3A%200%2C%20%22noWrap%22%3A%20false%2C%20%22opacity%22%3A%201%2C%20%22subdomains%22%3A%20%22abc%22%2C%20%22tms%22%3A%20false%7D%0A%20%20%20%20%20%20%20%20%20%20%20%20%29.addTo%28map_889eff4908ec438fa70713b802699425%29%3B%0A%20%20%20%20%20%20%20%20%0A%20%20%20%20%0A%20%20%20%20%20%20%20%20%20%20%20%20map_889eff4908ec438fa70713b802699425.fitBounds%28%0A%20%20%20%20%20%20%20%20%20%20%20%20%20%20%20%20%5B%5B36.69523099495105%2C%20103.47261667025596%5D%2C%20%5B36.69523099495105%2C%20103.47261667025596%5D%5D%2C%0A%20%20%20%20%20%20%20%20%20%20%20%20%20%20%20%20%7B%22maxZoom%22%3A%204%7D%0A%20%20%20%20%20%20%20%20%20%20%20%20%29%3B%0A%20%20%20%20%20%20%20%20%0A%20%20%20%20%0A%20%20%20%20%20%20%20%20%20%20%20%20var%20layer_control_8738453ddb3f4f0886ff2f4585dc1c56%20%3D%20%7B%0A%20%20%20%20%20%20%20%20%20%20%20%20%20%20%20%20base_layers%20%3A%20%7B%0A%20%20%20%20%20%20%20%20%20%20%20%20%20%20%20%20%20%20%20%20%22openstreetmap%22%20%3A%20tile_layer_9c695ede763d4448b5b5cfce94c1e5ab%2C%0A%20%20%20%20%20%20%20%20%20%20%20%20%20%20%20%20%7D%2C%0A%20%20%20%20%20%20%20%20%20%20%20%20%20%20%20%20overlays%20%3A%20%20%7B%0A%20%20%20%20%20%20%20%20%20%20%20%20%20%20%20%20%20%20%20%20%22RGB%22%20%3A%20tile_layer_c9c4523a91e045e7b3b94d7ecc41d82e%2C%0A%20%20%20%20%20%20%20%20%20%20%20%20%20%20%20%20%7D%2C%0A%20%20%20%20%20%20%20%20%20%20%20%20%7D%3B%0A%20%20%20%20%20%20%20%20%20%20%20%20L.control.layers%28%0A%20%20%20%20%20%20%20%20%20%20%20%20%20%20%20%20layer_control_8738453ddb3f4f0886ff2f4585dc1c56.base_layers%2C%0A%20%20%20%20%20%20%20%20%20%20%20%20%20%20%20%20layer_control_8738453ddb3f4f0886ff2f4585dc1c56.overlays%2C%0A%20%20%20%20%20%20%20%20%20%20%20%20%20%20%20%20%7B%22autoZIndex%22%3A%20true%2C%20%22collapsed%22%3A%20true%2C%20%22position%22%3A%20%22topright%22%7D%0A%20%20%20%20%20%20%20%20%20%20%20%20%29.addTo%28map_889eff4908ec438fa70713b802699425%29%3B%0A%20%20%20%20%20%20%20%20%0A%20%20%20%20%0A%20%20%20%20%20%20%20%20%20%20%20%20L.control.fullscreen%28%0A%20%20%20%20%20%20%20%20%20%20%20%20%20%20%20%20%7B%22forceSeparateButton%22%3A%20false%2C%20%22position%22%3A%20%22topleft%22%2C%20%22title%22%3A%20%22Full%20Screen%22%2C%20%22titleCancel%22%3A%20%22Exit%20Full%20Screen%22%7D%0A%20%20%20%20%20%20%20%20%20%20%20%20%29.addTo%28map_889eff4908ec438fa70713b802699425%29%3B%0A%20%20%20%20%20%20%20%20%0A%20%20%20%20%0A%20%20%20%20%20%20%20%20%20%20%20%20%20%20%20%20var%20lat_lng_popup_a071a47bd9f44ee9955c2a950993445c%20%3D%20L.popup%28%29%3B%0A%20%20%20%20%20%20%20%20%20%20%20%20%20%20%20%20function%20latLngPop%28e%29%20%7B%0A%20%20%20%20%20%20%20%20%20%20%20%20%20%20%20%20%20%20%20%20lat_lng_popup_a071a47bd9f44ee9955c2a950993445c%0A%20%20%20%20%20%20%20%20%20%20%20%20%20%20%20%20%20%20%20%20%20%20%20%20.setLatLng%28e.latlng%29%0A%20%20%20%20%20%20%20%20%20%20%20%20%20%20%20%20%20%20%20%20%20%20%20%20.setContent%28%22Latitude%3A%20%22%20%2B%20e.latlng.lat.toFixed%284%29%20%2B%0A%20%20%20%20%20%20%20%20%20%20%20%20%20%20%20%20%20%20%20%20%20%20%20%20%20%20%20%20%20%20%20%20%20%20%20%20%22%3Cbr%3ELongitude%3A%20%22%20%2B%20e.latlng.lng.toFixed%284%29%29%0A%20%20%20%20%20%20%20%20%20%20%20%20%20%20%20%20%20%20%20%20%20%20%20%20.openOn%28map_889eff4908ec438fa70713b802699425%29%3B%0A%20%20%20%20%20%20%20%20%20%20%20%20%20%20%20%20%20%20%20%20%7D%0A%20%20%20%20%20%20%20%20%20%20%20%20%20%20%20%20map_889eff4908ec438fa70713b802699425.on%28%27click%27%2C%20latLngPop%29%3B%0A%20%20%20%20%20%20%20%20%20%20%20%20%0A%3C/script%3E onload=\"this.contentDocument.open();this.contentDocument.write(    decodeURIComponent(this.getAttribute('data-html')));this.contentDocument.close();\" allowfullscreen webkitallowfullscreen mozallowfullscreen></iframe></div></div>"
      ],
      "text/plain": [
       "<folium.folium.Map at 0x7ff34ce93da0>"
      ]
     },
     "execution_count": 72,
     "metadata": {},
     "output_type": "execute_result"
    }
   ],
   "source": [
    "Map = folium.Map(location=[40, -100], zoom_start=4)\n",
    "#Map.setOptions('SATELLITE')\n",
    "Map.addLayer(composite, rgbVis, \"RGB\")\n",
    "Map.centerObject(Country, 4)\n",
    "Map.setControlVisibility(layerControl=True, fullscreenControl=True, latLngPopup=True)\n",
    "Map"
   ]
  },
  {
   "cell_type": "markdown",
   "id": "73e80c8b-90bb-494b-86c6-4596cc30c736",
   "metadata": {},
   "source": [
    "### Download One Country From L8"
   ]
  },
  {
   "cell_type": "code",
   "execution_count": 73,
   "id": "98167141-2396-4458-a845-c7238e0f3c70",
   "metadata": {},
   "outputs": [],
   "source": [
    "projection = composite.select('B2').projection().getInfo();"
   ]
  },
  {
   "cell_type": "code",
   "execution_count": 74,
   "id": "8d554e4f-a1fa-453e-b697-393b03aa7353",
   "metadata": {},
   "outputs": [
    {
     "data": {
      "text/plain": [
       "{'crs': 'EPSG:4326', 'transform': [1, 0, 0, 0, 1, 0], 'type': 'Projection'}"
      ]
     },
     "execution_count": 74,
     "metadata": {},
     "output_type": "execute_result"
    }
   ],
   "source": [
    "projection"
   ]
  },
  {
   "cell_type": "code",
   "execution_count": 75,
   "id": "a91cc7a6-bd1e-45f1-b8f6-e132110a60d9",
   "metadata": {},
   "outputs": [],
   "source": [
    "f_name = \"L8_Country\"\n",
    "scale = 30 ## usually 30 "
   ]
  },
  {
   "cell_type": "code",
   "execution_count": 104,
   "id": "9faf6d1a-b514-4bee-9af8-1f2ec0198e20",
   "metadata": {
    "tags": []
   },
   "outputs": [
    {
     "name": "stdout",
     "output_type": "stream",
     "text": [
      "Polling for task (id: S6MFACGLLLPV3BPB33PE6P2X).\n",
      "Polling for task (id: S6MFACGLLLPV3BPB33PE6P2X).\n",
      "Polling for task (id: S6MFACGLLLPV3BPB33PE6P2X).\n",
      "Polling for task (id: S6MFACGLLLPV3BPB33PE6P2X).\n",
      "Polling for task (id: S6MFACGLLLPV3BPB33PE6P2X).\n",
      "Polling for task (id: S6MFACGLLLPV3BPB33PE6P2X).\n",
      "{'state': 'COMPLETED', 'description': 'L8_Country', 'creation_timestamp_ms': 1651465066093, 'update_timestamp_ms': 1651471489590, 'start_timestamp_ms': 1651465082570, 'task_type': 'EXPORT_IMAGE', 'destination_uris': ['https://drive.google.com/#folders/1IlG_KVAL6C3W9xrswbswFBRKjve2YXSu'], 'attempt': 1, 'id': 'S6MFACGLLLPV3BPB33PE6P2X', 'name': 'projects/earthengine-legacy/operations/S6MFACGLLLPV3BPB33PE6P2X'}\n"
     ]
    }
   ],
   "source": [
    "# Export the image, specifying scale and region.\n",
    "task = ee.batch.Export.image.toDrive(**{\n",
    "    'image': composite.toFloat(),\n",
    "    'description': f_name,\n",
    "    'folder':'GEE_Resources_Raw',   ## it will create a folder an dump the image there \n",
    "    'scale': scale,\n",
    "    'crs': projection['crs'],\n",
    "    'crsTransform': projection['transform'],\n",
    "    'region': Japan.geometry(),\n",
    "    'fileFormat': 'GeoTIFF',\n",
    "    'maxPixels':1e13,\n",
    "})\n",
    "task.start()\n",
    "\n",
    "while task.active():\n",
    "  print('Polling for task (id: {}).'.format(task.id))\n",
    "  time.sleep(1200)\n",
    "    \n",
    "print(task.status())"
   ]
  },
  {
   "cell_type": "markdown",
   "id": "99f3a113-db57-4c80-9198-6c16096bdcd5",
   "metadata": {},
   "source": [
    "### Download From Modise"
   ]
  },
  {
   "cell_type": "code",
   "execution_count": 181,
   "id": "6bd1a800-31a5-45fc-8d7c-81641f9927d0",
   "metadata": {},
   "outputs": [],
   "source": [
    "locations_filepath=\"data/yield_data.csv\"\n",
    "collection_id=\"MODIS/006/MCD43A4\""
   ]
  },
  {
   "cell_type": "code",
   "execution_count": 182,
   "id": "6ee09029-f3a1-4d51-ace8-47351eeb18fe",
   "metadata": {},
   "outputs": [],
   "source": [
    "imgcoll = ee.ImageCollection(collection_id) \\\n",
    "    .filterBounds(ee.Geometry.Rectangle(-106.5, 50, -64, 23)) \\\n",
    "    .filterDate(\"2002-12-31\", \"2005-8-4\")"
   ]
  },
  {
   "cell_type": "code",
   "execution_count": 183,
   "id": "0c61019f-e955-44a0-afe4-93703b1a47b1",
   "metadata": {
    "tags": []
   },
   "outputs": [
    {
     "name": "stdout",
     "output_type": "stream",
     "text": [
      "Count:  947\n",
      "\n"
     ]
    }
   ],
   "source": [
    "# Get the number of images.\n",
    "count = imgcoll.size()\n",
    "print('Count: ', str(count.getInfo())+'\\n')"
   ]
  },
  {
   "cell_type": "code",
   "execution_count": 184,
   "id": "c2ae2d84-78d7-41e7-84a5-8a541955a05f",
   "metadata": {},
   "outputs": [],
   "source": [
    "def _append_im_band(current, previous):\n",
    "    # Transforms an Image Collection with 1 band per Image into a single Image with items as bands\n",
    "    # Author: Jamie Vleeshouwer\n",
    "\n",
    "    # Rename the band\n",
    "    previous = ee.Image(previous)\n",
    "    current = current.select([0, 1, 2, 3, 4, 5, 6])\n",
    "    # Append it to the result (Note: only return current item on first element/iteration)\n",
    "    return ee.Algorithms.If(\n",
    "        ee.Algorithms.IsEqual(previous, None),\n",
    "        current,\n",
    "        previous.addBands(ee.Image(current)),\n",
    "    )"
   ]
  },
  {
   "cell_type": "code",
   "execution_count": 185,
   "id": "d8b69b7e-aa17-4075-88f7-501f971e43ea",
   "metadata": {},
   "outputs": [],
   "source": [
    "img = imgcoll.iterate(_append_im_band)\n",
    "img = ee.Image(img)"
   ]
  },
  {
   "cell_type": "code",
   "execution_count": 186,
   "id": "f2d806ea-2829-48c5-8a3c-2e2a90fba7db",
   "metadata": {},
   "outputs": [
    {
     "name": "stdout",
     "output_type": "stream",
     "text": [
      "6629\n",
      "6629\n"
     ]
    }
   ],
   "source": [
    "print(len(img.getInfo()['bands']))\n",
    "print(count.getInfo()*7)"
   ]
  },
  {
   "cell_type": "code",
   "execution_count": 187,
   "id": "260a253f-f34a-4e9d-af7e-2550192b20cd",
   "metadata": {},
   "outputs": [],
   "source": [
    "region = ee.FeatureCollection(\"TIGER/2018/Counties\")"
   ]
  },
  {
   "cell_type": "code",
   "execution_count": 188,
   "id": "416cbbb6-8089-4243-a922-6f73aff67295",
   "metadata": {},
   "outputs": [],
   "source": [
    "# turn the strings into numbers, see\n",
    "# https://developers.google.com/earth-engine/datasets/catalog/TIGER_2018_Counties\n",
    "def county_to_int(feature):\n",
    "    return feature.set(\"COUNTYFP\", ee.Number.parse(feature.get(\"COUNTYFP\")))\n",
    "\n",
    "def state_to_int(feature):\n",
    "    return feature.set(\"STATEFP\", ee.Number.parse(feature.get(\"STATEFP\")))\n",
    "\n",
    "region = region.map(county_to_int)\n",
    "region = region.map(state_to_int)"
   ]
  },
  {
   "cell_type": "code",
   "execution_count": 189,
   "id": "6624c71d-15ec-4797-8ff9-764d0cdf51df",
   "metadata": {},
   "outputs": [],
   "source": [
    "df = pd.read_csv(locations_filepath)"
   ]
  },
  {
   "cell_type": "code",
   "execution_count": 190,
   "id": "af0b8ffd-f9a8-44cc-8827-a3c9b37997f3",
   "metadata": {},
   "outputs": [
    {
     "data": {
      "text/html": [
       "<div>\n",
       "<style scoped>\n",
       "    .dataframe tbody tr th:only-of-type {\n",
       "        vertical-align: middle;\n",
       "    }\n",
       "\n",
       "    .dataframe tbody tr th {\n",
       "        vertical-align: top;\n",
       "    }\n",
       "\n",
       "    .dataframe thead th {\n",
       "        text-align: right;\n",
       "    }\n",
       "</style>\n",
       "<table border=\"1\" class=\"dataframe\">\n",
       "  <thead>\n",
       "    <tr style=\"text-align: right;\">\n",
       "      <th></th>\n",
       "      <th>Program</th>\n",
       "      <th>Year</th>\n",
       "      <th>Period</th>\n",
       "      <th>Week Ending</th>\n",
       "      <th>Geo Level</th>\n",
       "      <th>State</th>\n",
       "      <th>State ANSI</th>\n",
       "      <th>Ag District</th>\n",
       "      <th>Ag District Code</th>\n",
       "      <th>County</th>\n",
       "      <th>...</th>\n",
       "      <th>Zip Code</th>\n",
       "      <th>Region</th>\n",
       "      <th>watershed_code</th>\n",
       "      <th>Watershed</th>\n",
       "      <th>Commodity</th>\n",
       "      <th>Data Item</th>\n",
       "      <th>Domain</th>\n",
       "      <th>Domain Category</th>\n",
       "      <th>Value</th>\n",
       "      <th>CV (%)</th>\n",
       "    </tr>\n",
       "  </thead>\n",
       "  <tbody>\n",
       "    <tr>\n",
       "      <th>0</th>\n",
       "      <td>SURVEY</td>\n",
       "      <td>2016</td>\n",
       "      <td>YEAR</td>\n",
       "      <td>NaN</td>\n",
       "      <td>COUNTY</td>\n",
       "      <td>ALABAMA</td>\n",
       "      <td>1</td>\n",
       "      <td>BLACK BELT</td>\n",
       "      <td>40</td>\n",
       "      <td>DALLAS</td>\n",
       "      <td>...</td>\n",
       "      <td>NaN</td>\n",
       "      <td>NaN</td>\n",
       "      <td>0</td>\n",
       "      <td>NaN</td>\n",
       "      <td>SOYBEANS</td>\n",
       "      <td>SOYBEANS - YIELD, MEASURED IN BU / ACRE</td>\n",
       "      <td>TOTAL</td>\n",
       "      <td>NOT SPECIFIED</td>\n",
       "      <td>32.4</td>\n",
       "      <td>NaN</td>\n",
       "    </tr>\n",
       "    <tr>\n",
       "      <th>1</th>\n",
       "      <td>SURVEY</td>\n",
       "      <td>2016</td>\n",
       "      <td>YEAR</td>\n",
       "      <td>NaN</td>\n",
       "      <td>COUNTY</td>\n",
       "      <td>ALABAMA</td>\n",
       "      <td>1</td>\n",
       "      <td>BLACK BELT</td>\n",
       "      <td>40</td>\n",
       "      <td>ELMORE</td>\n",
       "      <td>...</td>\n",
       "      <td>NaN</td>\n",
       "      <td>NaN</td>\n",
       "      <td>0</td>\n",
       "      <td>NaN</td>\n",
       "      <td>SOYBEANS</td>\n",
       "      <td>SOYBEANS - YIELD, MEASURED IN BU / ACRE</td>\n",
       "      <td>TOTAL</td>\n",
       "      <td>NOT SPECIFIED</td>\n",
       "      <td>20.3</td>\n",
       "      <td>NaN</td>\n",
       "    </tr>\n",
       "    <tr>\n",
       "      <th>2</th>\n",
       "      <td>SURVEY</td>\n",
       "      <td>2016</td>\n",
       "      <td>YEAR</td>\n",
       "      <td>NaN</td>\n",
       "      <td>COUNTY</td>\n",
       "      <td>ALABAMA</td>\n",
       "      <td>1</td>\n",
       "      <td>BLACK BELT</td>\n",
       "      <td>40</td>\n",
       "      <td>HALE</td>\n",
       "      <td>...</td>\n",
       "      <td>NaN</td>\n",
       "      <td>NaN</td>\n",
       "      <td>0</td>\n",
       "      <td>NaN</td>\n",
       "      <td>SOYBEANS</td>\n",
       "      <td>SOYBEANS - YIELD, MEASURED IN BU / ACRE</td>\n",
       "      <td>TOTAL</td>\n",
       "      <td>NOT SPECIFIED</td>\n",
       "      <td>23.0</td>\n",
       "      <td>NaN</td>\n",
       "    </tr>\n",
       "    <tr>\n",
       "      <th>3</th>\n",
       "      <td>SURVEY</td>\n",
       "      <td>2016</td>\n",
       "      <td>YEAR</td>\n",
       "      <td>NaN</td>\n",
       "      <td>COUNTY</td>\n",
       "      <td>ALABAMA</td>\n",
       "      <td>1</td>\n",
       "      <td>BLACK BELT</td>\n",
       "      <td>40</td>\n",
       "      <td>LOWNDES</td>\n",
       "      <td>...</td>\n",
       "      <td>NaN</td>\n",
       "      <td>NaN</td>\n",
       "      <td>0</td>\n",
       "      <td>NaN</td>\n",
       "      <td>SOYBEANS</td>\n",
       "      <td>SOYBEANS - YIELD, MEASURED IN BU / ACRE</td>\n",
       "      <td>TOTAL</td>\n",
       "      <td>NOT SPECIFIED</td>\n",
       "      <td>29.3</td>\n",
       "      <td>NaN</td>\n",
       "    </tr>\n",
       "    <tr>\n",
       "      <th>4</th>\n",
       "      <td>SURVEY</td>\n",
       "      <td>2016</td>\n",
       "      <td>YEAR</td>\n",
       "      <td>NaN</td>\n",
       "      <td>COUNTY</td>\n",
       "      <td>ALABAMA</td>\n",
       "      <td>1</td>\n",
       "      <td>BLACK BELT</td>\n",
       "      <td>40</td>\n",
       "      <td>MARENGO</td>\n",
       "      <td>...</td>\n",
       "      <td>NaN</td>\n",
       "      <td>NaN</td>\n",
       "      <td>0</td>\n",
       "      <td>NaN</td>\n",
       "      <td>SOYBEANS</td>\n",
       "      <td>SOYBEANS - YIELD, MEASURED IN BU / ACRE</td>\n",
       "      <td>TOTAL</td>\n",
       "      <td>NOT SPECIFIED</td>\n",
       "      <td>30.2</td>\n",
       "      <td>NaN</td>\n",
       "    </tr>\n",
       "  </tbody>\n",
       "</table>\n",
       "<p>5 rows × 21 columns</p>\n",
       "</div>"
      ],
      "text/plain": [
       "  Program  Year Period  Week Ending Geo Level    State  State ANSI  \\\n",
       "0  SURVEY  2016   YEAR          NaN    COUNTY  ALABAMA           1   \n",
       "1  SURVEY  2016   YEAR          NaN    COUNTY  ALABAMA           1   \n",
       "2  SURVEY  2016   YEAR          NaN    COUNTY  ALABAMA           1   \n",
       "3  SURVEY  2016   YEAR          NaN    COUNTY  ALABAMA           1   \n",
       "4  SURVEY  2016   YEAR          NaN    COUNTY  ALABAMA           1   \n",
       "\n",
       "  Ag District  Ag District Code   County   ...    Zip Code  Region  \\\n",
       "0  BLACK BELT                40   DALLAS   ...         NaN     NaN   \n",
       "1  BLACK BELT                40   ELMORE   ...         NaN     NaN   \n",
       "2  BLACK BELT                40     HALE   ...         NaN     NaN   \n",
       "3  BLACK BELT                40  LOWNDES   ...         NaN     NaN   \n",
       "4  BLACK BELT                40  MARENGO   ...         NaN     NaN   \n",
       "\n",
       "   watershed_code  Watershed  Commodity  \\\n",
       "0               0        NaN   SOYBEANS   \n",
       "1               0        NaN   SOYBEANS   \n",
       "2               0        NaN   SOYBEANS   \n",
       "3               0        NaN   SOYBEANS   \n",
       "4               0        NaN   SOYBEANS   \n",
       "\n",
       "                                 Data Item Domain Domain Category Value  \\\n",
       "0  SOYBEANS - YIELD, MEASURED IN BU / ACRE  TOTAL   NOT SPECIFIED  32.4   \n",
       "1  SOYBEANS - YIELD, MEASURED IN BU / ACRE  TOTAL   NOT SPECIFIED  20.3   \n",
       "2  SOYBEANS - YIELD, MEASURED IN BU / ACRE  TOTAL   NOT SPECIFIED  23.0   \n",
       "3  SOYBEANS - YIELD, MEASURED IN BU / ACRE  TOTAL   NOT SPECIFIED  29.3   \n",
       "4  SOYBEANS - YIELD, MEASURED IN BU / ACRE  TOTAL   NOT SPECIFIED  30.2   \n",
       "\n",
       "   CV (%)  \n",
       "0     NaN  \n",
       "1     NaN  \n",
       "2     NaN  \n",
       "3     NaN  \n",
       "4     NaN  \n",
       "\n",
       "[5 rows x 21 columns]"
      ]
     },
     "execution_count": 190,
     "metadata": {},
     "output_type": "execute_result"
    }
   ],
   "source": [
    "df.head()"
   ]
  },
  {
   "cell_type": "code",
   "execution_count": 191,
   "id": "afdcdc30-222e-480d-8b26-bf51fa4ee7f9",
   "metadata": {},
   "outputs": [
    {
     "data": {
      "text/plain": [
       "(3522, 2)"
      ]
     },
     "execution_count": 191,
     "metadata": {},
     "output_type": "execute_result"
    }
   ],
   "source": [
    "x = np.unique(df[[\"State ANSI\", \"County ANSI\"]].values, axis=0)\n",
    "x.shape"
   ]
  },
  {
   "cell_type": "code",
   "execution_count": 192,
   "id": "504e4b56-2fe5-4b2f-902a-c19ac87497fe",
   "metadata": {},
   "outputs": [],
   "source": [
    "state_id, county_id = x[10]"
   ]
  },
  {
   "cell_type": "code",
   "execution_count": 193,
   "id": "18c114c0-c862-40fa-971b-997e64c5bc25",
   "metadata": {},
   "outputs": [],
   "source": [
    "fname = \"{}_{}\".format(int(state_id), int(county_id))"
   ]
  },
  {
   "cell_type": "code",
   "execution_count": 194,
   "id": "93dc7361-a3fc-4c09-ac2c-1132889e69fb",
   "metadata": {},
   "outputs": [
    {
     "data": {
      "text/plain": [
       "'1_35'"
      ]
     },
     "execution_count": 194,
     "metadata": {},
     "output_type": "execute_result"
    }
   ],
   "source": [
    "fname"
   ]
  },
  {
   "cell_type": "code",
   "execution_count": 195,
   "id": "82747af7-4581-4918-8460-c0ba4cfee0fb",
   "metadata": {},
   "outputs": [],
   "source": [
    "file_region = region.filterMetadata(\n",
    "    \"COUNTYFP\", \"equals\", int(county_id)\n",
    ").filterMetadata(\"STATEFP\", \"equals\", int(state_id))"
   ]
  },
  {
   "cell_type": "code",
   "execution_count": 196,
   "id": "d4893da5-45e5-4e7a-8b0f-4556b48ad17d",
   "metadata": {},
   "outputs": [],
   "source": [
    "file_region = ee.Feature(file_region.first())\n",
    "processed_img = img.clip(file_region)\n",
    "#file_region = None"
   ]
  },
  {
   "cell_type": "code",
   "execution_count": 198,
   "id": "78932144-5cba-41cc-8e05-ab5bdd261929",
   "metadata": {},
   "outputs": [],
   "source": [
    "def _export_one_image(img, folder, name, region, scale, crs):\n",
    "    # export one image from Earth Engine to Google Drive\n",
    "    # Author: Jiaxuan You, https://github.com/JiaxuanYou\n",
    "    print(\"Exporting to {}/{}\".format(folder,name))\n",
    "    task = ee.batch.Export.image.toDrive(**{\n",
    "                'image': img,\n",
    "                'description': name,\n",
    "                'folder':folder,   ## it will create a folder an dump the image there \n",
    "                'scale': scale,\n",
    "                'crs': crs,\n",
    "                'region': region,\n",
    "                'fileFormat': 'GeoTIFF',\n",
    "                'maxPixels':1e13,\n",
    "            })\n",
    "    task.start()\n",
    "    while task.status()[\"state\"] == \"RUNNING\":\n",
    "        print(\"Running...\")\n",
    "        # Perhaps task.cancel() at some point.\n",
    "        time.sleep(10)\n",
    "\n",
    "    print(\"Done: {}\".format(task.status()))"
   ]
  },
  {
   "cell_type": "code",
   "execution_count": 199,
   "id": "e783d19f-e17a-4c6a-932e-9c4f828e3fc1",
   "metadata": {},
   "outputs": [
    {
     "name": "stdout",
     "output_type": "stream",
     "text": [
      "1_35\n"
     ]
    }
   ],
   "source": [
    "folder_name = 'GEE_Resources_Raw'\n",
    "print(fname)\n",
    "coordinate_system=\"EPSG:4326\",\n",
    "scale=500"
   ]
  },
  {
   "cell_type": "code",
   "execution_count": 202,
   "id": "79702757-c0f0-491b-b0de-e940ef4c8f66",
   "metadata": {},
   "outputs": [],
   "source": [
    "projection = processed_img.select(0).projection().getInfo()"
   ]
  },
  {
   "cell_type": "code",
   "execution_count": null,
   "id": "05999b5e-1ccd-4f27-86d4-aa166e9f40f8",
   "metadata": {},
   "outputs": [
    {
     "name": "stdout",
     "output_type": "stream",
     "text": [
      "Polling for task (id: 2PN646R55ZUIXWV2RDE2OCX4).\n",
      "Polling for task (id: 2PN646R55ZUIXWV2RDE2OCX4).\n",
      "Polling for task (id: 2PN646R55ZUIXWV2RDE2OCX4).\n",
      "Polling for task (id: 2PN646R55ZUIXWV2RDE2OCX4).\n",
      "Polling for task (id: 2PN646R55ZUIXWV2RDE2OCX4).\n",
      "Polling for task (id: 2PN646R55ZUIXWV2RDE2OCX4).\n",
      "Polling for task (id: 2PN646R55ZUIXWV2RDE2OCX4).\n",
      "Polling for task (id: 2PN646R55ZUIXWV2RDE2OCX4).\n",
      "Polling for task (id: 2PN646R55ZUIXWV2RDE2OCX4).\n",
      "Polling for task (id: 2PN646R55ZUIXWV2RDE2OCX4).\n",
      "Polling for task (id: 2PN646R55ZUIXWV2RDE2OCX4).\n",
      "Polling for task (id: 2PN646R55ZUIXWV2RDE2OCX4).\n",
      "Polling for task (id: 2PN646R55ZUIXWV2RDE2OCX4).\n",
      "Polling for task (id: 2PN646R55ZUIXWV2RDE2OCX4).\n",
      "Polling for task (id: 2PN646R55ZUIXWV2RDE2OCX4).\n",
      "Polling for task (id: 2PN646R55ZUIXWV2RDE2OCX4).\n",
      "Polling for task (id: 2PN646R55ZUIXWV2RDE2OCX4).\n",
      "Polling for task (id: 2PN646R55ZUIXWV2RDE2OCX4).\n",
      "Polling for task (id: 2PN646R55ZUIXWV2RDE2OCX4).\n",
      "Polling for task (id: 2PN646R55ZUIXWV2RDE2OCX4).\n",
      "Polling for task (id: 2PN646R55ZUIXWV2RDE2OCX4).\n",
      "Polling for task (id: 2PN646R55ZUIXWV2RDE2OCX4).\n",
      "Polling for task (id: 2PN646R55ZUIXWV2RDE2OCX4).\n",
      "Polling for task (id: 2PN646R55ZUIXWV2RDE2OCX4).\n",
      "Polling for task (id: 2PN646R55ZUIXWV2RDE2OCX4).\n",
      "Polling for task (id: 2PN646R55ZUIXWV2RDE2OCX4).\n",
      "Polling for task (id: 2PN646R55ZUIXWV2RDE2OCX4).\n",
      "Polling for task (id: 2PN646R55ZUIXWV2RDE2OCX4).\n",
      "Polling for task (id: 2PN646R55ZUIXWV2RDE2OCX4).\n",
      "Polling for task (id: 2PN646R55ZUIXWV2RDE2OCX4).\n",
      "Polling for task (id: 2PN646R55ZUIXWV2RDE2OCX4).\n",
      "Polling for task (id: 2PN646R55ZUIXWV2RDE2OCX4).\n",
      "Polling for task (id: 2PN646R55ZUIXWV2RDE2OCX4).\n",
      "Polling for task (id: 2PN646R55ZUIXWV2RDE2OCX4).\n",
      "Polling for task (id: 2PN646R55ZUIXWV2RDE2OCX4).\n",
      "Polling for task (id: 2PN646R55ZUIXWV2RDE2OCX4).\n",
      "Polling for task (id: 2PN646R55ZUIXWV2RDE2OCX4).\n",
      "Polling for task (id: 2PN646R55ZUIXWV2RDE2OCX4).\n",
      "Polling for task (id: 2PN646R55ZUIXWV2RDE2OCX4).\n",
      "Polling for task (id: 2PN646R55ZUIXWV2RDE2OCX4).\n",
      "Polling for task (id: 2PN646R55ZUIXWV2RDE2OCX4).\n",
      "Polling for task (id: 2PN646R55ZUIXWV2RDE2OCX4).\n",
      "Polling for task (id: 2PN646R55ZUIXWV2RDE2OCX4).\n",
      "Polling for task (id: 2PN646R55ZUIXWV2RDE2OCX4).\n",
      "Polling for task (id: 2PN646R55ZUIXWV2RDE2OCX4).\n",
      "Polling for task (id: 2PN646R55ZUIXWV2RDE2OCX4).\n",
      "Polling for task (id: 2PN646R55ZUIXWV2RDE2OCX4).\n",
      "Polling for task (id: 2PN646R55ZUIXWV2RDE2OCX4).\n",
      "Polling for task (id: 2PN646R55ZUIXWV2RDE2OCX4).\n",
      "Polling for task (id: 2PN646R55ZUIXWV2RDE2OCX4).\n",
      "Polling for task (id: 2PN646R55ZUIXWV2RDE2OCX4).\n",
      "Polling for task (id: 2PN646R55ZUIXWV2RDE2OCX4).\n",
      "Polling for task (id: 2PN646R55ZUIXWV2RDE2OCX4).\n",
      "Polling for task (id: 2PN646R55ZUIXWV2RDE2OCX4).\n",
      "Polling for task (id: 2PN646R55ZUIXWV2RDE2OCX4).\n",
      "Polling for task (id: 2PN646R55ZUIXWV2RDE2OCX4).\n",
      "Polling for task (id: 2PN646R55ZUIXWV2RDE2OCX4).\n",
      "Polling for task (id: 2PN646R55ZUIXWV2RDE2OCX4).\n",
      "Polling for task (id: 2PN646R55ZUIXWV2RDE2OCX4).\n",
      "Polling for task (id: 2PN646R55ZUIXWV2RDE2OCX4).\n",
      "Polling for task (id: 2PN646R55ZUIXWV2RDE2OCX4).\n",
      "Polling for task (id: 2PN646R55ZUIXWV2RDE2OCX4).\n",
      "Polling for task (id: 2PN646R55ZUIXWV2RDE2OCX4).\n",
      "Polling for task (id: 2PN646R55ZUIXWV2RDE2OCX4).\n",
      "Polling for task (id: 2PN646R55ZUIXWV2RDE2OCX4).\n",
      "Polling for task (id: 2PN646R55ZUIXWV2RDE2OCX4).\n",
      "Polling for task (id: 2PN646R55ZUIXWV2RDE2OCX4).\n",
      "Polling for task (id: 2PN646R55ZUIXWV2RDE2OCX4).\n",
      "Polling for task (id: 2PN646R55ZUIXWV2RDE2OCX4).\n",
      "Polling for task (id: 2PN646R55ZUIXWV2RDE2OCX4).\n",
      "Polling for task (id: 2PN646R55ZUIXWV2RDE2OCX4).\n",
      "Polling for task (id: 2PN646R55ZUIXWV2RDE2OCX4).\n",
      "Polling for task (id: 2PN646R55ZUIXWV2RDE2OCX4).\n",
      "Polling for task (id: 2PN646R55ZUIXWV2RDE2OCX4).\n",
      "Polling for task (id: 2PN646R55ZUIXWV2RDE2OCX4).\n",
      "Polling for task (id: 2PN646R55ZUIXWV2RDE2OCX4).\n",
      "Polling for task (id: 2PN646R55ZUIXWV2RDE2OCX4).\n",
      "Polling for task (id: 2PN646R55ZUIXWV2RDE2OCX4).\n",
      "Polling for task (id: 2PN646R55ZUIXWV2RDE2OCX4).\n",
      "Polling for task (id: 2PN646R55ZUIXWV2RDE2OCX4).\n",
      "Polling for task (id: 2PN646R55ZUIXWV2RDE2OCX4).\n",
      "Polling for task (id: 2PN646R55ZUIXWV2RDE2OCX4).\n",
      "Polling for task (id: 2PN646R55ZUIXWV2RDE2OCX4).\n",
      "Polling for task (id: 2PN646R55ZUIXWV2RDE2OCX4).\n",
      "Polling for task (id: 2PN646R55ZUIXWV2RDE2OCX4).\n",
      "Polling for task (id: 2PN646R55ZUIXWV2RDE2OCX4).\n",
      "Polling for task (id: 2PN646R55ZUIXWV2RDE2OCX4).\n",
      "Polling for task (id: 2PN646R55ZUIXWV2RDE2OCX4).\n",
      "Polling for task (id: 2PN646R55ZUIXWV2RDE2OCX4).\n",
      "Polling for task (id: 2PN646R55ZUIXWV2RDE2OCX4).\n",
      "Polling for task (id: 2PN646R55ZUIXWV2RDE2OCX4).\n",
      "Polling for task (id: 2PN646R55ZUIXWV2RDE2OCX4).\n",
      "Polling for task (id: 2PN646R55ZUIXWV2RDE2OCX4).\n",
      "Polling for task (id: 2PN646R55ZUIXWV2RDE2OCX4).\n",
      "Polling for task (id: 2PN646R55ZUIXWV2RDE2OCX4).\n",
      "Polling for task (id: 2PN646R55ZUIXWV2RDE2OCX4).\n",
      "Polling for task (id: 2PN646R55ZUIXWV2RDE2OCX4).\n",
      "Polling for task (id: 2PN646R55ZUIXWV2RDE2OCX4).\n",
      "Polling for task (id: 2PN646R55ZUIXWV2RDE2OCX4).\n"
     ]
    }
   ],
   "source": [
    "# Export the image, specifying scale and region.\n",
    "task = ee.batch.Export.image.toDrive(**{\n",
    "    'image': processed_img.toFloat(),\n",
    "    'description': fname,\n",
    "    'folder':folder_name,   ## it will create a folder an dump the image there \n",
    "    'scale': scale,\n",
    "    'crs': projection['crs'],\n",
    "    'crsTransform': projection['transform'],\n",
    "    'region': file_region.geometry(),\n",
    "    'fileFormat': 'GeoTIFF',\n",
    "    'maxPixels':1e13,\n",
    "})\n",
    "task.start()\n",
    "\n",
    "while task.active():\n",
    "  print('Polling for task (id: {}).'.format(task.id))\n",
    "  time.sleep(120)\n",
    "    \n",
    "print(task.status())"
   ]
  },
  {
   "cell_type": "code",
   "execution_count": 163,
   "id": "39d454ea-0bec-4f4c-a836-7095e41822c4",
   "metadata": {},
   "outputs": [
    {
     "data": {
      "text/plain": [
       "35"
      ]
     },
     "execution_count": 163,
     "metadata": {},
     "output_type": "execute_result"
    }
   ],
   "source": [
    "int(county_id)"
   ]
  },
  {
   "cell_type": "code",
   "execution_count": 164,
   "id": "f3b58742-7175-4a5c-a6ee-0f4877399986",
   "metadata": {
    "tags": []
   },
   "outputs": [
    {
     "data": {
      "text/html": [
       "<div style=\"width:100%;\"><div style=\"position:relative;width:100%;height:0;padding-bottom:60%;\"><span style=\"color:#565656\">Make this Notebook Trusted to load map: File -> Trust Notebook</span><iframe src=\"about:blank\" style=\"position:absolute;width:100%;height:100%;left:0;top:0;border:none !important;\" data-html=%3C%21DOCTYPE%20html%3E%0A%3Chead%3E%20%20%20%20%0A%20%20%20%20%3Cmeta%20http-equiv%3D%22content-type%22%20content%3D%22text/html%3B%20charset%3DUTF-8%22%20/%3E%0A%20%20%20%20%0A%20%20%20%20%20%20%20%20%3Cscript%3E%0A%20%20%20%20%20%20%20%20%20%20%20%20L_NO_TOUCH%20%3D%20false%3B%0A%20%20%20%20%20%20%20%20%20%20%20%20L_DISABLE_3D%20%3D%20false%3B%0A%20%20%20%20%20%20%20%20%3C/script%3E%0A%20%20%20%20%0A%20%20%20%20%3Cstyle%3Ehtml%2C%20body%20%7Bwidth%3A%20100%25%3Bheight%3A%20100%25%3Bmargin%3A%200%3Bpadding%3A%200%3B%7D%3C/style%3E%0A%20%20%20%20%3Cstyle%3E%23map%20%7Bposition%3Aabsolute%3Btop%3A0%3Bbottom%3A0%3Bright%3A0%3Bleft%3A0%3B%7D%3C/style%3E%0A%20%20%20%20%3Cscript%20src%3D%22https%3A//cdn.jsdelivr.net/npm/leaflet%401.6.0/dist/leaflet.js%22%3E%3C/script%3E%0A%20%20%20%20%3Cscript%20src%3D%22https%3A//code.jquery.com/jquery-1.12.4.min.js%22%3E%3C/script%3E%0A%20%20%20%20%3Cscript%20src%3D%22https%3A//maxcdn.bootstrapcdn.com/bootstrap/3.2.0/js/bootstrap.min.js%22%3E%3C/script%3E%0A%20%20%20%20%3Cscript%20src%3D%22https%3A//cdnjs.cloudflare.com/ajax/libs/Leaflet.awesome-markers/2.0.2/leaflet.awesome-markers.js%22%3E%3C/script%3E%0A%20%20%20%20%3Clink%20rel%3D%22stylesheet%22%20href%3D%22https%3A//cdn.jsdelivr.net/npm/leaflet%401.6.0/dist/leaflet.css%22/%3E%0A%20%20%20%20%3Clink%20rel%3D%22stylesheet%22%20href%3D%22https%3A//maxcdn.bootstrapcdn.com/bootstrap/3.2.0/css/bootstrap.min.css%22/%3E%0A%20%20%20%20%3Clink%20rel%3D%22stylesheet%22%20href%3D%22https%3A//maxcdn.bootstrapcdn.com/bootstrap/3.2.0/css/bootstrap-theme.min.css%22/%3E%0A%20%20%20%20%3Clink%20rel%3D%22stylesheet%22%20href%3D%22https%3A//maxcdn.bootstrapcdn.com/font-awesome/4.6.3/css/font-awesome.min.css%22/%3E%0A%20%20%20%20%3Clink%20rel%3D%22stylesheet%22%20href%3D%22https%3A//cdnjs.cloudflare.com/ajax/libs/Leaflet.awesome-markers/2.0.2/leaflet.awesome-markers.css%22/%3E%0A%20%20%20%20%3Clink%20rel%3D%22stylesheet%22%20href%3D%22https%3A//cdn.jsdelivr.net/gh/python-visualization/folium/folium/templates/leaflet.awesome.rotate.min.css%22/%3E%0A%20%20%20%20%0A%20%20%20%20%20%20%20%20%20%20%20%20%3Cmeta%20name%3D%22viewport%22%20content%3D%22width%3Ddevice-width%2C%0A%20%20%20%20%20%20%20%20%20%20%20%20%20%20%20%20initial-scale%3D1.0%2C%20maximum-scale%3D1.0%2C%20user-scalable%3Dno%22%20/%3E%0A%20%20%20%20%20%20%20%20%20%20%20%20%3Cstyle%3E%0A%20%20%20%20%20%20%20%20%20%20%20%20%20%20%20%20%23map_37146b47ae9143b3bf6092178fb64792%20%7B%0A%20%20%20%20%20%20%20%20%20%20%20%20%20%20%20%20%20%20%20%20position%3A%20relative%3B%0A%20%20%20%20%20%20%20%20%20%20%20%20%20%20%20%20%20%20%20%20width%3A%20100.0%25%3B%0A%20%20%20%20%20%20%20%20%20%20%20%20%20%20%20%20%20%20%20%20height%3A%20100.0%25%3B%0A%20%20%20%20%20%20%20%20%20%20%20%20%20%20%20%20%20%20%20%20left%3A%200.0%25%3B%0A%20%20%20%20%20%20%20%20%20%20%20%20%20%20%20%20%20%20%20%20top%3A%200.0%25%3B%0A%20%20%20%20%20%20%20%20%20%20%20%20%20%20%20%20%7D%0A%20%20%20%20%20%20%20%20%20%20%20%20%3C/style%3E%0A%20%20%20%20%20%20%20%20%0A%20%20%20%20%3Cscript%20src%3D%22https%3A//cdnjs.cloudflare.com/ajax/libs/leaflet.fullscreen/1.4.2/Control.FullScreen.min.js%22%3E%3C/script%3E%0A%20%20%20%20%3Clink%20rel%3D%22stylesheet%22%20href%3D%22https%3A//cdnjs.cloudflare.com/ajax/libs/leaflet.fullscreen/1.4.2/Control.FullScreen.min.css%22/%3E%0A%3C/head%3E%0A%3Cbody%3E%20%20%20%20%0A%20%20%20%20%0A%20%20%20%20%20%20%20%20%20%20%20%20%3Cdiv%20class%3D%22folium-map%22%20id%3D%22map_37146b47ae9143b3bf6092178fb64792%22%20%3E%3C/div%3E%0A%20%20%20%20%20%20%20%20%0A%3C/body%3E%0A%3Cscript%3E%20%20%20%20%0A%20%20%20%20%0A%20%20%20%20%20%20%20%20%20%20%20%20var%20map_37146b47ae9143b3bf6092178fb64792%20%3D%20L.map%28%0A%20%20%20%20%20%20%20%20%20%20%20%20%20%20%20%20%22map_37146b47ae9143b3bf6092178fb64792%22%2C%0A%20%20%20%20%20%20%20%20%20%20%20%20%20%20%20%20%7B%0A%20%20%20%20%20%20%20%20%20%20%20%20%20%20%20%20%20%20%20%20center%3A%20%5B40.0%2C%20-100.0%5D%2C%0A%20%20%20%20%20%20%20%20%20%20%20%20%20%20%20%20%20%20%20%20crs%3A%20L.CRS.EPSG3857%2C%0A%20%20%20%20%20%20%20%20%20%20%20%20%20%20%20%20%20%20%20%20zoomControl%3A%20true%2C%0A%20%20%20%20%20%20%20%20%20%20%20%20%20%20%20%20%20%20%20%20preferCanvas%3A%20false%2C%0A%20%20%20%20%20%20%20%20%20%20%20%20%20%20%20%20%20%20%20%20zoom%3A%204%2C%0A%20%20%20%20%20%20%20%20%20%20%20%20%20%20%20%20%7D%0A%20%20%20%20%20%20%20%20%20%20%20%20%29%3B%0A%0A%20%20%20%20%20%20%20%20%20%20%20%20%0A%0A%20%20%20%20%20%20%20%20%0A%20%20%20%20%0A%20%20%20%20%20%20%20%20%20%20%20%20var%20tile_layer_6894b17a7b074a1a8ab5272173f57634%20%3D%20L.tileLayer%28%0A%20%20%20%20%20%20%20%20%20%20%20%20%20%20%20%20%22https%3A//%7Bs%7D.tile.openstreetmap.org/%7Bz%7D/%7Bx%7D/%7By%7D.png%22%2C%0A%20%20%20%20%20%20%20%20%20%20%20%20%20%20%20%20%7B%22attribution%22%3A%20%22Data%20by%20%5Cu0026copy%3B%20%5Cu003ca%20href%3D%5C%22http%3A//openstreetmap.org%5C%22%5Cu003eOpenStreetMap%5Cu003c/a%5Cu003e%2C%20under%20%5Cu003ca%20href%3D%5C%22http%3A//www.openstreetmap.org/copyright%5C%22%5Cu003eODbL%5Cu003c/a%5Cu003e.%22%2C%20%22detectRetina%22%3A%20false%2C%20%22maxNativeZoom%22%3A%2018%2C%20%22maxZoom%22%3A%2018%2C%20%22minZoom%22%3A%200%2C%20%22noWrap%22%3A%20false%2C%20%22opacity%22%3A%201%2C%20%22subdomains%22%3A%20%22abc%22%2C%20%22tms%22%3A%20false%7D%0A%20%20%20%20%20%20%20%20%20%20%20%20%29.addTo%28map_37146b47ae9143b3bf6092178fb64792%29%3B%0A%20%20%20%20%20%20%20%20%0A%20%20%20%20%0A%20%20%20%20%20%20%20%20%20%20%20%20map_37146b47ae9143b3bf6092178fb64792.fitBounds%28%0A%20%20%20%20%20%20%20%20%20%20%20%20%20%20%20%20%5B%5B31.429223568431695%2C%20-86.99369558988536%5D%2C%20%5B31.429223568431695%2C%20-86.99369558988536%5D%5D%2C%0A%20%20%20%20%20%20%20%20%20%20%20%20%20%20%20%20%7B%22maxZoom%22%3A%208%7D%0A%20%20%20%20%20%20%20%20%20%20%20%20%29%3B%0A%20%20%20%20%20%20%20%20%0A%20%20%20%20%0A%20%20%20%20%20%20%20%20%20%20%20%20var%20tile_layer_5f279ead043a43b681f4c82b2fa967cd%20%3D%20L.tileLayer%28%0A%20%20%20%20%20%20%20%20%20%20%20%20%20%20%20%20%22https%3A//earthengine.googleapis.com/v1alpha/projects/earthengine-legacy/maps/a4d102e49b2a83c0b5a19fd52e5b5740-226d366985967125604743058dd67247/tiles/%7Bz%7D/%7Bx%7D/%7By%7D%22%2C%0A%20%20%20%20%20%20%20%20%20%20%20%20%20%20%20%20%7B%22attribution%22%3A%20%22Google%20Earth%20Engine%22%2C%20%22detectRetina%22%3A%20false%2C%20%22maxNativeZoom%22%3A%2018%2C%20%22maxZoom%22%3A%2018%2C%20%22minZoom%22%3A%200%2C%20%22noWrap%22%3A%20false%2C%20%22opacity%22%3A%201%2C%20%22subdomains%22%3A%20%22abc%22%2C%20%22tms%22%3A%20false%7D%0A%20%20%20%20%20%20%20%20%20%20%20%20%29.addTo%28map_37146b47ae9143b3bf6092178fb64792%29%3B%0A%20%20%20%20%20%20%20%20%0A%20%20%20%20%0A%20%20%20%20%20%20%20%20%20%20%20%20var%20tile_layer_8c5bccb21c68460ea339dcb782e874bd%20%3D%20L.tileLayer%28%0A%20%20%20%20%20%20%20%20%20%20%20%20%20%20%20%20%22https%3A//earthengine.googleapis.com/v1alpha/projects/earthengine-legacy/maps/d7e558ad284e4cf180c3cc2a526ea6a7-ea0a82f5f0799ead8c031081938f8df6/tiles/%7Bz%7D/%7Bx%7D/%7By%7D%22%2C%0A%20%20%20%20%20%20%20%20%20%20%20%20%20%20%20%20%7B%22attribution%22%3A%20%22Google%20Earth%20Engine%22%2C%20%22detectRetina%22%3A%20false%2C%20%22maxNativeZoom%22%3A%2018%2C%20%22maxZoom%22%3A%2018%2C%20%22minZoom%22%3A%200%2C%20%22noWrap%22%3A%20false%2C%20%22opacity%22%3A%201%2C%20%22subdomains%22%3A%20%22abc%22%2C%20%22tms%22%3A%20false%7D%0A%20%20%20%20%20%20%20%20%20%20%20%20%29.addTo%28map_37146b47ae9143b3bf6092178fb64792%29%3B%0A%20%20%20%20%20%20%20%20%0A%20%20%20%20%0A%20%20%20%20%20%20%20%20%20%20%20%20var%20layer_control_b286da11a9b04ee4b834e95b44478b1a%20%3D%20%7B%0A%20%20%20%20%20%20%20%20%20%20%20%20%20%20%20%20base_layers%20%3A%20%7B%0A%20%20%20%20%20%20%20%20%20%20%20%20%20%20%20%20%20%20%20%20%22openstreetmap%22%20%3A%20tile_layer_6894b17a7b074a1a8ab5272173f57634%2C%0A%20%20%20%20%20%20%20%20%20%20%20%20%20%20%20%20%7D%2C%0A%20%20%20%20%20%20%20%20%20%20%20%20%20%20%20%20overlays%20%3A%20%20%7B%0A%20%20%20%20%20%20%20%20%20%20%20%20%20%20%20%20%20%20%20%20%22TIGER/2018/Counties%22%20%3A%20tile_layer_5f279ead043a43b681f4c82b2fa967cd%2C%0A%20%20%20%20%20%20%20%20%20%20%20%20%20%20%20%20%20%20%20%20%22county%20outlines%22%20%3A%20tile_layer_8c5bccb21c68460ea339dcb782e874bd%2C%0A%20%20%20%20%20%20%20%20%20%20%20%20%20%20%20%20%7D%2C%0A%20%20%20%20%20%20%20%20%20%20%20%20%7D%3B%0A%20%20%20%20%20%20%20%20%20%20%20%20L.control.layers%28%0A%20%20%20%20%20%20%20%20%20%20%20%20%20%20%20%20layer_control_b286da11a9b04ee4b834e95b44478b1a.base_layers%2C%0A%20%20%20%20%20%20%20%20%20%20%20%20%20%20%20%20layer_control_b286da11a9b04ee4b834e95b44478b1a.overlays%2C%0A%20%20%20%20%20%20%20%20%20%20%20%20%20%20%20%20%7B%22autoZIndex%22%3A%20true%2C%20%22collapsed%22%3A%20true%2C%20%22position%22%3A%20%22topright%22%7D%0A%20%20%20%20%20%20%20%20%20%20%20%20%29.addTo%28map_37146b47ae9143b3bf6092178fb64792%29%3B%0A%20%20%20%20%20%20%20%20%0A%20%20%20%20%0A%20%20%20%20%20%20%20%20%20%20%20%20L.control.fullscreen%28%0A%20%20%20%20%20%20%20%20%20%20%20%20%20%20%20%20%7B%22forceSeparateButton%22%3A%20false%2C%20%22position%22%3A%20%22topleft%22%2C%20%22title%22%3A%20%22Full%20Screen%22%2C%20%22titleCancel%22%3A%20%22Exit%20Full%20Screen%22%7D%0A%20%20%20%20%20%20%20%20%20%20%20%20%29.addTo%28map_37146b47ae9143b3bf6092178fb64792%29%3B%0A%20%20%20%20%20%20%20%20%0A%20%20%20%20%0A%20%20%20%20%20%20%20%20%20%20%20%20%20%20%20%20var%20lat_lng_popup_368101658f0b486b88ac9bcb707c882c%20%3D%20L.popup%28%29%3B%0A%20%20%20%20%20%20%20%20%20%20%20%20%20%20%20%20function%20latLngPop%28e%29%20%7B%0A%20%20%20%20%20%20%20%20%20%20%20%20%20%20%20%20%20%20%20%20lat_lng_popup_368101658f0b486b88ac9bcb707c882c%0A%20%20%20%20%20%20%20%20%20%20%20%20%20%20%20%20%20%20%20%20%20%20%20%20.setLatLng%28e.latlng%29%0A%20%20%20%20%20%20%20%20%20%20%20%20%20%20%20%20%20%20%20%20%20%20%20%20.setContent%28%22Latitude%3A%20%22%20%2B%20e.latlng.lat.toFixed%284%29%20%2B%0A%20%20%20%20%20%20%20%20%20%20%20%20%20%20%20%20%20%20%20%20%20%20%20%20%20%20%20%20%20%20%20%20%20%20%20%20%22%3Cbr%3ELongitude%3A%20%22%20%2B%20e.latlng.lng.toFixed%284%29%29%0A%20%20%20%20%20%20%20%20%20%20%20%20%20%20%20%20%20%20%20%20%20%20%20%20.openOn%28map_37146b47ae9143b3bf6092178fb64792%29%3B%0A%20%20%20%20%20%20%20%20%20%20%20%20%20%20%20%20%20%20%20%20%7D%0A%20%20%20%20%20%20%20%20%20%20%20%20%20%20%20%20map_37146b47ae9143b3bf6092178fb64792.on%28%27click%27%2C%20latLngPop%29%3B%0A%20%20%20%20%20%20%20%20%20%20%20%20%0A%3C/script%3E onload=\"this.contentDocument.open();this.contentDocument.write(    decodeURIComponent(this.getAttribute('data-html')));this.contentDocument.close();\" allowfullscreen webkitallowfullscreen mozallowfullscreen></iframe></div></div>"
      ],
      "text/plain": [
       "<folium.folium.Map at 0x7ff34dd260b8>"
      ]
     },
     "execution_count": 164,
     "metadata": {},
     "output_type": "execute_result"
    }
   ],
   "source": [
    "dataset = ee.FeatureCollection('TIGER/2018/Counties');\n",
    "visParams = {\n",
    "  'palette': ['purple', 'blue', 'green', 'yellow', 'orange', 'red'],\n",
    "  'min': 0,\n",
    "  'max': 50,\n",
    "  'opacity': 0.8,\n",
    "}\n",
    "\n",
    "## Turn the strings into numbers\n",
    "dataset = dataset.map(lambda f: f.set('STATEFP', ee.Number.parse(f.get('STATEFP'))))\n",
    "dataset = dataset.map(lambda f: f.set('COUNTYFP', ee.Number.parse(f.get('COUNTYFP'))))\n",
    "\n",
    "\n",
    "file_region = dataset.filterMetadata(\"STATEFP\", \"equals\", int(state_id)) \\\n",
    "            .filterMetadata(\n",
    "                \"COUNTYFP\", \"equals\", int(county_id)\n",
    "            )\n",
    "\n",
    "image = ee.Image().float().paint(file_region)\n",
    "                      \n",
    "countyOutlines = ee.Image().float().paint(**{\n",
    "  'featureCollection': dataset,\n",
    "  'color': 'black',\n",
    "  'width': 1\n",
    "});\n",
    "\n",
    "\n",
    "Map = folium.Map(location=[40, -100], zoom_start=4)\n",
    "#Map.setOptions('SATELLITE')\n",
    "#Map.setCenter(-99.844, 37.649, 5)\n",
    "Map.centerObject(file_region, 8)\n",
    "Map.addLayer(image, visParams, 'TIGER/2018/Counties')\n",
    "Map.addLayer(countyOutlines, {}, 'county outlines')\n",
    "#Map.addLayer(dataset, {}, 'for Inspector', false)\n",
    "Map.setControlVisibility(layerControl=True, fullscreenControl=True, latLngPopup=True)\n",
    "Map"
   ]
  },
  {
   "cell_type": "code",
   "execution_count": 177,
   "id": "82d50219-db8f-42b0-b2ff-bf080e4c7334",
   "metadata": {
    "tags": []
   },
   "outputs": [],
   "source": [
    "one_img = imgcoll.max().clipToCollection(dataset).select(['Nadir_Reflectance_Band1', 'Nadir_Reflectance_Band4',\n",
    "  'Nadir_Reflectance_Band3'])"
   ]
  },
  {
   "cell_type": "code",
   "execution_count": 180,
   "id": "cbe753f1-bbe4-4ecd-85ac-86075654f59d",
   "metadata": {},
   "outputs": [
    {
     "data": {
      "text/html": [
       "<div style=\"width:100%;\"><div style=\"position:relative;width:100%;height:0;padding-bottom:60%;\"><span style=\"color:#565656\">Make this Notebook Trusted to load map: File -> Trust Notebook</span><iframe src=\"about:blank\" style=\"position:absolute;width:100%;height:100%;left:0;top:0;border:none !important;\" data-html=%3C%21DOCTYPE%20html%3E%0A%3Chead%3E%20%20%20%20%0A%20%20%20%20%3Cmeta%20http-equiv%3D%22content-type%22%20content%3D%22text/html%3B%20charset%3DUTF-8%22%20/%3E%0A%20%20%20%20%0A%20%20%20%20%20%20%20%20%3Cscript%3E%0A%20%20%20%20%20%20%20%20%20%20%20%20L_NO_TOUCH%20%3D%20false%3B%0A%20%20%20%20%20%20%20%20%20%20%20%20L_DISABLE_3D%20%3D%20false%3B%0A%20%20%20%20%20%20%20%20%3C/script%3E%0A%20%20%20%20%0A%20%20%20%20%3Cstyle%3Ehtml%2C%20body%20%7Bwidth%3A%20100%25%3Bheight%3A%20100%25%3Bmargin%3A%200%3Bpadding%3A%200%3B%7D%3C/style%3E%0A%20%20%20%20%3Cstyle%3E%23map%20%7Bposition%3Aabsolute%3Btop%3A0%3Bbottom%3A0%3Bright%3A0%3Bleft%3A0%3B%7D%3C/style%3E%0A%20%20%20%20%3Cscript%20src%3D%22https%3A//cdn.jsdelivr.net/npm/leaflet%401.6.0/dist/leaflet.js%22%3E%3C/script%3E%0A%20%20%20%20%3Cscript%20src%3D%22https%3A//code.jquery.com/jquery-1.12.4.min.js%22%3E%3C/script%3E%0A%20%20%20%20%3Cscript%20src%3D%22https%3A//maxcdn.bootstrapcdn.com/bootstrap/3.2.0/js/bootstrap.min.js%22%3E%3C/script%3E%0A%20%20%20%20%3Cscript%20src%3D%22https%3A//cdnjs.cloudflare.com/ajax/libs/Leaflet.awesome-markers/2.0.2/leaflet.awesome-markers.js%22%3E%3C/script%3E%0A%20%20%20%20%3Clink%20rel%3D%22stylesheet%22%20href%3D%22https%3A//cdn.jsdelivr.net/npm/leaflet%401.6.0/dist/leaflet.css%22/%3E%0A%20%20%20%20%3Clink%20rel%3D%22stylesheet%22%20href%3D%22https%3A//maxcdn.bootstrapcdn.com/bootstrap/3.2.0/css/bootstrap.min.css%22/%3E%0A%20%20%20%20%3Clink%20rel%3D%22stylesheet%22%20href%3D%22https%3A//maxcdn.bootstrapcdn.com/bootstrap/3.2.0/css/bootstrap-theme.min.css%22/%3E%0A%20%20%20%20%3Clink%20rel%3D%22stylesheet%22%20href%3D%22https%3A//maxcdn.bootstrapcdn.com/font-awesome/4.6.3/css/font-awesome.min.css%22/%3E%0A%20%20%20%20%3Clink%20rel%3D%22stylesheet%22%20href%3D%22https%3A//cdnjs.cloudflare.com/ajax/libs/Leaflet.awesome-markers/2.0.2/leaflet.awesome-markers.css%22/%3E%0A%20%20%20%20%3Clink%20rel%3D%22stylesheet%22%20href%3D%22https%3A//cdn.jsdelivr.net/gh/python-visualization/folium/folium/templates/leaflet.awesome.rotate.min.css%22/%3E%0A%20%20%20%20%0A%20%20%20%20%20%20%20%20%20%20%20%20%3Cmeta%20name%3D%22viewport%22%20content%3D%22width%3Ddevice-width%2C%0A%20%20%20%20%20%20%20%20%20%20%20%20%20%20%20%20initial-scale%3D1.0%2C%20maximum-scale%3D1.0%2C%20user-scalable%3Dno%22%20/%3E%0A%20%20%20%20%20%20%20%20%20%20%20%20%3Cstyle%3E%0A%20%20%20%20%20%20%20%20%20%20%20%20%20%20%20%20%23map_8a708c8989a946a9a7dee8e2bfb6790f%20%7B%0A%20%20%20%20%20%20%20%20%20%20%20%20%20%20%20%20%20%20%20%20position%3A%20relative%3B%0A%20%20%20%20%20%20%20%20%20%20%20%20%20%20%20%20%20%20%20%20width%3A%20100.0%25%3B%0A%20%20%20%20%20%20%20%20%20%20%20%20%20%20%20%20%20%20%20%20height%3A%20100.0%25%3B%0A%20%20%20%20%20%20%20%20%20%20%20%20%20%20%20%20%20%20%20%20left%3A%200.0%25%3B%0A%20%20%20%20%20%20%20%20%20%20%20%20%20%20%20%20%20%20%20%20top%3A%200.0%25%3B%0A%20%20%20%20%20%20%20%20%20%20%20%20%20%20%20%20%7D%0A%20%20%20%20%20%20%20%20%20%20%20%20%3C/style%3E%0A%20%20%20%20%20%20%20%20%0A%20%20%20%20%3Cscript%20src%3D%22https%3A//cdnjs.cloudflare.com/ajax/libs/leaflet.fullscreen/1.4.2/Control.FullScreen.min.js%22%3E%3C/script%3E%0A%20%20%20%20%3Clink%20rel%3D%22stylesheet%22%20href%3D%22https%3A//cdnjs.cloudflare.com/ajax/libs/leaflet.fullscreen/1.4.2/Control.FullScreen.min.css%22/%3E%0A%3C/head%3E%0A%3Cbody%3E%20%20%20%20%0A%20%20%20%20%0A%20%20%20%20%20%20%20%20%20%20%20%20%3Cdiv%20class%3D%22folium-map%22%20id%3D%22map_8a708c8989a946a9a7dee8e2bfb6790f%22%20%3E%3C/div%3E%0A%20%20%20%20%20%20%20%20%0A%3C/body%3E%0A%3Cscript%3E%20%20%20%20%0A%20%20%20%20%0A%20%20%20%20%20%20%20%20%20%20%20%20var%20map_8a708c8989a946a9a7dee8e2bfb6790f%20%3D%20L.map%28%0A%20%20%20%20%20%20%20%20%20%20%20%20%20%20%20%20%22map_8a708c8989a946a9a7dee8e2bfb6790f%22%2C%0A%20%20%20%20%20%20%20%20%20%20%20%20%20%20%20%20%7B%0A%20%20%20%20%20%20%20%20%20%20%20%20%20%20%20%20%20%20%20%20center%3A%20%5B40.0%2C%20-100.0%5D%2C%0A%20%20%20%20%20%20%20%20%20%20%20%20%20%20%20%20%20%20%20%20crs%3A%20L.CRS.EPSG3857%2C%0A%20%20%20%20%20%20%20%20%20%20%20%20%20%20%20%20%20%20%20%20zoomControl%3A%20true%2C%0A%20%20%20%20%20%20%20%20%20%20%20%20%20%20%20%20%20%20%20%20preferCanvas%3A%20false%2C%0A%20%20%20%20%20%20%20%20%20%20%20%20%20%20%20%20%20%20%20%20zoom%3A%204%2C%0A%20%20%20%20%20%20%20%20%20%20%20%20%20%20%20%20%7D%0A%20%20%20%20%20%20%20%20%20%20%20%20%29%3B%0A%0A%20%20%20%20%20%20%20%20%20%20%20%20%0A%0A%20%20%20%20%20%20%20%20%0A%20%20%20%20%0A%20%20%20%20%20%20%20%20%20%20%20%20var%20tile_layer_3da7aed7e3c54eb9bed3b56fc4af4449%20%3D%20L.tileLayer%28%0A%20%20%20%20%20%20%20%20%20%20%20%20%20%20%20%20%22https%3A//%7Bs%7D.tile.openstreetmap.org/%7Bz%7D/%7Bx%7D/%7By%7D.png%22%2C%0A%20%20%20%20%20%20%20%20%20%20%20%20%20%20%20%20%7B%22attribution%22%3A%20%22Data%20by%20%5Cu0026copy%3B%20%5Cu003ca%20href%3D%5C%22http%3A//openstreetmap.org%5C%22%5Cu003eOpenStreetMap%5Cu003c/a%5Cu003e%2C%20under%20%5Cu003ca%20href%3D%5C%22http%3A//www.openstreetmap.org/copyright%5C%22%5Cu003eODbL%5Cu003c/a%5Cu003e.%22%2C%20%22detectRetina%22%3A%20false%2C%20%22maxNativeZoom%22%3A%2018%2C%20%22maxZoom%22%3A%2018%2C%20%22minZoom%22%3A%200%2C%20%22noWrap%22%3A%20false%2C%20%22opacity%22%3A%201%2C%20%22subdomains%22%3A%20%22abc%22%2C%20%22tms%22%3A%20false%7D%0A%20%20%20%20%20%20%20%20%20%20%20%20%29.addTo%28map_8a708c8989a946a9a7dee8e2bfb6790f%29%3B%0A%20%20%20%20%20%20%20%20%0A%20%20%20%20%0A%20%20%20%20%20%20%20%20%20%20%20%20map_8a708c8989a946a9a7dee8e2bfb6790f.fitBounds%28%0A%20%20%20%20%20%20%20%20%20%20%20%20%20%20%20%20%5B%5B31.429223568431695%2C%20-86.99369558988536%5D%2C%20%5B31.429223568431695%2C%20-86.99369558988536%5D%5D%2C%0A%20%20%20%20%20%20%20%20%20%20%20%20%20%20%20%20%7B%22maxZoom%22%3A%205%7D%0A%20%20%20%20%20%20%20%20%20%20%20%20%29%3B%0A%20%20%20%20%20%20%20%20%0A%20%20%20%20%0A%20%20%20%20%20%20%20%20%20%20%20%20var%20tile_layer_bd82e99904594c13ab0ada8c526ba8df%20%3D%20L.tileLayer%28%0A%20%20%20%20%20%20%20%20%20%20%20%20%20%20%20%20%22https%3A//earthengine.googleapis.com/v1alpha/projects/earthengine-legacy/maps/a90df8229f4a3475be3a0d70c696f1cc-deb7c2e903d00a6527ac9544f45e5f15/tiles/%7Bz%7D/%7Bx%7D/%7By%7D%22%2C%0A%20%20%20%20%20%20%20%20%20%20%20%20%20%20%20%20%7B%22attribution%22%3A%20%22Google%20Earth%20Engine%22%2C%20%22detectRetina%22%3A%20false%2C%20%22maxNativeZoom%22%3A%2018%2C%20%22maxZoom%22%3A%2018%2C%20%22minZoom%22%3A%200%2C%20%22noWrap%22%3A%20false%2C%20%22opacity%22%3A%201%2C%20%22subdomains%22%3A%20%22abc%22%2C%20%22tms%22%3A%20false%7D%0A%20%20%20%20%20%20%20%20%20%20%20%20%29.addTo%28map_8a708c8989a946a9a7dee8e2bfb6790f%29%3B%0A%20%20%20%20%20%20%20%20%0A%20%20%20%20%0A%20%20%20%20%20%20%20%20%20%20%20%20var%20tile_layer_a969ca6e10a14876bfcc5a820b1772b5%20%3D%20L.tileLayer%28%0A%20%20%20%20%20%20%20%20%20%20%20%20%20%20%20%20%22https%3A//earthengine.googleapis.com/v1alpha/projects/earthengine-legacy/maps/d7e558ad284e4cf180c3cc2a526ea6a7-10c68e5082b0da7e92f77db6d2736eb8/tiles/%7Bz%7D/%7Bx%7D/%7By%7D%22%2C%0A%20%20%20%20%20%20%20%20%20%20%20%20%20%20%20%20%7B%22attribution%22%3A%20%22Google%20Earth%20Engine%22%2C%20%22detectRetina%22%3A%20false%2C%20%22maxNativeZoom%22%3A%2018%2C%20%22maxZoom%22%3A%2018%2C%20%22minZoom%22%3A%200%2C%20%22noWrap%22%3A%20false%2C%20%22opacity%22%3A%201%2C%20%22subdomains%22%3A%20%22abc%22%2C%20%22tms%22%3A%20false%7D%0A%20%20%20%20%20%20%20%20%20%20%20%20%29.addTo%28map_8a708c8989a946a9a7dee8e2bfb6790f%29%3B%0A%20%20%20%20%20%20%20%20%0A%20%20%20%20%0A%20%20%20%20%20%20%20%20%20%20%20%20var%20layer_control_e5998afa8aa2487abfd138b17f2e8617%20%3D%20%7B%0A%20%20%20%20%20%20%20%20%20%20%20%20%20%20%20%20base_layers%20%3A%20%7B%0A%20%20%20%20%20%20%20%20%20%20%20%20%20%20%20%20%20%20%20%20%22openstreetmap%22%20%3A%20tile_layer_3da7aed7e3c54eb9bed3b56fc4af4449%2C%0A%20%20%20%20%20%20%20%20%20%20%20%20%20%20%20%20%7D%2C%0A%20%20%20%20%20%20%20%20%20%20%20%20%20%20%20%20overlays%20%3A%20%20%7B%0A%20%20%20%20%20%20%20%20%20%20%20%20%20%20%20%20%20%20%20%20%22TIGER/2018/Counties%22%20%3A%20tile_layer_bd82e99904594c13ab0ada8c526ba8df%2C%0A%20%20%20%20%20%20%20%20%20%20%20%20%20%20%20%20%20%20%20%20%22county%20outlines%22%20%3A%20tile_layer_a969ca6e10a14876bfcc5a820b1772b5%2C%0A%20%20%20%20%20%20%20%20%20%20%20%20%20%20%20%20%7D%2C%0A%20%20%20%20%20%20%20%20%20%20%20%20%7D%3B%0A%20%20%20%20%20%20%20%20%20%20%20%20L.control.layers%28%0A%20%20%20%20%20%20%20%20%20%20%20%20%20%20%20%20layer_control_e5998afa8aa2487abfd138b17f2e8617.base_layers%2C%0A%20%20%20%20%20%20%20%20%20%20%20%20%20%20%20%20layer_control_e5998afa8aa2487abfd138b17f2e8617.overlays%2C%0A%20%20%20%20%20%20%20%20%20%20%20%20%20%20%20%20%7B%22autoZIndex%22%3A%20true%2C%20%22collapsed%22%3A%20true%2C%20%22position%22%3A%20%22topright%22%7D%0A%20%20%20%20%20%20%20%20%20%20%20%20%29.addTo%28map_8a708c8989a946a9a7dee8e2bfb6790f%29%3B%0A%20%20%20%20%20%20%20%20%0A%20%20%20%20%0A%20%20%20%20%20%20%20%20%20%20%20%20L.control.fullscreen%28%0A%20%20%20%20%20%20%20%20%20%20%20%20%20%20%20%20%7B%22forceSeparateButton%22%3A%20false%2C%20%22position%22%3A%20%22topleft%22%2C%20%22title%22%3A%20%22Full%20Screen%22%2C%20%22titleCancel%22%3A%20%22Exit%20Full%20Screen%22%7D%0A%20%20%20%20%20%20%20%20%20%20%20%20%29.addTo%28map_8a708c8989a946a9a7dee8e2bfb6790f%29%3B%0A%20%20%20%20%20%20%20%20%0A%20%20%20%20%0A%20%20%20%20%20%20%20%20%20%20%20%20%20%20%20%20var%20lat_lng_popup_281f88a149784ed2b83f901e64b4284b%20%3D%20L.popup%28%29%3B%0A%20%20%20%20%20%20%20%20%20%20%20%20%20%20%20%20function%20latLngPop%28e%29%20%7B%0A%20%20%20%20%20%20%20%20%20%20%20%20%20%20%20%20%20%20%20%20lat_lng_popup_281f88a149784ed2b83f901e64b4284b%0A%20%20%20%20%20%20%20%20%20%20%20%20%20%20%20%20%20%20%20%20%20%20%20%20.setLatLng%28e.latlng%29%0A%20%20%20%20%20%20%20%20%20%20%20%20%20%20%20%20%20%20%20%20%20%20%20%20.setContent%28%22Latitude%3A%20%22%20%2B%20e.latlng.lat.toFixed%284%29%20%2B%0A%20%20%20%20%20%20%20%20%20%20%20%20%20%20%20%20%20%20%20%20%20%20%20%20%20%20%20%20%20%20%20%20%20%20%20%20%22%3Cbr%3ELongitude%3A%20%22%20%2B%20e.latlng.lng.toFixed%284%29%29%0A%20%20%20%20%20%20%20%20%20%20%20%20%20%20%20%20%20%20%20%20%20%20%20%20.openOn%28map_8a708c8989a946a9a7dee8e2bfb6790f%29%3B%0A%20%20%20%20%20%20%20%20%20%20%20%20%20%20%20%20%20%20%20%20%7D%0A%20%20%20%20%20%20%20%20%20%20%20%20%20%20%20%20map_8a708c8989a946a9a7dee8e2bfb6790f.on%28%27click%27%2C%20latLngPop%29%3B%0A%20%20%20%20%20%20%20%20%20%20%20%20%0A%3C/script%3E onload=\"this.contentDocument.open();this.contentDocument.write(    decodeURIComponent(this.getAttribute('data-html')));this.contentDocument.close();\" allowfullscreen webkitallowfullscreen mozallowfullscreen></iframe></div></div>"
      ],
      "text/plain": [
       "<folium.folium.Map at 0x7ff34e3ba0b8>"
      ]
     },
     "execution_count": 180,
     "metadata": {},
     "output_type": "execute_result"
    }
   ],
   "source": [
    "Map = folium.Map(location=[40, -100], zoom_start=4)\n",
    "#Map.setOptions('SATELLITE')\n",
    "#Map.setCenter(-99.844, 37.649, 5)\n",
    "Map.centerObject(file_region, 5)\n",
    "Map.addLayer(one_img, {\n",
    "  'min': 0.0,\n",
    "  'max': 4000.0,\n",
    "  'gamma': 1.4,\n",
    "}, 'TIGER/2018/Counties')\n",
    "Map.addLayer(countyOutlines, {}, 'county outlines')\n",
    "#Map.addLayer(dataset, {}, 'for Inspector', false)\n",
    "Map.setControlVisibility(layerControl=True, fullscreenControl=True, latLngPopup=True)\n",
    "Map"
   ]
  },
  {
   "cell_type": "code",
   "execution_count": null,
   "id": "fed7e600-3f00-4556-88d4-421c710f36e5",
   "metadata": {},
   "outputs": [],
   "source": []
  }
 ],
 "metadata": {
  "kernelspec": {
   "display_name": "satellite",
   "language": "python",
   "name": "satellite"
  },
  "language_info": {
   "codemirror_mode": {
    "name": "ipython",
    "version": 3
   },
   "file_extension": ".py",
   "mimetype": "text/x-python",
   "name": "python",
   "nbconvert_exporter": "python",
   "pygments_lexer": "ipython3",
   "version": "3.5.4"
  }
 },
 "nbformat": 4,
 "nbformat_minor": 5
}
