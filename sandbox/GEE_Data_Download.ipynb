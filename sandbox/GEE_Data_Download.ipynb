{
 "cells": [
  {
   "cell_type": "markdown",
   "id": "8f1e9478",
   "metadata": {},
   "source": [
    "## Downlaod Data From GEE"
   ]
  },
  {
   "cell_type": "code",
   "execution_count": null,
   "id": "a1b7b858",
   "metadata": {},
   "outputs": [],
   "source": []
  }
 ],
 "metadata": {
  "kernelspec": {
   "display_name": "Python [conda env:remote_sensing]",
   "language": "python",
   "name": "conda-env-remote_sensing-py"
  },
  "language_info": {
   "codemirror_mode": {
    "name": "ipython",
    "version": 3
   },
   "file_extension": ".py",
   "mimetype": "text/x-python",
   "name": "python",
   "nbconvert_exporter": "python",
   "pygments_lexer": "ipython3",
   "version": "3.7.11"
  }
 },
 "nbformat": 4,
 "nbformat_minor": 5
}
