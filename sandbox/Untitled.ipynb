{
 "cells": [
  {
   "cell_type": "code",
   "execution_count": 1,
   "id": "6231e834-e71e-4539-806e-3a8d23833a01",
   "metadata": {},
   "outputs": [],
   "source": [
    "import ee\n",
    "import time\n",
    "import sys\n",
    "import numpy as np\n",
    "import pandas as pd\n",
    "import itertools\n",
    "import os\n",
    "import urllib"
   ]
  },
  {
   "cell_type": "code",
   "execution_count": 2,
   "id": "99b1fbfe-5543-4991-9ab4-0322a5ae1d5c",
   "metadata": {},
   "outputs": [],
   "source": [
    "ee.Initialize()"
   ]
  },
  {
   "cell_type": "code",
   "execution_count": 6,
   "id": "aa2537cf-4487-4779-aec8-c45b80777253",
   "metadata": {},
   "outputs": [],
   "source": [
    "def export_oneimage(img,folder,name,scale,crs):\n",
    "  task = ee.batch.Export.image(img, name, {\n",
    "      'driveFolder':folder,\n",
    "      'driveFileNamePrefix':name,\n",
    "      'scale':scale,\n",
    "      'crs':crs\n",
    "  })\n",
    "  task.start()\n",
    "  while task.status()['state'] == 'RUNNING':\n",
    "    print ('Running...')\n",
    "    # Perhaps task.cancel() at some point.\n",
    "    time.sleep(10)\n",
    "  print('Done.', task.status())"
   ]
  },
  {
   "cell_type": "code",
   "execution_count": 17,
   "id": "13328af8-f99f-4405-ace0-a2c3d6eca319",
   "metadata": {},
   "outputs": [],
   "source": [
    "countries = ee.FeatureCollection(\"USDOS/LSIB_SIMPLE/2017\")\n",
    "Japan = countries.filter(ee.Filter.eq(\"country_na\",\"Japan\"))\n",
    "c_info = Japan.getInfo()"
   ]
  },
  {
   "cell_type": "code",
   "execution_count": 30,
   "id": "152db0a3-1328-4a28-8137-d24723f1a882",
   "metadata": {},
   "outputs": [],
   "source": [
    "Countries_of_Interest = ['Japan','Ukraine']\n"
   ]
  },
  {
   "cell_type": "code",
   "execution_count": null,
   "id": "b9659b80-2cbb-4af1-a173-16fc7bdb844d",
   "metadata": {},
   "outputs": [],
   "source": []
  }
 ],
 "metadata": {
  "kernelspec": {
   "display_name": "remote_sensing",
   "language": "python",
   "name": "remote_sensing"
  },
  "language_info": {
   "codemirror_mode": {
    "name": "ipython",
    "version": 3
   },
   "file_extension": ".py",
   "mimetype": "text/x-python",
   "name": "python",
   "nbconvert_exporter": "python",
   "pygments_lexer": "ipython3",
   "version": "3.7.11"
  }
 },
 "nbformat": 4,
 "nbformat_minor": 5
}
