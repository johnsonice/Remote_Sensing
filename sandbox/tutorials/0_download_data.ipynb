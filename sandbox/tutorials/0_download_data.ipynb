{
 "cells": [
  {
   "cell_type": "code",
   "execution_count": 3,
   "metadata": {},
   "outputs": [
    {
     "name": "stdout",
     "output_type": "stream",
     "text": [
      "  % Total    % Received % Xferd  Average Speed   Time    Time     Time  Current\n",
      "                                 Dload  Upload   Total   Spent    Left  Speed\n",
      "  0  148M    0     0    0     0      0      0 --:--:--  0:00:01 --:--:--     0Warning: Refusing to overwrite 20190321_174348_0f1a_3B_AnalyticMS.tif: File \n",
      "Warning: exists\n",
      "  0  148M    0  8192    0     0   7204      0  5:59:43  0:00:01  5:59:42  7204\n",
      "curl: (23) Failed writing body (0 != 8192)\n",
      "  % Total    % Received % Xferd  Average Speed   Time    Time     Time  Current\n",
      "                                 Dload  Upload   Total   Spent    Left  Speed\n",
      "  0 10441    0     0    0     0      0      0 --:--:-- --:--:-- --:--:--     0Warning: Refusing to overwrite \n",
      "Warning: 20190321_174348_0f1a_3B_AnalyticMS_metadata.xml: File exists\n",
      " 78 10441   78  8192    0     0  11130      0 --:--:-- --:--:-- --:--:-- 11115\n",
      "curl: (23) Failed writing body (0 != 8192)\n"
     ]
    }
   ],
   "source": [
    "# download 4-Band Analytic PlanetScope asset\n",
    "!curl -O -J https://hello.planet.com/data/s/UG2TX98suVmmi9q/download\n",
    "\n",
    "# download XML metadata\n",
    "!curl -O -J https://hello.planet.com/data/s/jqDQE8xUHiD511e/download"
   ]
  },
  {
   "cell_type": "code",
   "execution_count": 4,
   "metadata": {},
   "outputs": [
    {
     "name": "stdout",
     "output_type": "stream",
     "text": [
      "  % Total    % Received % Xferd  Average Speed   Time    Time     Time  Current\n",
      "                                 Dload  Upload   Total   Spent    Left  Speed\n",
      "  0     0    0     0    0     0      0      0 --:--:-- --:--:-- --:--:--     0Warning: Refusing to overwrite 20160831_180302_0e26_3B_Visual.tif: File exists\n",
      "  0 65.9M    0  8192    0     0  17617      0  1:05:24 --:--:--  1:05:24 17579\n",
      "curl: (23) Failed writing body (0 != 8192)\n"
     ]
    }
   ],
   "source": [
    "# download 3-Band Visual PlanetScope asset\n",
    "!curl -O -J https://hello.planet.com/data/s/ZWwAg1RcmIN5h9R/download"
   ]
  },
  {
   "cell_type": "code",
   "execution_count": null,
   "metadata": {},
   "outputs": [],
   "source": []
  }
 ],
 "metadata": {
  "kernelspec": {
   "display_name": "remote_sensing",
   "language": "python",
   "name": "remote_sensing"
  },
  "language_info": {
   "codemirror_mode": {
    "name": "ipython",
    "version": 3
   },
   "file_extension": ".py",
   "mimetype": "text/x-python",
   "name": "python",
   "nbconvert_exporter": "python",
   "pygments_lexer": "ipython3",
   "version": "3.7.11"
  }
 },
 "nbformat": 4,
 "nbformat_minor": 2
}
