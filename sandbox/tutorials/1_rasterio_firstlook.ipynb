{
 "cells": [
  {
   "cell_type": "markdown",
   "metadata": {},
   "source": [
    "# Reading satellite data with rasterio"
   ]
  },
  {
   "cell_type": "markdown",
   "metadata": {},
   "source": [
    "## Loading a dataset"
   ]
  },
  {
   "cell_type": "code",
   "execution_count": 1,
   "metadata": {},
   "outputs": [],
   "source": [
    "import rasterio\n",
    "\n",
    "# This notebook explores a single 4 band (blue, green, red, NIR) PlanetScope scene in a UTM projection.\n",
    "image_file = \"20190321_174348_0f1a_3B_AnalyticMS.tif\"\n",
    "\n",
    "satdat = rasterio.open(image_file)"
   ]
  },
  {
   "cell_type": "code",
   "execution_count": 2,
   "metadata": {},
   "outputs": [
    {
     "name": "stdout",
     "output_type": "stream",
     "text": [
      "<open DatasetReader name='20190321_174348_0f1a_3B_AnalyticMS.tif' mode='r'>\n",
      "20190321_174348_0f1a_3B_AnalyticMS.tif\n",
      "4\n"
     ]
    }
   ],
   "source": [
    "# satdat is our open dataset object\n",
    "print(satdat)\n",
    "\n",
    "# let's look at some basic information about this geoTIFF:\n",
    "\n",
    "# dataset name\n",
    "print(satdat.name)\n",
    "\n",
    "# number of bands in this dataset\n",
    "print(satdat.count)"
   ]
  },
  {
   "cell_type": "markdown",
   "metadata": {},
   "source": [
    "## Parsing bands"
   ]
  },
  {
   "cell_type": "code",
   "execution_count": 3,
   "metadata": {},
   "outputs": [
    {
     "name": "stdout",
     "output_type": "stream",
     "text": [
      "4\n",
      "(1, 2, 3, 4)\n"
     ]
    }
   ],
   "source": [
    "# The dataset reports a band count.\n",
    "print(satdat.count)\n",
    "\n",
    "# And provides a sequence of band indexes.  These are one indexing, not zero indexing like Numpy arrays.\n",
    "print(satdat.indexes)"
   ]
  },
  {
   "cell_type": "markdown",
   "metadata": {},
   "source": [
    "Because we know we're look at a PlanetScope 4-band analytic satellite image, we can define the bands by their order:"
   ]
  },
  {
   "cell_type": "code",
   "execution_count": 4,
   "metadata": {},
   "outputs": [],
   "source": [
    "# PlanetScope 4-band band order: BGRN\n",
    "\n",
    "blue, green, red, nir = satdat.read()\n",
    "\n",
    "# Or the slightly less efficient:\n",
    "#    blue = satdat.read(1)\n",
    "#    green = satdat.read(2)\n",
    "#    red = satdat.read(3)\n",
    "#    nir = satdat.read(4)\n",
    "\n",
    "# Or read the entire dataset into a single 3D array:\n",
    "#    data = satdat.read()"
   ]
  },
  {
   "cell_type": "code",
   "execution_count": 5,
   "metadata": {},
   "outputs": [
    {
     "name": "stdout",
     "output_type": "stream",
     "text": [
      "uint16\n"
     ]
    }
   ],
   "source": [
    "# each band is stored as a numpy array, and its values are a numpy data type\n",
    "print(blue.dtype)"
   ]
  },
  {
   "cell_type": "code",
   "execution_count": 6,
   "metadata": {},
   "outputs": [
    {
     "name": "stdout",
     "output_type": "stream",
     "text": [
      "width: 4213, height: 8341\n"
     ]
    }
   ],
   "source": [
    "# using the blue band as an example, examine the width & height of the image (in pixels)\n",
    "\n",
    "w = blue.shape[0]\n",
    "h = blue.shape[1]\n",
    "\n",
    "print(\"width: {w}, height: {h}\".format(w=w, h=h))"
   ]
  },
  {
   "cell_type": "code",
   "execution_count": null,
   "metadata": {},
   "outputs": [],
   "source": []
  }
 ],
 "metadata": {
  "kernelspec": {
   "display_name": "remote_sensing",
   "language": "python",
   "name": "remote_sensing"
  },
  "language_info": {
   "codemirror_mode": {
    "name": "ipython",
    "version": 3
   },
   "file_extension": ".py",
   "mimetype": "text/x-python",
   "name": "python",
   "nbconvert_exporter": "python",
   "pygments_lexer": "ipython3",
   "version": "3.7.11"
  }
 },
 "nbformat": 4,
 "nbformat_minor": 2
}
