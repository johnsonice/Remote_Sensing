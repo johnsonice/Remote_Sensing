{
 "cells": [
  {
   "cell_type": "code",
   "execution_count": 25,
   "id": "6231e834-e71e-4539-806e-3a8d23833a01",
   "metadata": {},
   "outputs": [],
   "source": [
    "import ee\n",
    "import time\n",
    "import sys\n",
    "import numpy as np\n",
    "import pandas as pd\n",
    "import itertools\n",
    "import os\n",
    "import urllib\n",
    "import geopandas as gpd\n",
    "import math"
   ]
  },
  {
   "cell_type": "code",
   "execution_count": 2,
   "id": "c02d3877-b78e-4a5c-93c2-107772ccb046",
   "metadata": {},
   "outputs": [],
   "source": [
    "import rasterio\n",
    "import geopandas as gpd\n",
    "import numpy as np\n",
    "import matplotlib.pyplot as plt\n",
    "\n",
    "from pprint import pprint\n",
    "from rasterio.features import Window\n",
    "from rasterio.windows import bounds\n",
    "from shapely.geometry import MultiPolygon, box\n",
    "from PIL import Image\n",
    "from rasterio.features import Window\n",
    "from subprocess import call\n",
    "from IPython import display\n"
   ]
  },
  {
   "cell_type": "code",
   "execution_count": 7,
   "id": "aa2537cf-4487-4779-aec8-c45b80777253",
   "metadata": {},
   "outputs": [],
   "source": [
    "test_tif = 'data/1_1.tif'"
   ]
  },
  {
   "cell_type": "code",
   "execution_count": 8,
   "id": "13328af8-f99f-4405-ace0-a2c3d6eca319",
   "metadata": {},
   "outputs": [],
   "source": [
    "satdat = rasterio.open(test_tif)\n",
    "img = satdat.read()"
   ]
  },
  {
   "cell_type": "code",
   "execution_count": 9,
   "id": "152db0a3-1328-4a28-8137-d24723f1a882",
   "metadata": {},
   "outputs": [
    {
     "name": "stdout",
     "output_type": "stream",
     "text": [
      "data/1_1.tif\n",
      "3087\n",
      "(97, 160)\n",
      "(3087, 97, 160)\n",
      "nan nan\n",
      "{'driver': 'GTiff', 'dtype': 'float32', 'nodata': None, 'width': 160, 'height': 97, 'count': 3087, 'crs': CRS.from_wkt('PROJCS[\"MODIS Sinusoidal\",GEOGCS[\"WGS 84\",DATUM[\"WGS_1984\",SPHEROID[\"WGS 84\",6378137,298.257223563,AUTHORITY[\"EPSG\",\"7030\"]],AUTHORITY[\"EPSG\",\"6326\"]],PRIMEM[\"Greenwich\",0],UNIT[\"degree\",0.0174532925199433,AUTHORITY[\"EPSG\",\"9122\"]],AUTHORITY[\"EPSG\",\"4326\"]],PROJECTION[\"Sinusoidal\"],PARAMETER[\"longitude_of_center\",0],PARAMETER[\"false_easting\",0],PARAMETER[\"false_northing\",0],UNIT[\"metre\",1,AUTHORITY[\"EPSG\",\"9001\"]],AXIS[\"Easting\",EAST],AXIS[\"Northing\",NORTH]]'), 'transform': Affine(463.3127165279165, 0.0, -8158936.938050615,\n",
      "       0.0, -463.3127165279167, 3637004.8247441463), 'blockxsize': 256, 'blockysize': 256, 'tiled': True, 'compress': 'lzw', 'interleave': 'pixel'}\n"
     ]
    },
    {
     "name": "stderr",
     "output_type": "stream",
     "text": [
      "ERROR 1: PROJ: proj_identify: Cannot find proj.db\n",
      "ERROR 1: PROJ: proj_as_wkt: Cannot find proj.db\n"
     ]
    }
   ],
   "source": [
    "# dataset name\n",
    "print(satdat.name)\n",
    "# number of bands in this dataset\n",
    "print(satdat.count)\n",
    "# shape of one band\n",
    "print(satdat.shape)\n",
    "# The dataset shape\n",
    "print(img.shape)\n",
    "# And provides a sequence of band indexes.  These are one indexing, not zero indexing like Numpy arrays.\n",
    "#print(satdat.indexes)\n",
    "\n",
    "# pix range\n",
    "print(np.max(img),np.min(img))\n",
    "# other profile info\n",
    "p = satdat.profile.copy()\n",
    "print(p)"
   ]
  },
  {
   "cell_type": "code",
   "execution_count": 11,
   "id": "d69cece5-9923-47a0-b9e5-688dbf637436",
   "metadata": {},
   "outputs": [
    {
     "name": "stderr",
     "output_type": "stream",
     "text": [
      "ERROR 1: PROJ: proj_identify: Cannot find proj.db\n"
     ]
    },
    {
     "data": {
      "text/plain": [
       "CRS.from_wkt('PROJCS[\"MODIS Sinusoidal\",GEOGCS[\"WGS 84\",DATUM[\"WGS_1984\",SPHEROID[\"WGS 84\",6378137,298.257223563,AUTHORITY[\"EPSG\",\"7030\"]],AUTHORITY[\"EPSG\",\"6326\"]],PRIMEM[\"Greenwich\",0],UNIT[\"degree\",0.0174532925199433,AUTHORITY[\"EPSG\",\"9122\"]],AUTHORITY[\"EPSG\",\"4326\"]],PROJECTION[\"Sinusoidal\"],PARAMETER[\"longitude_of_center\",0],PARAMETER[\"false_easting\",0],PARAMETER[\"false_northing\",0],UNIT[\"metre\",1,AUTHORITY[\"EPSG\",\"9001\"]],AXIS[\"Easting\",EAST],AXIS[\"Northing\",NORTH]]')"
      ]
     },
     "execution_count": 11,
     "metadata": {},
     "output_type": "execute_result"
    }
   ],
   "source": [
    "satdat.crs"
   ]
  },
  {
   "cell_type": "code",
   "execution_count": 12,
   "id": "4cdd129a-cad2-495c-ab35-e60ee336c6e7",
   "metadata": {},
   "outputs": [
    {
     "name": "stdout",
     "output_type": "stream",
     "text": [
      "Top left corner coordinates: (-8158936.938050615, 3637004.8247441463)\n",
      "Bottom right corner coordinates: (-8114458.917263934, 3563338.1028162073)\n"
     ]
    }
   ],
   "source": [
    "# Convert pixel coordinates to world coordinates.\n",
    "# Upper left pixel\n",
    "row_min = 0\n",
    "col_min = 0\n",
    "\n",
    "# Lower right pixel.  Rows and columns are zero indexing.\n",
    "row_max = satdat.height - 1\n",
    "col_max = satdat.width - 1\n",
    "\n",
    "# Transform coordinates with the dataset's affine transformation.\n",
    "topleft = satdat.transform * (row_min, col_min)\n",
    "botright = satdat.transform * (row_max, col_max)\n",
    "\n",
    "print(\"Top left corner coordinates: {}\".format(topleft))\n",
    "print(\"Bottom right corner coordinates: {}\".format(botright))"
   ]
  },
  {
   "cell_type": "code",
   "execution_count": 13,
   "id": "0103146b-4856-4d80-b438-e1c6031fc6b6",
   "metadata": {},
   "outputs": [
    {
     "data": {
      "text/plain": [
       "BoundingBox(left=-8158936.938050615, bottom=3592063.491240938, right=-8084806.903406148, top=3637004.8247441463)"
      ]
     },
     "execution_count": 13,
     "metadata": {},
     "output_type": "execute_result"
    }
   ],
   "source": [
    "satdat.bounds"
   ]
  },
  {
   "cell_type": "code",
   "execution_count": 14,
   "id": "52a4532e-a390-4e4c-99c6-4c0fddef62cb",
   "metadata": {},
   "outputs": [],
   "source": [
    "from pyproj import CRS, Transformer"
   ]
  },
  {
   "cell_type": "code",
   "execution_count": 15,
   "id": "66d9bef8-d342-46ea-8f9f-e931971801e1",
   "metadata": {},
   "outputs": [],
   "source": [
    "latlog = CRS.from_proj4(\"+proj=latlon\")"
   ]
  },
  {
   "cell_type": "code",
   "execution_count": 16,
   "id": "c32b06d6-f411-4b72-9387-3715d5c4d467",
   "metadata": {},
   "outputs": [
    {
     "data": {
      "text/plain": [
       "<Geographic 2D CRS: +proj=latlon +type=crs>\n",
       "Name: unknown\n",
       "Axis Info [ellipsoidal]:\n",
       "- lon[east]: Longitude (degree)\n",
       "- lat[north]: Latitude (degree)\n",
       "Area of Use:\n",
       "- undefined\n",
       "Datum: World Geodetic System 1984\n",
       "- Ellipsoid: WGS 84\n",
       "- Prime Meridian: Greenwich"
      ]
     },
     "execution_count": 16,
     "metadata": {},
     "output_type": "execute_result"
    }
   ],
   "source": [
    "latlog"
   ]
  },
  {
   "cell_type": "code",
   "execution_count": 17,
   "id": "c387e8d5-35b2-4e7c-a8c7-2769a3f47ccb",
   "metadata": {},
   "outputs": [
    {
     "name": "stderr",
     "output_type": "stream",
     "text": [
      "ERROR 1: PROJ: proj_as_wkt: Cannot find proj.db\n"
     ]
    }
   ],
   "source": [
    "transformer = Transformer.from_crs(satdat.crs, latlog)"
   ]
  },
  {
   "cell_type": "code",
   "execution_count": 18,
   "id": "55d50ea8-1d4b-4ace-983d-1e43e3644648",
   "metadata": {},
   "outputs": [
    {
     "name": "stdout",
     "output_type": "stream",
     "text": [
      "31.901283959078533 -87.85355239014226\n"
     ]
    }
   ],
   "source": [
    "lon, lat = transformer.transform(-8310440.196355244, 3530906.2126592537)\n",
    "print(lat,lon)"
   ]
  },
  {
   "cell_type": "code",
   "execution_count": 19,
   "id": "dc42ffd4-6794-4e02-a3c7-d9af36419815",
   "metadata": {},
   "outputs": [
    {
     "name": "stdout",
     "output_type": "stream",
     "text": [
      "(3087, 97, 160)\n"
     ]
    }
   ],
   "source": [
    "print(img.shape)"
   ]
  },
  {
   "cell_type": "code",
   "execution_count": 22,
   "id": "da43834c-5cae-4380-8911-08df383f3af4",
   "metadata": {},
   "outputs": [
    {
     "name": "stdout",
     "output_type": "stream",
     "text": [
      "(97, 160, 3087)\n"
     ]
    }
   ],
   "source": [
    "img2= np.transpose(img,axes=(1,2,0))\n",
    "print(img2.shape)"
   ]
  },
  {
   "cell_type": "code",
   "execution_count": 23,
   "id": "f7364e1d-e8e8-4f6a-a3a9-baecfd5c1b44",
   "metadata": {},
   "outputs": [],
   "source": [
    "bands = 7 \n",
    "composite_period = 8 \n"
   ]
  },
  {
   "cell_type": "code",
   "execution_count": 26,
   "id": "74b095a1-c6d9-4016-8037-30c9244349e5",
   "metadata": {},
   "outputs": [],
   "source": [
    "bands_per_year = bands * math.ceil(365 / composite_period)"
   ]
  },
  {
   "cell_type": "code",
   "execution_count": 27,
   "id": "79b2eff0-7156-4ee5-97e2-19b44bca168f",
   "metadata": {},
   "outputs": [
    {
     "data": {
      "text/plain": [
       "322"
      ]
     },
     "execution_count": 27,
     "metadata": {},
     "output_type": "execute_result"
    }
   ],
   "source": [
    "bands_per_year"
   ]
  },
  {
   "cell_type": "code",
   "execution_count": 28,
   "id": "0378b7b1-a7d9-495b-9953-15e51deb19c5",
   "metadata": {},
   "outputs": [
    {
     "data": {
      "text/plain": [
       "46.0"
      ]
     },
     "execution_count": 28,
     "metadata": {},
     "output_type": "execute_result"
    }
   ],
   "source": [
    "322/7"
   ]
  },
  {
   "cell_type": "code",
   "execution_count": 29,
   "id": "f0028bf8-6e25-4f12-84bf-29e3ffbf00a7",
   "metadata": {},
   "outputs": [],
   "source": [
    "total_bands = img2.shape[2]"
   ]
  },
  {
   "cell_type": "code",
   "execution_count": 30,
   "id": "86d19c1b-0d28-4fc4-a03c-444f885b77dd",
   "metadata": {},
   "outputs": [
    {
     "data": {
      "text/plain": [
       "3087"
      ]
     },
     "execution_count": 30,
     "metadata": {},
     "output_type": "execute_result"
    }
   ],
   "source": [
    "total_bands"
   ]
  },
  {
   "cell_type": "code",
   "execution_count": 43,
   "id": "45f4a715-4ac9-4bae-8d50-3dc37d36a9e9",
   "metadata": {},
   "outputs": [],
   "source": [
    "image_list = []\n",
    "for i in range(0,total_bands-7,bands_per_year):\n",
    "    #print(i,i+bands_per_year)\n",
    "    image_list.append(img2[:, :, i : i + bands_per_year])"
   ]
  },
  {
   "cell_type": "code",
   "execution_count": 44,
   "id": "dbdd83aa-acb4-47b5-b9f0-912367493002",
   "metadata": {},
   "outputs": [
    {
     "data": {
      "text/plain": [
       "10"
      ]
     },
     "execution_count": 44,
     "metadata": {},
     "output_type": "execute_result"
    }
   ],
   "source": [
    "len(image_list)"
   ]
  },
  {
   "cell_type": "code",
   "execution_count": 49,
   "id": "d7410304-4ad0-498f-ae0c-ed2f615106a2",
   "metadata": {},
   "outputs": [
    {
     "data": {
      "text/plain": [
       "(97, 160, 322)"
      ]
     },
     "execution_count": 49,
     "metadata": {},
     "output_type": "execute_result"
    }
   ],
   "source": [
    "image_list[8].shape"
   ]
  },
  {
   "cell_type": "code",
   "execution_count": null,
   "id": "f60d44ee-a1c3-4fa0-8d1e-60ac96c33c54",
   "metadata": {},
   "outputs": [],
   "source": [
    "image_list = []\n",
    "cur_idx = 0\n",
    "for i in range(0, num_years - 1):\n",
    "    image_list.append(img[:, :, cur_idx : cur_idx + bands_per_year])\n",
    "    cur_idx += bands_per_year\n",
    "image_list.append(img[:, :, cur_idx:])\n",
    "return image_list"
   ]
  }
 ],
 "metadata": {
  "kernelspec": {
   "display_name": "remote_sensing",
   "language": "python",
   "name": "remote_sensing"
  },
  "language_info": {
   "codemirror_mode": {
    "name": "ipython",
    "version": 3
   },
   "file_extension": ".py",
   "mimetype": "text/x-python",
   "name": "python",
   "nbconvert_exporter": "python",
   "pygments_lexer": "ipython3",
   "version": "3.7.11"
  }
 },
 "nbformat": 4,
 "nbformat_minor": 5
}
