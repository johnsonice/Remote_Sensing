{
 "cells": [
  {
   "cell_type": "markdown",
   "metadata": {},
   "source": [
    "# Install Earth Engine Python API"
   ]
  },
  {
   "cell_type": "markdown",
   "metadata": {},
   "source": [
    "Install the Earth Engine Python API and geehydro. The geehydro Python package builds on the folium package and implements several methods for displaying Earth Engine data layers, such as Map.addLayer(), Map.setCenter(), Map.centerObject(), and Map.setOptions(). The magic command %%capture can be used to hide output from a specific cell. "
   ]
  },
  {
   "cell_type": "code",
   "execution_count": 1,
   "metadata": {
    "collapsed": true
   },
   "outputs": [
    {
     "name": "stdout",
     "output_type": "stream",
     "text": [
      "Requirement already satisfied: earthengine-api in /home/chengyu/anaconda3/envs/remote_sensing/lib/python3.7/site-packages (0.1.295)\n",
      "Requirement already satisfied: google-api-python-client<2,>=1.12.1 in /home/chengyu/anaconda3/envs/remote_sensing/lib/python3.7/site-packages (from earthengine-api) (1.12.10)\n",
      "Requirement already satisfied: httplib2<1dev,>=0.9.2 in /home/chengyu/anaconda3/envs/remote_sensing/lib/python3.7/site-packages (from earthengine-api) (0.20.2)\n",
      "Requirement already satisfied: google-auth>=1.4.1 in /home/chengyu/anaconda3/envs/remote_sensing/lib/python3.7/site-packages (from earthengine-api) (2.3.3)\n",
      "Requirement already satisfied: google-cloud-storage in /home/chengyu/anaconda3/envs/remote_sensing/lib/python3.7/site-packages (from earthengine-api) (2.1.0)\n",
      "Requirement already satisfied: httplib2shim in /home/chengyu/anaconda3/envs/remote_sensing/lib/python3.7/site-packages (from earthengine-api) (0.0.3)\n",
      "Requirement already satisfied: google-auth-httplib2>=0.0.3 in /home/chengyu/anaconda3/envs/remote_sensing/lib/python3.7/site-packages (from earthengine-api) (0.1.0)\n",
      "Requirement already satisfied: future in /home/chengyu/anaconda3/envs/remote_sensing/lib/python3.7/site-packages (from earthengine-api) (0.18.2)\n",
      "Requirement already satisfied: six in /home/chengyu/anaconda3/envs/remote_sensing/lib/python3.7/site-packages (from earthengine-api) (1.16.0)\n",
      "Requirement already satisfied: uritemplate<4dev,>=3.0.0 in /home/chengyu/anaconda3/envs/remote_sensing/lib/python3.7/site-packages (from google-api-python-client<2,>=1.12.1->earthengine-api) (3.0.1)\n",
      "Requirement already satisfied: google-api-core<3dev,>=1.21.0 in /home/chengyu/anaconda3/envs/remote_sensing/lib/python3.7/site-packages (from google-api-python-client<2,>=1.12.1->earthengine-api) (2.4.0)\n",
      "Requirement already satisfied: protobuf>=3.12.0 in /home/chengyu/anaconda3/envs/remote_sensing/lib/python3.7/site-packages (from google-api-core<3dev,>=1.21.0->google-api-python-client<2,>=1.12.1->earthengine-api) (3.19.3)\n",
      "Requirement already satisfied: googleapis-common-protos<2.0dev,>=1.52.0 in /home/chengyu/anaconda3/envs/remote_sensing/lib/python3.7/site-packages (from google-api-core<3dev,>=1.21.0->google-api-python-client<2,>=1.12.1->earthengine-api) (1.54.0)\n",
      "Requirement already satisfied: setuptools>=40.3.0 in /home/chengyu/anaconda3/envs/remote_sensing/lib/python3.7/site-packages (from google-api-core<3dev,>=1.21.0->google-api-python-client<2,>=1.12.1->earthengine-api) (58.0.4)\n",
      "Requirement already satisfied: requests<3.0.0dev,>=2.18.0 in /home/chengyu/anaconda3/envs/remote_sensing/lib/python3.7/site-packages (from google-api-core<3dev,>=1.21.0->google-api-python-client<2,>=1.12.1->earthengine-api) (2.27.1)\n",
      "Requirement already satisfied: cachetools<5.0,>=2.0.0 in /home/chengyu/anaconda3/envs/remote_sensing/lib/python3.7/site-packages (from google-auth>=1.4.1->earthengine-api) (4.2.4)\n",
      "Requirement already satisfied: pyasn1-modules>=0.2.1 in /home/chengyu/anaconda3/envs/remote_sensing/lib/python3.7/site-packages (from google-auth>=1.4.1->earthengine-api) (0.2.8)\n",
      "Requirement already satisfied: rsa<5,>=3.1.4 in /home/chengyu/anaconda3/envs/remote_sensing/lib/python3.7/site-packages (from google-auth>=1.4.1->earthengine-api) (4.8)\n",
      "Requirement already satisfied: pyparsing!=3.0.0,!=3.0.1,!=3.0.2,!=3.0.3,<4,>=2.4.2 in /home/chengyu/anaconda3/envs/remote_sensing/lib/python3.7/site-packages (from httplib2<1dev,>=0.9.2->earthengine-api) (3.0.6)\n",
      "Requirement already satisfied: pyasn1<0.5.0,>=0.4.6 in /home/chengyu/anaconda3/envs/remote_sensing/lib/python3.7/site-packages (from pyasn1-modules>=0.2.1->google-auth>=1.4.1->earthengine-api) (0.4.8)\n",
      "Requirement already satisfied: idna<4,>=2.5 in /home/chengyu/anaconda3/envs/remote_sensing/lib/python3.7/site-packages (from requests<3.0.0dev,>=2.18.0->google-api-core<3dev,>=1.21.0->google-api-python-client<2,>=1.12.1->earthengine-api) (3.3)\n",
      "Requirement already satisfied: certifi>=2017.4.17 in /home/chengyu/anaconda3/envs/remote_sensing/lib/python3.7/site-packages (from requests<3.0.0dev,>=2.18.0->google-api-core<3dev,>=1.21.0->google-api-python-client<2,>=1.12.1->earthengine-api) (2021.10.8)\n",
      "Requirement already satisfied: urllib3<1.27,>=1.21.1 in /home/chengyu/anaconda3/envs/remote_sensing/lib/python3.7/site-packages (from requests<3.0.0dev,>=2.18.0->google-api-core<3dev,>=1.21.0->google-api-python-client<2,>=1.12.1->earthengine-api) (1.26.8)\n",
      "Requirement already satisfied: charset-normalizer~=2.0.0 in /home/chengyu/anaconda3/envs/remote_sensing/lib/python3.7/site-packages (from requests<3.0.0dev,>=2.18.0->google-api-core<3dev,>=1.21.0->google-api-python-client<2,>=1.12.1->earthengine-api) (2.0.10)\n",
      "Requirement already satisfied: google-resumable-media>=1.3.0 in /home/chengyu/anaconda3/envs/remote_sensing/lib/python3.7/site-packages (from google-cloud-storage->earthengine-api) (2.1.0)\n",
      "Requirement already satisfied: google-cloud-core<3.0dev,>=1.6.0 in /home/chengyu/anaconda3/envs/remote_sensing/lib/python3.7/site-packages (from google-cloud-storage->earthengine-api) (2.2.2)\n",
      "Requirement already satisfied: google-crc32c<2.0dev,>=1.0 in /home/chengyu/anaconda3/envs/remote_sensing/lib/python3.7/site-packages (from google-resumable-media>=1.3.0->google-cloud-storage->earthengine-api) (1.3.0)\n",
      "Collecting geehydro\n",
      "  Downloading geehydro-0.2.0.tar.gz (15 kB)\n",
      "Requirement already satisfied: earthengine-api in /home/chengyu/anaconda3/envs/remote_sensing/lib/python3.7/site-packages (from geehydro) (0.1.295)\n",
      "Requirement already satisfied: folium in /home/chengyu/anaconda3/envs/remote_sensing/lib/python3.7/site-packages (from geehydro) (0.12.1.post1)\n",
      "Requirement already satisfied: click in /home/chengyu/anaconda3/envs/remote_sensing/lib/python3.7/site-packages (from geehydro) (7.1.2)\n",
      "Requirement already satisfied: google-api-python-client<2,>=1.12.1 in /home/chengyu/anaconda3/envs/remote_sensing/lib/python3.7/site-packages (from earthengine-api->geehydro) (1.12.10)\n",
      "Requirement already satisfied: future in /home/chengyu/anaconda3/envs/remote_sensing/lib/python3.7/site-packages (from earthengine-api->geehydro) (0.18.2)\n",
      "Requirement already satisfied: google-cloud-storage in /home/chengyu/anaconda3/envs/remote_sensing/lib/python3.7/site-packages (from earthengine-api->geehydro) (2.1.0)\n",
      "Requirement already satisfied: httplib2shim in /home/chengyu/anaconda3/envs/remote_sensing/lib/python3.7/site-packages (from earthengine-api->geehydro) (0.0.3)\n",
      "Requirement already satisfied: six in /home/chengyu/anaconda3/envs/remote_sensing/lib/python3.7/site-packages (from earthengine-api->geehydro) (1.16.0)\n",
      "Requirement already satisfied: google-auth-httplib2>=0.0.3 in /home/chengyu/anaconda3/envs/remote_sensing/lib/python3.7/site-packages (from earthengine-api->geehydro) (0.1.0)\n",
      "Requirement already satisfied: google-auth>=1.4.1 in /home/chengyu/anaconda3/envs/remote_sensing/lib/python3.7/site-packages (from earthengine-api->geehydro) (2.3.3)\n",
      "Requirement already satisfied: httplib2<1dev,>=0.9.2 in /home/chengyu/anaconda3/envs/remote_sensing/lib/python3.7/site-packages (from earthengine-api->geehydro) (0.20.2)\n",
      "Requirement already satisfied: google-api-core<3dev,>=1.21.0 in /home/chengyu/anaconda3/envs/remote_sensing/lib/python3.7/site-packages (from google-api-python-client<2,>=1.12.1->earthengine-api->geehydro) (2.4.0)\n",
      "Requirement already satisfied: uritemplate<4dev,>=3.0.0 in /home/chengyu/anaconda3/envs/remote_sensing/lib/python3.7/site-packages (from google-api-python-client<2,>=1.12.1->earthengine-api->geehydro) (3.0.1)\n",
      "Requirement already satisfied: googleapis-common-protos<2.0dev,>=1.52.0 in /home/chengyu/anaconda3/envs/remote_sensing/lib/python3.7/site-packages (from google-api-core<3dev,>=1.21.0->google-api-python-client<2,>=1.12.1->earthengine-api->geehydro) (1.54.0)\n",
      "Requirement already satisfied: requests<3.0.0dev,>=2.18.0 in /home/chengyu/anaconda3/envs/remote_sensing/lib/python3.7/site-packages (from google-api-core<3dev,>=1.21.0->google-api-python-client<2,>=1.12.1->earthengine-api->geehydro) (2.27.1)\n",
      "Requirement already satisfied: protobuf>=3.12.0 in /home/chengyu/anaconda3/envs/remote_sensing/lib/python3.7/site-packages (from google-api-core<3dev,>=1.21.0->google-api-python-client<2,>=1.12.1->earthengine-api->geehydro) (3.19.3)\n",
      "Requirement already satisfied: setuptools>=40.3.0 in /home/chengyu/anaconda3/envs/remote_sensing/lib/python3.7/site-packages (from google-api-core<3dev,>=1.21.0->google-api-python-client<2,>=1.12.1->earthengine-api->geehydro) (58.0.4)\n"
     ]
    },
    {
     "name": "stdout",
     "output_type": "stream",
     "text": [
      "Requirement already satisfied: rsa<5,>=3.1.4 in /home/chengyu/anaconda3/envs/remote_sensing/lib/python3.7/site-packages (from google-auth>=1.4.1->earthengine-api->geehydro) (4.8)\n",
      "Requirement already satisfied: cachetools<5.0,>=2.0.0 in /home/chengyu/anaconda3/envs/remote_sensing/lib/python3.7/site-packages (from google-auth>=1.4.1->earthengine-api->geehydro) (4.2.4)\n",
      "Requirement already satisfied: pyasn1-modules>=0.2.1 in /home/chengyu/anaconda3/envs/remote_sensing/lib/python3.7/site-packages (from google-auth>=1.4.1->earthengine-api->geehydro) (0.2.8)\n",
      "Requirement already satisfied: pyparsing!=3.0.0,!=3.0.1,!=3.0.2,!=3.0.3,<4,>=2.4.2 in /home/chengyu/anaconda3/envs/remote_sensing/lib/python3.7/site-packages (from httplib2<1dev,>=0.9.2->earthengine-api->geehydro) (3.0.6)\n",
      "Requirement already satisfied: pyasn1<0.5.0,>=0.4.6 in /home/chengyu/anaconda3/envs/remote_sensing/lib/python3.7/site-packages (from pyasn1-modules>=0.2.1->google-auth>=1.4.1->earthengine-api->geehydro) (0.4.8)\n",
      "Requirement already satisfied: urllib3<1.27,>=1.21.1 in /home/chengyu/anaconda3/envs/remote_sensing/lib/python3.7/site-packages (from requests<3.0.0dev,>=2.18.0->google-api-core<3dev,>=1.21.0->google-api-python-client<2,>=1.12.1->earthengine-api->geehydro) (1.26.8)\n",
      "Requirement already satisfied: certifi>=2017.4.17 in /home/chengyu/anaconda3/envs/remote_sensing/lib/python3.7/site-packages (from requests<3.0.0dev,>=2.18.0->google-api-core<3dev,>=1.21.0->google-api-python-client<2,>=1.12.1->earthengine-api->geehydro) (2021.10.8)\n",
      "Requirement already satisfied: charset-normalizer~=2.0.0 in /home/chengyu/anaconda3/envs/remote_sensing/lib/python3.7/site-packages (from requests<3.0.0dev,>=2.18.0->google-api-core<3dev,>=1.21.0->google-api-python-client<2,>=1.12.1->earthengine-api->geehydro) (2.0.10)\n",
      "Requirement already satisfied: idna<4,>=2.5 in /home/chengyu/anaconda3/envs/remote_sensing/lib/python3.7/site-packages (from requests<3.0.0dev,>=2.18.0->google-api-core<3dev,>=1.21.0->google-api-python-client<2,>=1.12.1->earthengine-api->geehydro) (3.3)\n",
      "Requirement already satisfied: numpy in /home/chengyu/anaconda3/envs/remote_sensing/lib/python3.7/site-packages (from folium->geehydro) (1.19.1)\n",
      "Requirement already satisfied: branca>=0.3.0 in /home/chengyu/anaconda3/envs/remote_sensing/lib/python3.7/site-packages (from folium->geehydro) (0.4.2)\n",
      "Requirement already satisfied: jinja2>=2.9 in /home/chengyu/anaconda3/envs/remote_sensing/lib/python3.7/site-packages (from folium->geehydro) (3.0.3)\n",
      "Requirement already satisfied: MarkupSafe>=2.0 in /home/chengyu/anaconda3/envs/remote_sensing/lib/python3.7/site-packages (from jinja2>=2.9->folium->geehydro) (2.0.1)\n",
      "Requirement already satisfied: google-cloud-core<3.0dev,>=1.6.0 in /home/chengyu/anaconda3/envs/remote_sensing/lib/python3.7/site-packages (from google-cloud-storage->earthengine-api->geehydro) (2.2.2)\n",
      "Requirement already satisfied: google-resumable-media>=1.3.0 in /home/chengyu/anaconda3/envs/remote_sensing/lib/python3.7/site-packages (from google-cloud-storage->earthengine-api->geehydro) (2.1.0)\n",
      "Requirement already satisfied: google-crc32c<2.0dev,>=1.0 in /home/chengyu/anaconda3/envs/remote_sensing/lib/python3.7/site-packages (from google-resumable-media>=1.3.0->google-cloud-storage->earthengine-api->geehydro) (1.3.0)\n",
      "Building wheels for collected packages: geehydro\n",
      "  Building wheel for geehydro (setup.py) ... \u001b[?25ldone\n",
      "\u001b[?25h  Created wheel for geehydro: filename=geehydro-0.2.0-py2.py3-none-any.whl size=10143 sha256=7c1124deefae472f5154035a16225a7452faa877fab8cff36cc9b3c1700a7ca4\n",
      "  Stored in directory: /home/chengyu/.cache/pip/wheels/49/6c/92/019aeb37663078e6666afa9dd336e2d8df72d5683d7d357697\n",
      "Successfully built geehydro\n",
      "Installing collected packages: geehydro\n",
      "Successfully installed geehydro-0.2.0\n"
     ]
    }
   ],
   "source": [
    "# %%capture\n",
    "!pip install earthengine-api\n",
    "!pip install geehydro"
   ]
  },
  {
   "cell_type": "code",
   "execution_count": 3,
   "metadata": {},
   "outputs": [],
   "source": [
    "## Import the Earth Engine library.Also import the folium and geehydro libraries. \n",
    "import ee\n",
    "import folium\n",
    "import geehydro"
   ]
  },
  {
   "cell_type": "markdown",
   "metadata": {},
   "source": [
    "## Authenticate\n",
    "\n",
    "Import the Earth Engine API and run the `ee.Authenticate` function to authenticate your access to Earth Engine servers. Upon running the cell you'll be asked to grant Earth Engine access to your Google account. Follow the instructions printed to the cell.\n",
    "\n",
    "Authenticate and initialize Earth Engine API. You only need to authenticate the Earth Engine API once. Uncomment the line ee.Authenticate() if you are running this notebook for the first time or if you are getting an authentication error."
   ]
  },
  {
   "cell_type": "code",
   "execution_count": 6,
   "metadata": {},
   "outputs": [],
   "source": [
    "#ee.Authenticate()\n",
    "ee.Initialize()"
   ]
  },
  {
   "cell_type": "markdown",
   "metadata": {},
   "source": [
    "## Create an interactive map"
   ]
  },
  {
   "cell_type": "markdown",
   "metadata": {},
   "source": [
    "This step creates an interactive map using folium. The default basemap is the OpenStreetMap. Additional basemaps can be added using the Map.setOptions() function. The optional basemaps can be ROADMAP, SATELLITE, HYBRID, TERRAIN, or ESRI."
   ]
  },
  {
   "cell_type": "code",
   "execution_count": 4,
   "metadata": {},
   "outputs": [],
   "source": [
    "Map = folium.Map(location=[14.09, -59.9358], zoom_start=3) #Brazil latitude, longitude\n",
    "Map.setOptions('HYBRID')"
   ]
  },
  {
   "cell_type": "markdown",
   "metadata": {},
   "source": [
    "## Calculate NDVI "
   ]
  },
  {
   "cell_type": "code",
   "execution_count": 7,
   "metadata": {},
   "outputs": [],
   "source": [
    "#Load countries data\n",
    "countries = ee.FeatureCollection(\"USDOS/LSIB_SIMPLE/2017\");     ##import one database\n",
    "Brazil = countries.filter(ee.Filter.eq(\"country_na\",\"Brazil\")); ## filter brazil only\n",
    "\n",
    "# Load two 5-year Landsat 7 composites.\n",
    "landsat1999 = ee.Image('LANDSAT/LE7_TOA_5YEAR/1999_2003')\n",
    "landsat2008 = ee.Image('LANDSAT/LE7_TOA_5YEAR/2008_2012')\n",
    "\n",
    "# Compute NDVI the hard way.\n",
    "ndvi1999 = landsat1999.select('B4').subtract(landsat1999.select('B3')) \\\n",
    "               .divide(landsat1999.select('B4').add(landsat1999.select('B3')))\n",
    "\n",
    "# Compute NDVI the easy way.\n",
    "ndvi2008 = landsat2008.normalizedDifference(['B4', 'B3'])\n",
    "\n",
    "# Compute the multi-band difference image.\n",
    "diff = landsat2008.subtract(landsat1999)\n",
    "Map.addLayer(diff.clip(Brazil),\n",
    "             {'bands': ['B4', 'B3', 'B2'], 'min': -32, 'max': 32},\n",
    "             'difference')"
   ]
  },
  {
   "cell_type": "markdown",
   "metadata": {},
   "source": [
    "## Display"
   ]
  },
  {
   "cell_type": "code",
   "execution_count": 8,
   "metadata": {
    "scrolled": false
   },
   "outputs": [
    {
     "data": {
      "text/html": [
       "<div style=\"width:100%;\"><div style=\"position:relative;width:100%;height:0;padding-bottom:60%;\"><span style=\"color:#565656\">Make this Notebook Trusted to load map: File -> Trust Notebook</span><iframe src=\"about:blank\" style=\"position:absolute;width:100%;height:100%;left:0;top:0;border:none !important;\" data-html=%3C%21DOCTYPE%20html%3E%0A%3Chead%3E%20%20%20%20%0A%20%20%20%20%3Cmeta%20http-equiv%3D%22content-type%22%20content%3D%22text/html%3B%20charset%3DUTF-8%22%20/%3E%0A%20%20%20%20%0A%20%20%20%20%20%20%20%20%3Cscript%3E%0A%20%20%20%20%20%20%20%20%20%20%20%20L_NO_TOUCH%20%3D%20false%3B%0A%20%20%20%20%20%20%20%20%20%20%20%20L_DISABLE_3D%20%3D%20false%3B%0A%20%20%20%20%20%20%20%20%3C/script%3E%0A%20%20%20%20%0A%20%20%20%20%3Cstyle%3Ehtml%2C%20body%20%7Bwidth%3A%20100%25%3Bheight%3A%20100%25%3Bmargin%3A%200%3Bpadding%3A%200%3B%7D%3C/style%3E%0A%20%20%20%20%3Cstyle%3E%23map%20%7Bposition%3Aabsolute%3Btop%3A0%3Bbottom%3A0%3Bright%3A0%3Bleft%3A0%3B%7D%3C/style%3E%0A%20%20%20%20%3Cscript%20src%3D%22https%3A//cdn.jsdelivr.net/npm/leaflet%401.6.0/dist/leaflet.js%22%3E%3C/script%3E%0A%20%20%20%20%3Cscript%20src%3D%22https%3A//code.jquery.com/jquery-1.12.4.min.js%22%3E%3C/script%3E%0A%20%20%20%20%3Cscript%20src%3D%22https%3A//maxcdn.bootstrapcdn.com/bootstrap/3.2.0/js/bootstrap.min.js%22%3E%3C/script%3E%0A%20%20%20%20%3Cscript%20src%3D%22https%3A//cdnjs.cloudflare.com/ajax/libs/Leaflet.awesome-markers/2.0.2/leaflet.awesome-markers.js%22%3E%3C/script%3E%0A%20%20%20%20%3Clink%20rel%3D%22stylesheet%22%20href%3D%22https%3A//cdn.jsdelivr.net/npm/leaflet%401.6.0/dist/leaflet.css%22/%3E%0A%20%20%20%20%3Clink%20rel%3D%22stylesheet%22%20href%3D%22https%3A//maxcdn.bootstrapcdn.com/bootstrap/3.2.0/css/bootstrap.min.css%22/%3E%0A%20%20%20%20%3Clink%20rel%3D%22stylesheet%22%20href%3D%22https%3A//maxcdn.bootstrapcdn.com/bootstrap/3.2.0/css/bootstrap-theme.min.css%22/%3E%0A%20%20%20%20%3Clink%20rel%3D%22stylesheet%22%20href%3D%22https%3A//maxcdn.bootstrapcdn.com/font-awesome/4.6.3/css/font-awesome.min.css%22/%3E%0A%20%20%20%20%3Clink%20rel%3D%22stylesheet%22%20href%3D%22https%3A//cdnjs.cloudflare.com/ajax/libs/Leaflet.awesome-markers/2.0.2/leaflet.awesome-markers.css%22/%3E%0A%20%20%20%20%3Clink%20rel%3D%22stylesheet%22%20href%3D%22https%3A//cdn.jsdelivr.net/gh/python-visualization/folium/folium/templates/leaflet.awesome.rotate.min.css%22/%3E%0A%20%20%20%20%0A%20%20%20%20%20%20%20%20%20%20%20%20%3Cmeta%20name%3D%22viewport%22%20content%3D%22width%3Ddevice-width%2C%0A%20%20%20%20%20%20%20%20%20%20%20%20%20%20%20%20initial-scale%3D1.0%2C%20maximum-scale%3D1.0%2C%20user-scalable%3Dno%22%20/%3E%0A%20%20%20%20%20%20%20%20%20%20%20%20%3Cstyle%3E%0A%20%20%20%20%20%20%20%20%20%20%20%20%20%20%20%20%23map_2dc2fc5031894968a0dbada9556d0063%20%7B%0A%20%20%20%20%20%20%20%20%20%20%20%20%20%20%20%20%20%20%20%20position%3A%20relative%3B%0A%20%20%20%20%20%20%20%20%20%20%20%20%20%20%20%20%20%20%20%20width%3A%20100.0%25%3B%0A%20%20%20%20%20%20%20%20%20%20%20%20%20%20%20%20%20%20%20%20height%3A%20100.0%25%3B%0A%20%20%20%20%20%20%20%20%20%20%20%20%20%20%20%20%20%20%20%20left%3A%200.0%25%3B%0A%20%20%20%20%20%20%20%20%20%20%20%20%20%20%20%20%20%20%20%20top%3A%200.0%25%3B%0A%20%20%20%20%20%20%20%20%20%20%20%20%20%20%20%20%7D%0A%20%20%20%20%20%20%20%20%20%20%20%20%3C/style%3E%0A%20%20%20%20%20%20%20%20%0A%20%20%20%20%3Cscript%20src%3D%22https%3A//cdnjs.cloudflare.com/ajax/libs/leaflet.fullscreen/1.4.2/Control.FullScreen.min.js%22%3E%3C/script%3E%0A%20%20%20%20%3Clink%20rel%3D%22stylesheet%22%20href%3D%22https%3A//cdnjs.cloudflare.com/ajax/libs/leaflet.fullscreen/1.4.2/Control.FullScreen.min.css%22/%3E%0A%3C/head%3E%0A%3Cbody%3E%20%20%20%20%0A%20%20%20%20%0A%20%20%20%20%20%20%20%20%20%20%20%20%3Cdiv%20class%3D%22folium-map%22%20id%3D%22map_2dc2fc5031894968a0dbada9556d0063%22%20%3E%3C/div%3E%0A%20%20%20%20%20%20%20%20%0A%3C/body%3E%0A%3Cscript%3E%20%20%20%20%0A%20%20%20%20%0A%20%20%20%20%20%20%20%20%20%20%20%20var%20map_2dc2fc5031894968a0dbada9556d0063%20%3D%20L.map%28%0A%20%20%20%20%20%20%20%20%20%20%20%20%20%20%20%20%22map_2dc2fc5031894968a0dbada9556d0063%22%2C%0A%20%20%20%20%20%20%20%20%20%20%20%20%20%20%20%20%7B%0A%20%20%20%20%20%20%20%20%20%20%20%20%20%20%20%20%20%20%20%20center%3A%20%5B14.09%2C%20-59.9358%5D%2C%0A%20%20%20%20%20%20%20%20%20%20%20%20%20%20%20%20%20%20%20%20crs%3A%20L.CRS.EPSG3857%2C%0A%20%20%20%20%20%20%20%20%20%20%20%20%20%20%20%20%20%20%20%20zoom%3A%203%2C%0A%20%20%20%20%20%20%20%20%20%20%20%20%20%20%20%20%20%20%20%20zoomControl%3A%20true%2C%0A%20%20%20%20%20%20%20%20%20%20%20%20%20%20%20%20%20%20%20%20preferCanvas%3A%20false%2C%0A%20%20%20%20%20%20%20%20%20%20%20%20%20%20%20%20%7D%0A%20%20%20%20%20%20%20%20%20%20%20%20%29%3B%0A%0A%20%20%20%20%20%20%20%20%20%20%20%20%0A%0A%20%20%20%20%20%20%20%20%0A%20%20%20%20%0A%20%20%20%20%20%20%20%20%20%20%20%20var%20tile_layer_76ab5ee813134b9db6a2ab71ad122969%20%3D%20L.tileLayer%28%0A%20%20%20%20%20%20%20%20%20%20%20%20%20%20%20%20%22https%3A//%7Bs%7D.tile.openstreetmap.org/%7Bz%7D/%7Bx%7D/%7By%7D.png%22%2C%0A%20%20%20%20%20%20%20%20%20%20%20%20%20%20%20%20%7B%22attribution%22%3A%20%22Data%20by%20%5Cu0026copy%3B%20%5Cu003ca%20href%3D%5C%22http%3A//openstreetmap.org%5C%22%5Cu003eOpenStreetMap%5Cu003c/a%5Cu003e%2C%20under%20%5Cu003ca%20href%3D%5C%22http%3A//www.openstreetmap.org/copyright%5C%22%5Cu003eODbL%5Cu003c/a%5Cu003e.%22%2C%20%22detectRetina%22%3A%20false%2C%20%22maxNativeZoom%22%3A%2018%2C%20%22maxZoom%22%3A%2018%2C%20%22minZoom%22%3A%200%2C%20%22noWrap%22%3A%20false%2C%20%22opacity%22%3A%201%2C%20%22subdomains%22%3A%20%22abc%22%2C%20%22tms%22%3A%20false%7D%0A%20%20%20%20%20%20%20%20%20%20%20%20%29.addTo%28map_2dc2fc5031894968a0dbada9556d0063%29%3B%0A%20%20%20%20%20%20%20%20%0A%20%20%20%20%0A%20%20%20%20%20%20%20%20%20%20%20%20var%20tile_layer_00ae92266672444d805bb57e41745ae0%20%3D%20L.tileLayer%28%0A%20%20%20%20%20%20%20%20%20%20%20%20%20%20%20%20%22https%3A//mt1.google.com/vt/lyrs%3Dy%5Cu0026x%3D%7Bx%7D%5Cu0026y%3D%7By%7D%5Cu0026z%3D%7Bz%7D%22%2C%0A%20%20%20%20%20%20%20%20%20%20%20%20%20%20%20%20%7B%22attribution%22%3A%20%22Google%22%2C%20%22detectRetina%22%3A%20false%2C%20%22maxNativeZoom%22%3A%2018%2C%20%22maxZoom%22%3A%2018%2C%20%22minZoom%22%3A%200%2C%20%22noWrap%22%3A%20false%2C%20%22opacity%22%3A%201%2C%20%22subdomains%22%3A%20%22abc%22%2C%20%22tms%22%3A%20false%7D%0A%20%20%20%20%20%20%20%20%20%20%20%20%29.addTo%28map_2dc2fc5031894968a0dbada9556d0063%29%3B%0A%20%20%20%20%20%20%20%20%0A%20%20%20%20%0A%20%20%20%20%20%20%20%20%20%20%20%20var%20tile_layer_18daa2eb239444b8be57ee30cd4be4aa%20%3D%20L.tileLayer%28%0A%20%20%20%20%20%20%20%20%20%20%20%20%20%20%20%20%22https%3A//earthengine.googleapis.com/v1alpha/projects/earthengine-legacy/maps/c453903f78bc5da68a0c8acc8eca1e92-f83599b22f854fb84cbeca4b4f38221b/tiles/%7Bz%7D/%7Bx%7D/%7By%7D%22%2C%0A%20%20%20%20%20%20%20%20%20%20%20%20%20%20%20%20%7B%22attribution%22%3A%20%22Google%20Earth%20Engine%22%2C%20%22detectRetina%22%3A%20false%2C%20%22maxNativeZoom%22%3A%2018%2C%20%22maxZoom%22%3A%2018%2C%20%22minZoom%22%3A%200%2C%20%22noWrap%22%3A%20false%2C%20%22opacity%22%3A%201%2C%20%22subdomains%22%3A%20%22abc%22%2C%20%22tms%22%3A%20false%7D%0A%20%20%20%20%20%20%20%20%20%20%20%20%29.addTo%28map_2dc2fc5031894968a0dbada9556d0063%29%3B%0A%20%20%20%20%20%20%20%20%0A%20%20%20%20%0A%20%20%20%20%20%20%20%20%20%20%20%20var%20layer_control_9649424c8fc34e7d881361db0ea03a61%20%3D%20%7B%0A%20%20%20%20%20%20%20%20%20%20%20%20%20%20%20%20base_layers%20%3A%20%7B%0A%20%20%20%20%20%20%20%20%20%20%20%20%20%20%20%20%20%20%20%20%22openstreetmap%22%20%3A%20tile_layer_76ab5ee813134b9db6a2ab71ad122969%2C%0A%20%20%20%20%20%20%20%20%20%20%20%20%20%20%20%20%7D%2C%0A%20%20%20%20%20%20%20%20%20%20%20%20%20%20%20%20overlays%20%3A%20%20%7B%0A%20%20%20%20%20%20%20%20%20%20%20%20%20%20%20%20%20%20%20%20%22Google%20Satellite%22%20%3A%20tile_layer_00ae92266672444d805bb57e41745ae0%2C%0A%20%20%20%20%20%20%20%20%20%20%20%20%20%20%20%20%20%20%20%20%22difference%22%20%3A%20tile_layer_18daa2eb239444b8be57ee30cd4be4aa%2C%0A%20%20%20%20%20%20%20%20%20%20%20%20%20%20%20%20%7D%2C%0A%20%20%20%20%20%20%20%20%20%20%20%20%7D%3B%0A%20%20%20%20%20%20%20%20%20%20%20%20L.control.layers%28%0A%20%20%20%20%20%20%20%20%20%20%20%20%20%20%20%20layer_control_9649424c8fc34e7d881361db0ea03a61.base_layers%2C%0A%20%20%20%20%20%20%20%20%20%20%20%20%20%20%20%20layer_control_9649424c8fc34e7d881361db0ea03a61.overlays%2C%0A%20%20%20%20%20%20%20%20%20%20%20%20%20%20%20%20%7B%22autoZIndex%22%3A%20true%2C%20%22collapsed%22%3A%20true%2C%20%22position%22%3A%20%22topright%22%7D%0A%20%20%20%20%20%20%20%20%20%20%20%20%29.addTo%28map_2dc2fc5031894968a0dbada9556d0063%29%3B%0A%20%20%20%20%20%20%20%20%0A%20%20%20%20%0A%20%20%20%20%20%20%20%20%20%20%20%20L.control.fullscreen%28%0A%20%20%20%20%20%20%20%20%20%20%20%20%20%20%20%20%7B%22forceSeparateButton%22%3A%20false%2C%20%22position%22%3A%20%22topleft%22%2C%20%22title%22%3A%20%22Full%20Screen%22%2C%20%22titleCancel%22%3A%20%22Exit%20Full%20Screen%22%7D%0A%20%20%20%20%20%20%20%20%20%20%20%20%29.addTo%28map_2dc2fc5031894968a0dbada9556d0063%29%3B%0A%20%20%20%20%20%20%20%20%0A%20%20%20%20%0A%20%20%20%20%20%20%20%20%20%20%20%20%20%20%20%20var%20lat_lng_popup_2630dbb5c8f94d04bda7efe345bc6882%20%3D%20L.popup%28%29%3B%0A%20%20%20%20%20%20%20%20%20%20%20%20%20%20%20%20function%20latLngPop%28e%29%20%7B%0A%20%20%20%20%20%20%20%20%20%20%20%20%20%20%20%20%20%20%20%20lat_lng_popup_2630dbb5c8f94d04bda7efe345bc6882%0A%20%20%20%20%20%20%20%20%20%20%20%20%20%20%20%20%20%20%20%20%20%20%20%20.setLatLng%28e.latlng%29%0A%20%20%20%20%20%20%20%20%20%20%20%20%20%20%20%20%20%20%20%20%20%20%20%20.setContent%28%22Latitude%3A%20%22%20%2B%20e.latlng.lat.toFixed%284%29%20%2B%0A%20%20%20%20%20%20%20%20%20%20%20%20%20%20%20%20%20%20%20%20%20%20%20%20%20%20%20%20%20%20%20%20%20%20%20%20%22%3Cbr%3ELongitude%3A%20%22%20%2B%20e.latlng.lng.toFixed%284%29%29%0A%20%20%20%20%20%20%20%20%20%20%20%20%20%20%20%20%20%20%20%20%20%20%20%20.openOn%28map_2dc2fc5031894968a0dbada9556d0063%29%3B%0A%20%20%20%20%20%20%20%20%20%20%20%20%20%20%20%20%20%20%20%20%7D%0A%20%20%20%20%20%20%20%20%20%20%20%20%20%20%20%20map_2dc2fc5031894968a0dbada9556d0063.on%28%27click%27%2C%20latLngPop%29%3B%0A%20%20%20%20%20%20%20%20%20%20%20%20%0A%3C/script%3E onload=\"this.contentDocument.open();this.contentDocument.write(    decodeURIComponent(this.getAttribute('data-html')));this.contentDocument.close();\" allowfullscreen webkitallowfullscreen mozallowfullscreen></iframe></div></div>"
      ],
      "text/plain": [
       "<folium.folium.Map at 0x7fc39541ce90>"
      ]
     },
     "execution_count": 8,
     "metadata": {},
     "output_type": "execute_result"
    }
   ],
   "source": [
    "Map.setControlVisibility(layerControl=True, fullscreenControl=True, latLngPopup=True)\n",
    "Map"
   ]
  },
  {
   "cell_type": "code",
   "execution_count": null,
   "metadata": {},
   "outputs": [],
   "source": []
  }
 ],
 "metadata": {
  "kernelspec": {
   "display_name": "Python 3 (ipykernel)",
   "language": "python",
   "name": "python3"
  },
  "language_info": {
   "codemirror_mode": {
    "name": "ipython",
    "version": 3
   },
   "file_extension": ".py",
   "mimetype": "text/x-python",
   "name": "python",
   "nbconvert_exporter": "python",
   "pygments_lexer": "ipython3",
   "version": "3.7.11"
  }
 },
 "nbformat": 4,
 "nbformat_minor": 2
}
